{
  "nbformat": 4,
  "nbformat_minor": 0,
  "metadata": {
    "colab": {
      "name": "CLAIM (model)",
      "provenance": [],
      "collapsed_sections": []
    },
    "kernelspec": {
      "name": "python3",
      "display_name": "Python 3"
    },
    "language_info": {
      "name": "python"
    }
  },
  "cells": [
    {
      "cell_type": "code",
      "metadata": {
        "id": "toHI1l6xh04o"
      },
      "source": [
        "import pandas as pd\n",
        "import numpy as np\n",
        "import sklearn"
      ],
      "execution_count": 219,
      "outputs": []
    },
    {
      "cell_type": "code",
      "metadata": {
        "id": "Q9sD2gfgh9qm"
      },
      "source": [
        "df = pd.read_csv('CLAIM.csv')"
      ],
      "execution_count": 220,
      "outputs": []
    },
    {
      "cell_type": "code",
      "metadata": {
        "colab": {
          "base_uri": "https://localhost:8080/",
          "height": 713
        },
        "id": "UFhK1baocAXT",
        "outputId": "3ff0e745-5975-40d8-a42a-ac5c7af2066a"
      },
      "source": [
        "df.head(10)"
      ],
      "execution_count": 221,
      "outputs": [
        {
          "output_type": "execute_result",
          "data": {
            "text/html": [
              "<div>\n",
              "<style scoped>\n",
              "    .dataframe tbody tr th:only-of-type {\n",
              "        vertical-align: middle;\n",
              "    }\n",
              "\n",
              "    .dataframe tbody tr th {\n",
              "        vertical-align: top;\n",
              "    }\n",
              "\n",
              "    .dataframe thead th {\n",
              "        text-align: right;\n",
              "    }\n",
              "</style>\n",
              "<table border=\"1\" class=\"dataframe\">\n",
              "  <thead>\n",
              "    <tr style=\"text-align: right;\">\n",
              "      <th></th>\n",
              "      <th>ID</th>\n",
              "      <th>CHILD_DRIV</th>\n",
              "      <th>AGE</th>\n",
              "      <th>CHILDREN</th>\n",
              "      <th>YOJ</th>\n",
              "      <th>INCOME</th>\n",
              "      <th>HOUSE_VAL</th>\n",
              "      <th>STATUS</th>\n",
              "      <th>GENDER</th>\n",
              "      <th>EDU_LEVEL</th>\n",
              "      <th>JOB</th>\n",
              "      <th>DISTANCE</th>\n",
              "      <th>CAR_USE</th>\n",
              "      <th>VEHICLE_VAL</th>\n",
              "      <th>VEHICLE_TYPE</th>\n",
              "      <th>CLM_FREQ</th>\n",
              "      <th>REVOKED</th>\n",
              "      <th>MVR_PTS</th>\n",
              "      <th>CLAIM_AMOUNT</th>\n",
              "      <th>VEHICLE_AGE</th>\n",
              "      <th>CLAIM_IND</th>\n",
              "      <th>AREA</th>\n",
              "      <th>STATE_CODE</th>\n",
              "    </tr>\n",
              "  </thead>\n",
              "  <tbody>\n",
              "    <tr>\n",
              "      <th>0</th>\n",
              "      <td>6.921625e+09</td>\n",
              "      <td>0</td>\n",
              "      <td>67.0</td>\n",
              "      <td>0</td>\n",
              "      <td>14.0</td>\n",
              "      <td>$53,841</td>\n",
              "      <td>$359,229</td>\n",
              "      <td>z_No</td>\n",
              "      <td>Mal</td>\n",
              "      <td>Bachelors</td>\n",
              "      <td>None</td>\n",
              "      <td>71</td>\n",
              "      <td>Private</td>\n",
              "      <td>$21,970</td>\n",
              "      <td>Family</td>\n",
              "      <td>0</td>\n",
              "      <td>No</td>\n",
              "      <td>2</td>\n",
              "      <td>$294</td>\n",
              "      <td>12.0</td>\n",
              "      <td>0</td>\n",
              "      <td>Highly Urban/ Urban</td>\n",
              "      <td>Berlin</td>\n",
              "    </tr>\n",
              "    <tr>\n",
              "      <th>1</th>\n",
              "      <td>1.227899e+09</td>\n",
              "      <td>0</td>\n",
              "      <td>26.0</td>\n",
              "      <td>1</td>\n",
              "      <td>13.0</td>\n",
              "      <td>$16,999</td>\n",
              "      <td>$265,527</td>\n",
              "      <td>NaN</td>\n",
              "      <td>Fem</td>\n",
              "      <td>z_High School</td>\n",
              "      <td>Clerical</td>\n",
              "      <td>50</td>\n",
              "      <td>Private</td>\n",
              "      <td>$4,010</td>\n",
              "      <td>unknown</td>\n",
              "      <td>4</td>\n",
              "      <td>No</td>\n",
              "      <td>7</td>\n",
              "      <td>$292</td>\n",
              "      <td>12.0</td>\n",
              "      <td>0</td>\n",
              "      <td>Highly Urban/ Urban</td>\n",
              "      <td>Thueringen</td>\n",
              "    </tr>\n",
              "    <tr>\n",
              "      <th>2</th>\n",
              "      <td>1.950524e+09</td>\n",
              "      <td>0</td>\n",
              "      <td>71.0</td>\n",
              "      <td>0</td>\n",
              "      <td>17.0</td>\n",
              "      <td>NaN</td>\n",
              "      <td>$323,918</td>\n",
              "      <td>Yes</td>\n",
              "      <td>Mal</td>\n",
              "      <td>&lt;High School</td>\n",
              "      <td>Teacher</td>\n",
              "      <td>77</td>\n",
              "      <td>Private</td>\n",
              "      <td>$15,440</td>\n",
              "      <td>Minivan</td>\n",
              "      <td>0</td>\n",
              "      <td>No</td>\n",
              "      <td>0</td>\n",
              "      <td>$387</td>\n",
              "      <td>8.0</td>\n",
              "      <td>0</td>\n",
              "      <td>Highly Urban/ Urban</td>\n",
              "      <td>Bayern</td>\n",
              "    </tr>\n",
              "    <tr>\n",
              "      <th>3</th>\n",
              "      <td>1.743448e+09</td>\n",
              "      <td>0</td>\n",
              "      <td>68.0</td>\n",
              "      <td>0</td>\n",
              "      <td>NaN</td>\n",
              "      <td>$115,546</td>\n",
              "      <td>$361,705</td>\n",
              "      <td>Yes</td>\n",
              "      <td>Fem</td>\n",
              "      <td>PhD</td>\n",
              "      <td>Doctor</td>\n",
              "      <td>81</td>\n",
              "      <td>Private</td>\n",
              "      <td>$18,000</td>\n",
              "      <td>unknown</td>\n",
              "      <td>4</td>\n",
              "      <td>Yes</td>\n",
              "      <td>3</td>\n",
              "      <td>$308</td>\n",
              "      <td>19.0</td>\n",
              "      <td>0</td>\n",
              "      <td>Highly Urban/ Urban</td>\n",
              "      <td>Bayern</td>\n",
              "    </tr>\n",
              "    <tr>\n",
              "      <th>4</th>\n",
              "      <td>7.371333e+09</td>\n",
              "      <td>0</td>\n",
              "      <td>32.0</td>\n",
              "      <td>1</td>\n",
              "      <td>15.0</td>\n",
              "      <td>$125,861</td>\n",
              "      <td>$70,668</td>\n",
              "      <td>z_No</td>\n",
              "      <td>Fem</td>\n",
              "      <td>Bachelors</td>\n",
              "      <td>Teacher</td>\n",
              "      <td>91</td>\n",
              "      <td>Commercial</td>\n",
              "      <td>$17,430</td>\n",
              "      <td>Sports Car</td>\n",
              "      <td>0</td>\n",
              "      <td>No</td>\n",
              "      <td>0</td>\n",
              "      <td>$3,221</td>\n",
              "      <td>9.0</td>\n",
              "      <td>1</td>\n",
              "      <td>Highly Urban/ Urban</td>\n",
              "      <td>Bayern</td>\n",
              "    </tr>\n",
              "    <tr>\n",
              "      <th>5</th>\n",
              "      <td>4.792606e+09</td>\n",
              "      <td>0</td>\n",
              "      <td>60.0</td>\n",
              "      <td>0</td>\n",
              "      <td>NaN</td>\n",
              "      <td>$19,715</td>\n",
              "      <td>NaN</td>\n",
              "      <td>Yes</td>\n",
              "      <td>Fem</td>\n",
              "      <td>&lt;High School</td>\n",
              "      <td>Teacher</td>\n",
              "      <td>78</td>\n",
              "      <td>Private</td>\n",
              "      <td>$8,780</td>\n",
              "      <td>unknown</td>\n",
              "      <td>0</td>\n",
              "      <td>No</td>\n",
              "      <td>0</td>\n",
              "      <td>$308</td>\n",
              "      <td>3.0</td>\n",
              "      <td>0</td>\n",
              "      <td>Highly Urban/ Urban</td>\n",
              "      <td>Bayern</td>\n",
              "    </tr>\n",
              "    <tr>\n",
              "      <th>6</th>\n",
              "      <td>7.008255e+09</td>\n",
              "      <td>1</td>\n",
              "      <td>49.0</td>\n",
              "      <td>1</td>\n",
              "      <td>14.0</td>\n",
              "      <td>$51,375</td>\n",
              "      <td>$530,010</td>\n",
              "      <td>NaN</td>\n",
              "      <td>Mal</td>\n",
              "      <td>z_High School</td>\n",
              "      <td>None</td>\n",
              "      <td>66</td>\n",
              "      <td>Private</td>\n",
              "      <td>$18,930</td>\n",
              "      <td>Minivan</td>\n",
              "      <td>3</td>\n",
              "      <td>No</td>\n",
              "      <td>2</td>\n",
              "      <td>$6,658</td>\n",
              "      <td>3.0</td>\n",
              "      <td>1</td>\n",
              "      <td>Highly Urban/ Urban</td>\n",
              "      <td>Bayern</td>\n",
              "    </tr>\n",
              "    <tr>\n",
              "      <th>7</th>\n",
              "      <td>6.003886e+09</td>\n",
              "      <td>0</td>\n",
              "      <td>68.0</td>\n",
              "      <td>2</td>\n",
              "      <td>15.0</td>\n",
              "      <td>$44,446</td>\n",
              "      <td>$111,891</td>\n",
              "      <td>z_No</td>\n",
              "      <td>Fem</td>\n",
              "      <td>&lt;High School</td>\n",
              "      <td>Teacher</td>\n",
              "      <td>75</td>\n",
              "      <td>Commercial</td>\n",
              "      <td>$5,900</td>\n",
              "      <td>unknown</td>\n",
              "      <td>0</td>\n",
              "      <td>No</td>\n",
              "      <td>2</td>\n",
              "      <td>$203</td>\n",
              "      <td>12.0</td>\n",
              "      <td>0</td>\n",
              "      <td>z_Highly Rural/ Rural</td>\n",
              "      <td>Bayern</td>\n",
              "    </tr>\n",
              "    <tr>\n",
              "      <th>8</th>\n",
              "      <td>4.892513e+09</td>\n",
              "      <td>1</td>\n",
              "      <td>58.0</td>\n",
              "      <td>2</td>\n",
              "      <td>NaN</td>\n",
              "      <td>$108,921</td>\n",
              "      <td>$480,905</td>\n",
              "      <td>Yes</td>\n",
              "      <td>Mal</td>\n",
              "      <td>Bachelors</td>\n",
              "      <td>Teacher</td>\n",
              "      <td>89</td>\n",
              "      <td>Commercial</td>\n",
              "      <td>$16,970</td>\n",
              "      <td>Van</td>\n",
              "      <td>1</td>\n",
              "      <td>Yes</td>\n",
              "      <td>10</td>\n",
              "      <td>$4,312</td>\n",
              "      <td>9.0</td>\n",
              "      <td>1</td>\n",
              "      <td>Highly Urban/ Urban</td>\n",
              "      <td>Bayern</td>\n",
              "    </tr>\n",
              "    <tr>\n",
              "      <th>9</th>\n",
              "      <td>3.577688e+09</td>\n",
              "      <td>0</td>\n",
              "      <td>23.0</td>\n",
              "      <td>0</td>\n",
              "      <td>13.0</td>\n",
              "      <td>$64,338</td>\n",
              "      <td>$300,339</td>\n",
              "      <td>z_No</td>\n",
              "      <td>Fem</td>\n",
              "      <td>Bachelors</td>\n",
              "      <td>Clerical</td>\n",
              "      <td>79</td>\n",
              "      <td>Private</td>\n",
              "      <td>$11,200</td>\n",
              "      <td>unknown</td>\n",
              "      <td>0</td>\n",
              "      <td>No</td>\n",
              "      <td>4</td>\n",
              "      <td>$2,734</td>\n",
              "      <td>3.0</td>\n",
              "      <td>1</td>\n",
              "      <td>Highly Urban/ Urban</td>\n",
              "      <td>Berlin</td>\n",
              "    </tr>\n",
              "  </tbody>\n",
              "</table>\n",
              "</div>"
            ],
            "text/plain": [
              "             ID  CHILD_DRIV   AGE  ...  CLAIM_IND                   AREA  STATE_CODE\n",
              "0  6.921625e+09           0  67.0  ...          0    Highly Urban/ Urban      Berlin\n",
              "1  1.227899e+09           0  26.0  ...          0    Highly Urban/ Urban  Thueringen\n",
              "2  1.950524e+09           0  71.0  ...          0    Highly Urban/ Urban      Bayern\n",
              "3  1.743448e+09           0  68.0  ...          0    Highly Urban/ Urban      Bayern\n",
              "4  7.371333e+09           0  32.0  ...          1    Highly Urban/ Urban      Bayern\n",
              "5  4.792606e+09           0  60.0  ...          0    Highly Urban/ Urban      Bayern\n",
              "6  7.008255e+09           1  49.0  ...          1    Highly Urban/ Urban      Bayern\n",
              "7  6.003886e+09           0  68.0  ...          0  z_Highly Rural/ Rural      Bayern\n",
              "8  4.892513e+09           1  58.0  ...          1    Highly Urban/ Urban      Bayern\n",
              "9  3.577688e+09           0  23.0  ...          1    Highly Urban/ Urban      Berlin\n",
              "\n",
              "[10 rows x 23 columns]"
            ]
          },
          "metadata": {
            "tags": []
          },
          "execution_count": 221
        }
      ]
    },
    {
      "cell_type": "code",
      "metadata": {
        "id": "ryvv1_XJbmaT"
      },
      "source": [
        "df = df.replace('\\$','',regex=True)\n",
        "df = df.replace('\\,','.',regex=True)\n"
      ],
      "execution_count": 222,
      "outputs": []
    },
    {
      "cell_type": "code",
      "metadata": {
        "id": "GxTUbeUI3NKT"
      },
      "source": [
        "df['HOUSE_VAL'] = df['HOUSE_VAL'].str.replace('.','')"
      ],
      "execution_count": 223,
      "outputs": []
    },
    {
      "cell_type": "code",
      "metadata": {
        "colab": {
          "base_uri": "https://localhost:8080/",
          "height": 391
        },
        "id": "lPsGDWwUjO3y",
        "outputId": "70342ad2-c29c-4d9a-f8d5-4e997e7cf060"
      },
      "source": [
        "df.head()\n"
      ],
      "execution_count": 224,
      "outputs": [
        {
          "output_type": "execute_result",
          "data": {
            "text/html": [
              "<div>\n",
              "<style scoped>\n",
              "    .dataframe tbody tr th:only-of-type {\n",
              "        vertical-align: middle;\n",
              "    }\n",
              "\n",
              "    .dataframe tbody tr th {\n",
              "        vertical-align: top;\n",
              "    }\n",
              "\n",
              "    .dataframe thead th {\n",
              "        text-align: right;\n",
              "    }\n",
              "</style>\n",
              "<table border=\"1\" class=\"dataframe\">\n",
              "  <thead>\n",
              "    <tr style=\"text-align: right;\">\n",
              "      <th></th>\n",
              "      <th>ID</th>\n",
              "      <th>CHILD_DRIV</th>\n",
              "      <th>AGE</th>\n",
              "      <th>CHILDREN</th>\n",
              "      <th>YOJ</th>\n",
              "      <th>INCOME</th>\n",
              "      <th>HOUSE_VAL</th>\n",
              "      <th>STATUS</th>\n",
              "      <th>GENDER</th>\n",
              "      <th>EDU_LEVEL</th>\n",
              "      <th>JOB</th>\n",
              "      <th>DISTANCE</th>\n",
              "      <th>CAR_USE</th>\n",
              "      <th>VEHICLE_VAL</th>\n",
              "      <th>VEHICLE_TYPE</th>\n",
              "      <th>CLM_FREQ</th>\n",
              "      <th>REVOKED</th>\n",
              "      <th>MVR_PTS</th>\n",
              "      <th>CLAIM_AMOUNT</th>\n",
              "      <th>VEHICLE_AGE</th>\n",
              "      <th>CLAIM_IND</th>\n",
              "      <th>AREA</th>\n",
              "      <th>STATE_CODE</th>\n",
              "    </tr>\n",
              "  </thead>\n",
              "  <tbody>\n",
              "    <tr>\n",
              "      <th>0</th>\n",
              "      <td>6.921625e+09</td>\n",
              "      <td>0</td>\n",
              "      <td>67.0</td>\n",
              "      <td>0</td>\n",
              "      <td>14.0</td>\n",
              "      <td>53.841</td>\n",
              "      <td>359229</td>\n",
              "      <td>z_No</td>\n",
              "      <td>Mal</td>\n",
              "      <td>Bachelors</td>\n",
              "      <td>None</td>\n",
              "      <td>71</td>\n",
              "      <td>Private</td>\n",
              "      <td>21.970</td>\n",
              "      <td>Family</td>\n",
              "      <td>0</td>\n",
              "      <td>No</td>\n",
              "      <td>2</td>\n",
              "      <td>294</td>\n",
              "      <td>12.0</td>\n",
              "      <td>0</td>\n",
              "      <td>Highly Urban/ Urban</td>\n",
              "      <td>Berlin</td>\n",
              "    </tr>\n",
              "    <tr>\n",
              "      <th>1</th>\n",
              "      <td>1.227899e+09</td>\n",
              "      <td>0</td>\n",
              "      <td>26.0</td>\n",
              "      <td>1</td>\n",
              "      <td>13.0</td>\n",
              "      <td>16.999</td>\n",
              "      <td>265527</td>\n",
              "      <td>NaN</td>\n",
              "      <td>Fem</td>\n",
              "      <td>z_High School</td>\n",
              "      <td>Clerical</td>\n",
              "      <td>50</td>\n",
              "      <td>Private</td>\n",
              "      <td>4.010</td>\n",
              "      <td>unknown</td>\n",
              "      <td>4</td>\n",
              "      <td>No</td>\n",
              "      <td>7</td>\n",
              "      <td>292</td>\n",
              "      <td>12.0</td>\n",
              "      <td>0</td>\n",
              "      <td>Highly Urban/ Urban</td>\n",
              "      <td>Thueringen</td>\n",
              "    </tr>\n",
              "    <tr>\n",
              "      <th>2</th>\n",
              "      <td>1.950524e+09</td>\n",
              "      <td>0</td>\n",
              "      <td>71.0</td>\n",
              "      <td>0</td>\n",
              "      <td>17.0</td>\n",
              "      <td>NaN</td>\n",
              "      <td>323918</td>\n",
              "      <td>Yes</td>\n",
              "      <td>Mal</td>\n",
              "      <td>&lt;High School</td>\n",
              "      <td>Teacher</td>\n",
              "      <td>77</td>\n",
              "      <td>Private</td>\n",
              "      <td>15.440</td>\n",
              "      <td>Minivan</td>\n",
              "      <td>0</td>\n",
              "      <td>No</td>\n",
              "      <td>0</td>\n",
              "      <td>387</td>\n",
              "      <td>8.0</td>\n",
              "      <td>0</td>\n",
              "      <td>Highly Urban/ Urban</td>\n",
              "      <td>Bayern</td>\n",
              "    </tr>\n",
              "    <tr>\n",
              "      <th>3</th>\n",
              "      <td>1.743448e+09</td>\n",
              "      <td>0</td>\n",
              "      <td>68.0</td>\n",
              "      <td>0</td>\n",
              "      <td>NaN</td>\n",
              "      <td>115.546</td>\n",
              "      <td>361705</td>\n",
              "      <td>Yes</td>\n",
              "      <td>Fem</td>\n",
              "      <td>PhD</td>\n",
              "      <td>Doctor</td>\n",
              "      <td>81</td>\n",
              "      <td>Private</td>\n",
              "      <td>18.000</td>\n",
              "      <td>unknown</td>\n",
              "      <td>4</td>\n",
              "      <td>Yes</td>\n",
              "      <td>3</td>\n",
              "      <td>308</td>\n",
              "      <td>19.0</td>\n",
              "      <td>0</td>\n",
              "      <td>Highly Urban/ Urban</td>\n",
              "      <td>Bayern</td>\n",
              "    </tr>\n",
              "    <tr>\n",
              "      <th>4</th>\n",
              "      <td>7.371333e+09</td>\n",
              "      <td>0</td>\n",
              "      <td>32.0</td>\n",
              "      <td>1</td>\n",
              "      <td>15.0</td>\n",
              "      <td>125.861</td>\n",
              "      <td>70668</td>\n",
              "      <td>z_No</td>\n",
              "      <td>Fem</td>\n",
              "      <td>Bachelors</td>\n",
              "      <td>Teacher</td>\n",
              "      <td>91</td>\n",
              "      <td>Commercial</td>\n",
              "      <td>17.430</td>\n",
              "      <td>Sports Car</td>\n",
              "      <td>0</td>\n",
              "      <td>No</td>\n",
              "      <td>0</td>\n",
              "      <td>3.221</td>\n",
              "      <td>9.0</td>\n",
              "      <td>1</td>\n",
              "      <td>Highly Urban/ Urban</td>\n",
              "      <td>Bayern</td>\n",
              "    </tr>\n",
              "  </tbody>\n",
              "</table>\n",
              "</div>"
            ],
            "text/plain": [
              "             ID  CHILD_DRIV   AGE  ...  CLAIM_IND                 AREA  STATE_CODE\n",
              "0  6.921625e+09           0  67.0  ...          0  Highly Urban/ Urban      Berlin\n",
              "1  1.227899e+09           0  26.0  ...          0  Highly Urban/ Urban  Thueringen\n",
              "2  1.950524e+09           0  71.0  ...          0  Highly Urban/ Urban      Bayern\n",
              "3  1.743448e+09           0  68.0  ...          0  Highly Urban/ Urban      Bayern\n",
              "4  7.371333e+09           0  32.0  ...          1  Highly Urban/ Urban      Bayern\n",
              "\n",
              "[5 rows x 23 columns]"
            ]
          },
          "metadata": {
            "tags": []
          },
          "execution_count": 224
        }
      ]
    },
    {
      "cell_type": "code",
      "metadata": {
        "colab": {
          "base_uri": "https://localhost:8080/",
          "height": 357
        },
        "id": "5bY50pWQvZK2",
        "outputId": "b2275826-3363-4003-9ad2-e3de07b8e96f"
      },
      "source": [
        "df.describe().T"
      ],
      "execution_count": 225,
      "outputs": [
        {
          "output_type": "execute_result",
          "data": {
            "text/html": [
              "<div>\n",
              "<style scoped>\n",
              "    .dataframe tbody tr th:only-of-type {\n",
              "        vertical-align: middle;\n",
              "    }\n",
              "\n",
              "    .dataframe tbody tr th {\n",
              "        vertical-align: top;\n",
              "    }\n",
              "\n",
              "    .dataframe thead th {\n",
              "        text-align: right;\n",
              "    }\n",
              "</style>\n",
              "<table border=\"1\" class=\"dataframe\">\n",
              "  <thead>\n",
              "    <tr style=\"text-align: right;\">\n",
              "      <th></th>\n",
              "      <th>count</th>\n",
              "      <th>mean</th>\n",
              "      <th>std</th>\n",
              "      <th>min</th>\n",
              "      <th>25%</th>\n",
              "      <th>50%</th>\n",
              "      <th>75%</th>\n",
              "      <th>max</th>\n",
              "    </tr>\n",
              "  </thead>\n",
              "  <tbody>\n",
              "    <tr>\n",
              "      <th>ID</th>\n",
              "      <td>10300.0</td>\n",
              "      <td>4.536920e+09</td>\n",
              "      <td>3.054715e+09</td>\n",
              "      <td>11300316.0</td>\n",
              "      <td>2.135318e+09</td>\n",
              "      <td>3.964367e+09</td>\n",
              "      <td>6.280446e+09</td>\n",
              "      <td>2.017790e+10</td>\n",
              "    </tr>\n",
              "    <tr>\n",
              "      <th>CHILD_DRIV</th>\n",
              "      <td>10300.0</td>\n",
              "      <td>1.700000e-01</td>\n",
              "      <td>5.073812e-01</td>\n",
              "      <td>0.0</td>\n",
              "      <td>0.000000e+00</td>\n",
              "      <td>0.000000e+00</td>\n",
              "      <td>0.000000e+00</td>\n",
              "      <td>4.000000e+00</td>\n",
              "    </tr>\n",
              "    <tr>\n",
              "      <th>AGE</th>\n",
              "      <td>10293.0</td>\n",
              "      <td>5.379792e+01</td>\n",
              "      <td>1.317220e+01</td>\n",
              "      <td>5.0</td>\n",
              "      <td>4.500000e+01</td>\n",
              "      <td>5.400000e+01</td>\n",
              "      <td>6.300000e+01</td>\n",
              "      <td>1.030000e+02</td>\n",
              "    </tr>\n",
              "    <tr>\n",
              "      <th>CHILDREN</th>\n",
              "      <td>10300.0</td>\n",
              "      <td>7.209709e-01</td>\n",
              "      <td>1.116310e+00</td>\n",
              "      <td>0.0</td>\n",
              "      <td>0.000000e+00</td>\n",
              "      <td>0.000000e+00</td>\n",
              "      <td>1.000000e+00</td>\n",
              "      <td>5.000000e+00</td>\n",
              "    </tr>\n",
              "    <tr>\n",
              "      <th>YOJ</th>\n",
              "      <td>9752.0</td>\n",
              "      <td>1.347395e+01</td>\n",
              "      <td>4.109358e+00</td>\n",
              "      <td>3.0</td>\n",
              "      <td>1.200000e+01</td>\n",
              "      <td>1.400000e+01</td>\n",
              "      <td>1.600000e+01</td>\n",
              "      <td>2.600000e+01</td>\n",
              "    </tr>\n",
              "    <tr>\n",
              "      <th>DISTANCE</th>\n",
              "      <td>10300.0</td>\n",
              "      <td>7.841942e+01</td>\n",
              "      <td>1.586968e+01</td>\n",
              "      <td>50.0</td>\n",
              "      <td>6.700000e+01</td>\n",
              "      <td>7.800000e+01</td>\n",
              "      <td>8.900000e+01</td>\n",
              "      <td>1.870000e+02</td>\n",
              "    </tr>\n",
              "    <tr>\n",
              "      <th>CLM_FREQ</th>\n",
              "      <td>10300.0</td>\n",
              "      <td>1.808641e+00</td>\n",
              "      <td>1.528187e+00</td>\n",
              "      <td>0.0</td>\n",
              "      <td>0.000000e+00</td>\n",
              "      <td>2.000000e+00</td>\n",
              "      <td>3.000000e+00</td>\n",
              "      <td>7.000000e+00</td>\n",
              "    </tr>\n",
              "    <tr>\n",
              "      <th>MVR_PTS</th>\n",
              "      <td>10300.0</td>\n",
              "      <td>3.202621e+00</td>\n",
              "      <td>2.585899e+00</td>\n",
              "      <td>0.0</td>\n",
              "      <td>2.000000e+00</td>\n",
              "      <td>3.000000e+00</td>\n",
              "      <td>5.000000e+00</td>\n",
              "      <td>1.700000e+01</td>\n",
              "    </tr>\n",
              "    <tr>\n",
              "      <th>VEHICLE_AGE</th>\n",
              "      <td>9661.0</td>\n",
              "      <td>1.029790e+01</td>\n",
              "      <td>5.713707e+00</td>\n",
              "      <td>-1.0</td>\n",
              "      <td>3.000000e+00</td>\n",
              "      <td>1.000000e+01</td>\n",
              "      <td>1.400000e+01</td>\n",
              "      <td>3.000000e+01</td>\n",
              "    </tr>\n",
              "    <tr>\n",
              "      <th>CLAIM_IND</th>\n",
              "      <td>10300.0</td>\n",
              "      <td>2.666019e-01</td>\n",
              "      <td>4.422039e-01</td>\n",
              "      <td>0.0</td>\n",
              "      <td>0.000000e+00</td>\n",
              "      <td>0.000000e+00</td>\n",
              "      <td>1.000000e+00</td>\n",
              "      <td>1.000000e+00</td>\n",
              "    </tr>\n",
              "  </tbody>\n",
              "</table>\n",
              "</div>"
            ],
            "text/plain": [
              "               count          mean  ...           75%           max\n",
              "ID           10300.0  4.536920e+09  ...  6.280446e+09  2.017790e+10\n",
              "CHILD_DRIV   10300.0  1.700000e-01  ...  0.000000e+00  4.000000e+00\n",
              "AGE          10293.0  5.379792e+01  ...  6.300000e+01  1.030000e+02\n",
              "CHILDREN     10300.0  7.209709e-01  ...  1.000000e+00  5.000000e+00\n",
              "YOJ           9752.0  1.347395e+01  ...  1.600000e+01  2.600000e+01\n",
              "DISTANCE     10300.0  7.841942e+01  ...  8.900000e+01  1.870000e+02\n",
              "CLM_FREQ     10300.0  1.808641e+00  ...  3.000000e+00  7.000000e+00\n",
              "MVR_PTS      10300.0  3.202621e+00  ...  5.000000e+00  1.700000e+01\n",
              "VEHICLE_AGE   9661.0  1.029790e+01  ...  1.400000e+01  3.000000e+01\n",
              "CLAIM_IND    10300.0  2.666019e-01  ...  1.000000e+00  1.000000e+00\n",
              "\n",
              "[10 rows x 8 columns]"
            ]
          },
          "metadata": {
            "tags": []
          },
          "execution_count": 225
        }
      ]
    },
    {
      "cell_type": "code",
      "metadata": {
        "colab": {
          "base_uri": "https://localhost:8080/"
        },
        "id": "YrzabMTDeqKj",
        "outputId": "c957a587-9fea-48d6-a5f7-567d4bc6e4eb"
      },
      "source": [
        "df.info()"
      ],
      "execution_count": 226,
      "outputs": [
        {
          "output_type": "stream",
          "text": [
            "<class 'pandas.core.frame.DataFrame'>\n",
            "RangeIndex: 10300 entries, 0 to 10299\n",
            "Data columns (total 23 columns):\n",
            " #   Column        Non-Null Count  Dtype  \n",
            "---  ------        --------------  -----  \n",
            " 0   ID            10300 non-null  float64\n",
            " 1   CHILD_DRIV    10300 non-null  int64  \n",
            " 2   AGE           10293 non-null  float64\n",
            " 3   CHILDREN      10300 non-null  int64  \n",
            " 4   YOJ           9752 non-null   float64\n",
            " 5   INCOME        9730 non-null   object \n",
            " 6   HOUSE_VAL     9725 non-null   object \n",
            " 7   STATUS        10298 non-null  object \n",
            " 8   GENDER        10300 non-null  object \n",
            " 9   EDU_LEVEL     10300 non-null  object \n",
            " 10  JOB           9635 non-null   object \n",
            " 11  DISTANCE      10300 non-null  int64  \n",
            " 12  CAR_USE       10300 non-null  object \n",
            " 13  VEHICLE_VAL   10300 non-null  object \n",
            " 14  VEHICLE_TYPE  10300 non-null  object \n",
            " 15  CLM_FREQ      10300 non-null  int64  \n",
            " 16  REVOKED       10300 non-null  object \n",
            " 17  MVR_PTS       10300 non-null  int64  \n",
            " 18  CLAIM_AMOUNT  10300 non-null  object \n",
            " 19  VEHICLE_AGE   9661 non-null   float64\n",
            " 20  CLAIM_IND     10300 non-null  int64  \n",
            " 21  AREA          10300 non-null  object \n",
            " 22  STATE_CODE    10300 non-null  object \n",
            "dtypes: float64(4), int64(6), object(13)\n",
            "memory usage: 1.8+ MB\n"
          ],
          "name": "stdout"
        }
      ]
    },
    {
      "cell_type": "code",
      "metadata": {
        "id": "_F2PrA17c92H"
      },
      "source": [
        "df[['CLAIM_AMOUNT','INCOME','VEHICLE_VAL','HOUSE_VAL']] = df[['CLAIM_AMOUNT','INCOME','VEHICLE_VAL','HOUSE_VAL']].astype('float')"
      ],
      "execution_count": 227,
      "outputs": []
    },
    {
      "cell_type": "code",
      "metadata": {
        "colab": {
          "base_uri": "https://localhost:8080/"
        },
        "id": "4DJrpRW8PChK",
        "outputId": "c7019373-7f8f-4426-ec3c-d5fa10fc8c1c"
      },
      "source": [
        "df.info()"
      ],
      "execution_count": 228,
      "outputs": [
        {
          "output_type": "stream",
          "text": [
            "<class 'pandas.core.frame.DataFrame'>\n",
            "RangeIndex: 10300 entries, 0 to 10299\n",
            "Data columns (total 23 columns):\n",
            " #   Column        Non-Null Count  Dtype  \n",
            "---  ------        --------------  -----  \n",
            " 0   ID            10300 non-null  float64\n",
            " 1   CHILD_DRIV    10300 non-null  int64  \n",
            " 2   AGE           10293 non-null  float64\n",
            " 3   CHILDREN      10300 non-null  int64  \n",
            " 4   YOJ           9752 non-null   float64\n",
            " 5   INCOME        9730 non-null   float64\n",
            " 6   HOUSE_VAL     9725 non-null   float64\n",
            " 7   STATUS        10298 non-null  object \n",
            " 8   GENDER        10300 non-null  object \n",
            " 9   EDU_LEVEL     10300 non-null  object \n",
            " 10  JOB           9635 non-null   object \n",
            " 11  DISTANCE      10300 non-null  int64  \n",
            " 12  CAR_USE       10300 non-null  object \n",
            " 13  VEHICLE_VAL   10300 non-null  float64\n",
            " 14  VEHICLE_TYPE  10300 non-null  object \n",
            " 15  CLM_FREQ      10300 non-null  int64  \n",
            " 16  REVOKED       10300 non-null  object \n",
            " 17  MVR_PTS       10300 non-null  int64  \n",
            " 18  CLAIM_AMOUNT  10300 non-null  float64\n",
            " 19  VEHICLE_AGE   9661 non-null   float64\n",
            " 20  CLAIM_IND     10300 non-null  int64  \n",
            " 21  AREA          10300 non-null  object \n",
            " 22  STATE_CODE    10300 non-null  object \n",
            "dtypes: float64(8), int64(6), object(9)\n",
            "memory usage: 1.8+ MB\n"
          ],
          "name": "stdout"
        }
      ]
    },
    {
      "cell_type": "code",
      "metadata": {
        "colab": {
          "base_uri": "https://localhost:8080/"
        },
        "id": "IETDIq6ZMKJ9",
        "outputId": "a3c21547-a49a-479b-a9fa-3de9e3a21270"
      },
      "source": [
        "df.columns"
      ],
      "execution_count": 229,
      "outputs": [
        {
          "output_type": "execute_result",
          "data": {
            "text/plain": [
              "Index(['ID', 'CHILD_DRIV', 'AGE', 'CHILDREN', 'YOJ', 'INCOME', 'HOUSE_VAL',\n",
              "       'STATUS', 'GENDER', 'EDU_LEVEL', 'JOB', 'DISTANCE', 'CAR_USE',\n",
              "       'VEHICLE_VAL', 'VEHICLE_TYPE', 'CLM_FREQ', 'REVOKED', 'MVR_PTS',\n",
              "       'CLAIM_AMOUNT', 'VEHICLE_AGE', 'CLAIM_IND', 'AREA', 'STATE_CODE'],\n",
              "      dtype='object')"
            ]
          },
          "metadata": {
            "tags": []
          },
          "execution_count": 229
        }
      ]
    },
    {
      "cell_type": "code",
      "metadata": {
        "id": "U00U6AJqeixK"
      },
      "source": [
        "X = df[['CHILD_DRIV', 'AGE', 'CHILDREN', 'YOJ', 'INCOME', 'HOUSE_VAL',\n",
        "       'STATUS', 'GENDER', 'EDU_LEVEL', 'JOB', 'DISTANCE', 'CAR_USE',\n",
        "       'VEHICLE_VAL', 'VEHICLE_TYPE', 'CLM_FREQ', 'REVOKED', 'MVR_PTS', 'VEHICLE_AGE', 'CLAIM_AMOUNT', 'AREA', 'STATE_CODE']]\n",
        "Y = df['CLAIM_IND']"
      ],
      "execution_count": 230,
      "outputs": []
    },
    {
      "cell_type": "code",
      "metadata": {
        "colab": {
          "base_uri": "https://localhost:8080/"
        },
        "id": "YudaZu-Veexi",
        "outputId": "c83eb1a2-839c-435e-b9d7-211191bfaf8d"
      },
      "source": [
        "X.isnull().sum()"
      ],
      "execution_count": 231,
      "outputs": [
        {
          "output_type": "execute_result",
          "data": {
            "text/plain": [
              "CHILD_DRIV        0\n",
              "AGE               7\n",
              "CHILDREN          0\n",
              "YOJ             548\n",
              "INCOME          570\n",
              "HOUSE_VAL       575\n",
              "STATUS            2\n",
              "GENDER            0\n",
              "EDU_LEVEL         0\n",
              "JOB             665\n",
              "DISTANCE          0\n",
              "CAR_USE           0\n",
              "VEHICLE_VAL       0\n",
              "VEHICLE_TYPE      0\n",
              "CLM_FREQ          0\n",
              "REVOKED           0\n",
              "MVR_PTS           0\n",
              "VEHICLE_AGE     639\n",
              "CLAIM_AMOUNT      0\n",
              "AREA              0\n",
              "STATE_CODE        0\n",
              "dtype: int64"
            ]
          },
          "metadata": {
            "tags": []
          },
          "execution_count": 231
        }
      ]
    },
    {
      "cell_type": "markdown",
      "metadata": {
        "id": "gqVgeUs-7DGs"
      },
      "source": [
        "#Заменяем пропущенные значения\n",
        "\n"
      ]
    },
    {
      "cell_type": "code",
      "metadata": {
        "colab": {
          "base_uri": "https://localhost:8080/"
        },
        "id": "raaRou0a7CKV",
        "outputId": "30a71453-8288-4917-f707-2a326c3517b3"
      },
      "source": [
        "X_mean = X.mean()\n",
        "X_mean"
      ],
      "execution_count": 232,
      "outputs": [
        {
          "output_type": "execute_result",
          "data": {
            "text/plain": [
              "CHILD_DRIV           0.170000\n",
              "AGE                 53.797921\n",
              "CHILDREN             0.720971\n",
              "YOJ                 13.473954\n",
              "INCOME             118.930173\n",
              "HOUSE_VAL       416898.584679\n",
              "DISTANCE            78.419417\n",
              "VEHICLE_VAL         15.660132\n",
              "CLM_FREQ             1.808641\n",
              "MVR_PTS              3.202621\n",
              "VEHICLE_AGE         10.297899\n",
              "CLAIM_AMOUNT       225.372876\n",
              "dtype: float64"
            ]
          },
          "metadata": {
            "tags": []
          },
          "execution_count": 232
        }
      ]
    },
    {
      "cell_type": "code",
      "metadata": {
        "colab": {
          "base_uri": "https://localhost:8080/"
        },
        "id": "HBFt6o1N74_b",
        "outputId": "5c96cd9c-a60c-4e24-b3fe-cc16be3dc05b"
      },
      "source": [
        "X.fillna(X_mean, inplace=True)"
      ],
      "execution_count": 233,
      "outputs": [
        {
          "output_type": "stream",
          "text": [
            "/usr/local/lib/python3.7/dist-packages/pandas/core/series.py:4536: SettingWithCopyWarning: \n",
            "A value is trying to be set on a copy of a slice from a DataFrame\n",
            "\n",
            "See the caveats in the documentation: https://pandas.pydata.org/pandas-docs/stable/user_guide/indexing.html#returning-a-view-versus-a-copy\n",
            "  downcast=downcast,\n"
          ],
          "name": "stderr"
        }
      ]
    },
    {
      "cell_type": "code",
      "metadata": {
        "colab": {
          "base_uri": "https://localhost:8080/"
        },
        "id": "Okkb1GYs7_EN",
        "outputId": "4e1960f3-eea4-4860-f2e3-776445042fc0"
      },
      "source": [
        "X.isnull().sum()"
      ],
      "execution_count": 234,
      "outputs": [
        {
          "output_type": "execute_result",
          "data": {
            "text/plain": [
              "CHILD_DRIV        0\n",
              "AGE               0\n",
              "CHILDREN          0\n",
              "YOJ               0\n",
              "INCOME            0\n",
              "HOUSE_VAL         0\n",
              "STATUS            2\n",
              "GENDER            0\n",
              "EDU_LEVEL         0\n",
              "JOB             665\n",
              "DISTANCE          0\n",
              "CAR_USE           0\n",
              "VEHICLE_VAL       0\n",
              "VEHICLE_TYPE      0\n",
              "CLM_FREQ          0\n",
              "REVOKED           0\n",
              "MVR_PTS           0\n",
              "VEHICLE_AGE       0\n",
              "CLAIM_AMOUNT      0\n",
              "AREA              0\n",
              "STATE_CODE        0\n",
              "dtype: int64"
            ]
          },
          "metadata": {
            "tags": []
          },
          "execution_count": 234
        }
      ]
    },
    {
      "cell_type": "code",
      "metadata": {
        "colab": {
          "base_uri": "https://localhost:8080/",
          "height": 134
        },
        "id": "EVdUomGX8eRN",
        "outputId": "7feb61b1-3db6-48f0-aaa5-d06411ed1eaa"
      },
      "source": [
        "X_mode = X.mode()\n",
        "X_mode"
      ],
      "execution_count": 235,
      "outputs": [
        {
          "output_type": "execute_result",
          "data": {
            "text/html": [
              "<div>\n",
              "<style scoped>\n",
              "    .dataframe tbody tr th:only-of-type {\n",
              "        vertical-align: middle;\n",
              "    }\n",
              "\n",
              "    .dataframe tbody tr th {\n",
              "        vertical-align: top;\n",
              "    }\n",
              "\n",
              "    .dataframe thead th {\n",
              "        text-align: right;\n",
              "    }\n",
              "</style>\n",
              "<table border=\"1\" class=\"dataframe\">\n",
              "  <thead>\n",
              "    <tr style=\"text-align: right;\">\n",
              "      <th></th>\n",
              "      <th>CHILD_DRIV</th>\n",
              "      <th>AGE</th>\n",
              "      <th>CHILDREN</th>\n",
              "      <th>YOJ</th>\n",
              "      <th>INCOME</th>\n",
              "      <th>HOUSE_VAL</th>\n",
              "      <th>STATUS</th>\n",
              "      <th>GENDER</th>\n",
              "      <th>EDU_LEVEL</th>\n",
              "      <th>JOB</th>\n",
              "      <th>DISTANCE</th>\n",
              "      <th>CAR_USE</th>\n",
              "      <th>VEHICLE_VAL</th>\n",
              "      <th>VEHICLE_TYPE</th>\n",
              "      <th>CLM_FREQ</th>\n",
              "      <th>REVOKED</th>\n",
              "      <th>MVR_PTS</th>\n",
              "      <th>VEHICLE_AGE</th>\n",
              "      <th>CLAIM_AMOUNT</th>\n",
              "      <th>AREA</th>\n",
              "      <th>STATE_CODE</th>\n",
              "    </tr>\n",
              "  </thead>\n",
              "  <tbody>\n",
              "    <tr>\n",
              "      <th>0</th>\n",
              "      <td>0</td>\n",
              "      <td>54.0</td>\n",
              "      <td>0</td>\n",
              "      <td>15.0</td>\n",
              "      <td>118.930173</td>\n",
              "      <td>416898.584679</td>\n",
              "      <td>Yes</td>\n",
              "      <td>Fem</td>\n",
              "      <td>z_High School</td>\n",
              "      <td>Teacher</td>\n",
              "      <td>50</td>\n",
              "      <td>Private</td>\n",
              "      <td>1.5</td>\n",
              "      <td>unknown</td>\n",
              "      <td>2</td>\n",
              "      <td>No</td>\n",
              "      <td>2</td>\n",
              "      <td>3.0</td>\n",
              "      <td>285.0</td>\n",
              "      <td>Highly Urban/ Urban</td>\n",
              "      <td>Bayern</td>\n",
              "    </tr>\n",
              "  </tbody>\n",
              "</table>\n",
              "</div>"
            ],
            "text/plain": [
              "   CHILD_DRIV   AGE  CHILDREN  ...  CLAIM_AMOUNT                 AREA  STATE_CODE\n",
              "0           0  54.0         0  ...         285.0  Highly Urban/ Urban      Bayern\n",
              "\n",
              "[1 rows x 21 columns]"
            ]
          },
          "metadata": {
            "tags": []
          },
          "execution_count": 235
        }
      ]
    },
    {
      "cell_type": "code",
      "metadata": {
        "id": "NJJ8j07U-LQs"
      },
      "source": [
        "X = X.fillna({'JOB': 'Teacher', 'STATUS': 'Yes'})"
      ],
      "execution_count": 236,
      "outputs": []
    },
    {
      "cell_type": "code",
      "metadata": {
        "colab": {
          "base_uri": "https://localhost:8080/"
        },
        "id": "_kOFUFSXEbzb",
        "outputId": "d655f325-083e-41e5-f27e-7309271df2fd"
      },
      "source": [
        "X.info()"
      ],
      "execution_count": 237,
      "outputs": [
        {
          "output_type": "stream",
          "text": [
            "<class 'pandas.core.frame.DataFrame'>\n",
            "RangeIndex: 10300 entries, 0 to 10299\n",
            "Data columns (total 21 columns):\n",
            " #   Column        Non-Null Count  Dtype  \n",
            "---  ------        --------------  -----  \n",
            " 0   CHILD_DRIV    10300 non-null  int64  \n",
            " 1   AGE           10300 non-null  float64\n",
            " 2   CHILDREN      10300 non-null  int64  \n",
            " 3   YOJ           10300 non-null  float64\n",
            " 4   INCOME        10300 non-null  float64\n",
            " 5   HOUSE_VAL     10300 non-null  float64\n",
            " 6   STATUS        10300 non-null  object \n",
            " 7   GENDER        10300 non-null  object \n",
            " 8   EDU_LEVEL     10300 non-null  object \n",
            " 9   JOB           10300 non-null  object \n",
            " 10  DISTANCE      10300 non-null  int64  \n",
            " 11  CAR_USE       10300 non-null  object \n",
            " 12  VEHICLE_VAL   10300 non-null  float64\n",
            " 13  VEHICLE_TYPE  10300 non-null  object \n",
            " 14  CLM_FREQ      10300 non-null  int64  \n",
            " 15  REVOKED       10300 non-null  object \n",
            " 16  MVR_PTS       10300 non-null  int64  \n",
            " 17  VEHICLE_AGE   10300 non-null  float64\n",
            " 18  CLAIM_AMOUNT  10300 non-null  float64\n",
            " 19  AREA          10300 non-null  object \n",
            " 20  STATE_CODE    10300 non-null  object \n",
            "dtypes: float64(7), int64(5), object(9)\n",
            "memory usage: 1.7+ MB\n"
          ],
          "name": "stdout"
        }
      ]
    },
    {
      "cell_type": "markdown",
      "metadata": {
        "id": "VP7may-pROor"
      },
      "source": [
        "##Достаем уникальные значения"
      ]
    },
    {
      "cell_type": "code",
      "metadata": {
        "colab": {
          "base_uri": "https://localhost:8080/"
        },
        "id": "edqSKpJEDbcj",
        "outputId": "b0deea1d-a00d-42a7-9d3e-24313fec587c"
      },
      "source": [
        "X.JOB.unique()"
      ],
      "execution_count": 238,
      "outputs": [
        {
          "output_type": "execute_result",
          "data": {
            "text/plain": [
              "array(['None', 'Clerical', 'Teacher', 'Doctor', 'Banking', 'Nurse',\n",
              "       'Manager', 'Home Maker', 'Professional', 'Student', 'Police'],\n",
              "      dtype=object)"
            ]
          },
          "metadata": {
            "tags": []
          },
          "execution_count": 238
        }
      ]
    },
    {
      "cell_type": "code",
      "metadata": {
        "colab": {
          "base_uri": "https://localhost:8080/"
        },
        "id": "w9Dqmcz4C0XR",
        "outputId": "7e2b826b-d428-49de-9a90-a81270185d93"
      },
      "source": [
        "X.STATUS.unique()"
      ],
      "execution_count": 239,
      "outputs": [
        {
          "output_type": "execute_result",
          "data": {
            "text/plain": [
              "array(['z_No', 'Yes'], dtype=object)"
            ]
          },
          "metadata": {
            "tags": []
          },
          "execution_count": 239
        }
      ]
    },
    {
      "cell_type": "markdown",
      "metadata": {
        "id": "K6eyKi-2ENL4"
      },
      "source": [
        "#Преобразуем категориальные переменные\n"
      ]
    },
    {
      "cell_type": "code",
      "metadata": {
        "id": "x0NjJ2CjTCdY"
      },
      "source": [
        "categor = ['JOB', 'STATUS', 'AREA', 'GENDER', 'STATE_CODE', 'REVOKED','VEHICLE_TYPE','CAR_USE', 'EDU_LEVEL']"
      ],
      "execution_count": 240,
      "outputs": []
    },
    {
      "cell_type": "code",
      "metadata": {
        "id": "keRCq1DASYX0"
      },
      "source": [
        "X = pd.get_dummies(data = X, columns= categor)\n"
      ],
      "execution_count": 241,
      "outputs": []
    },
    {
      "cell_type": "code",
      "metadata": {
        "colab": {
          "base_uri": "https://localhost:8080/"
        },
        "id": "cariokxeShVO",
        "outputId": "60d49899-3636-47ae-a068-4284e2e49586"
      },
      "source": [
        "X.shape"
      ],
      "execution_count": 242,
      "outputs": [
        {
          "output_type": "execute_result",
          "data": {
            "text/plain": [
              "(10300, 56)"
            ]
          },
          "metadata": {
            "tags": []
          },
          "execution_count": 242
        }
      ]
    },
    {
      "cell_type": "code",
      "metadata": {
        "colab": {
          "base_uri": "https://localhost:8080/"
        },
        "id": "GwAMEZrdefps",
        "outputId": "10ba9e42-b5be-47d2-e7f9-efe6074d6c18"
      },
      "source": [
        "X.info()"
      ],
      "execution_count": 243,
      "outputs": [
        {
          "output_type": "stream",
          "text": [
            "<class 'pandas.core.frame.DataFrame'>\n",
            "RangeIndex: 10300 entries, 0 to 10299\n",
            "Data columns (total 56 columns):\n",
            " #   Column                           Non-Null Count  Dtype  \n",
            "---  ------                           --------------  -----  \n",
            " 0   CHILD_DRIV                       10300 non-null  int64  \n",
            " 1   AGE                              10300 non-null  float64\n",
            " 2   CHILDREN                         10300 non-null  int64  \n",
            " 3   YOJ                              10300 non-null  float64\n",
            " 4   INCOME                           10300 non-null  float64\n",
            " 5   HOUSE_VAL                        10300 non-null  float64\n",
            " 6   DISTANCE                         10300 non-null  int64  \n",
            " 7   VEHICLE_VAL                      10300 non-null  float64\n",
            " 8   CLM_FREQ                         10300 non-null  int64  \n",
            " 9   MVR_PTS                          10300 non-null  int64  \n",
            " 10  VEHICLE_AGE                      10300 non-null  float64\n",
            " 11  CLAIM_AMOUNT                     10300 non-null  float64\n",
            " 12  JOB_Banking                      10300 non-null  uint8  \n",
            " 13  JOB_Clerical                     10300 non-null  uint8  \n",
            " 14  JOB_Doctor                       10300 non-null  uint8  \n",
            " 15  JOB_Home Maker                   10300 non-null  uint8  \n",
            " 16  JOB_Manager                      10300 non-null  uint8  \n",
            " 17  JOB_None                         10300 non-null  uint8  \n",
            " 18  JOB_Nurse                        10300 non-null  uint8  \n",
            " 19  JOB_Police                       10300 non-null  uint8  \n",
            " 20  JOB_Professional                 10300 non-null  uint8  \n",
            " 21  JOB_Student                      10300 non-null  uint8  \n",
            " 22  JOB_Teacher                      10300 non-null  uint8  \n",
            " 23  STATUS_Yes                       10300 non-null  uint8  \n",
            " 24  STATUS_z_No                      10300 non-null  uint8  \n",
            " 25  AREA_Highly Urban/ Urban         10300 non-null  uint8  \n",
            " 26  AREA_z_Highly Rural/ Rural       10300 non-null  uint8  \n",
            " 27  GENDER_Fem                       10300 non-null  uint8  \n",
            " 28  GENDER_Mal                       10300 non-null  uint8  \n",
            " 29  STATE_CODE_Bayern                10300 non-null  uint8  \n",
            " 30  STATE_CODE_Berlin                10300 non-null  uint8  \n",
            " 31  STATE_CODE_Brandenburg           10300 non-null  uint8  \n",
            " 32  STATE_CODE_Hessen                10300 non-null  uint8  \n",
            " 33  STATE_CODE_Mecklenburg-Vorpomme  10300 non-null  uint8  \n",
            " 34  STATE_CODE_Nordrhein-Westfalen   10300 non-null  uint8  \n",
            " 35  STATE_CODE_Rheinland-Pfalz       10300 non-null  uint8  \n",
            " 36  STATE_CODE_Sachsen               10300 non-null  uint8  \n",
            " 37  STATE_CODE_Sachsen-Anhalt        10300 non-null  uint8  \n",
            " 38  STATE_CODE_Thueringen            10300 non-null  uint8  \n",
            " 39  REVOKED_No                       10300 non-null  uint8  \n",
            " 40  REVOKED_Yes                      10300 non-null  uint8  \n",
            " 41  VEHICLE_TYPE_Family              10300 non-null  uint8  \n",
            " 42  VEHICLE_TYPE_Minivan             10300 non-null  uint8  \n",
            " 43  VEHICLE_TYPE_Panel Truck         10300 non-null  uint8  \n",
            " 44  VEHICLE_TYPE_Pickup              10300 non-null  uint8  \n",
            " 45  VEHICLE_TYPE_Racing              10300 non-null  uint8  \n",
            " 46  VEHICLE_TYPE_Sports Car          10300 non-null  uint8  \n",
            " 47  VEHICLE_TYPE_Van                 10300 non-null  uint8  \n",
            " 48  VEHICLE_TYPE_unknown             10300 non-null  uint8  \n",
            " 49  CAR_USE_Commercial               10300 non-null  uint8  \n",
            " 50  CAR_USE_Private                  10300 non-null  uint8  \n",
            " 51  EDU_LEVEL_<High School           10300 non-null  uint8  \n",
            " 52  EDU_LEVEL_Bachelors              10300 non-null  uint8  \n",
            " 53  EDU_LEVEL_Masters                10300 non-null  uint8  \n",
            " 54  EDU_LEVEL_PhD                    10300 non-null  uint8  \n",
            " 55  EDU_LEVEL_z_High School          10300 non-null  uint8  \n",
            "dtypes: float64(7), int64(5), uint8(44)\n",
            "memory usage: 1.4 MB\n"
          ],
          "name": "stdout"
        }
      ]
    },
    {
      "cell_type": "markdown",
      "metadata": {
        "id": "36j5qe2yRBwr"
      },
      "source": [
        "##Разделение выборки"
      ]
    },
    {
      "cell_type": "code",
      "metadata": {
        "colab": {
          "base_uri": "https://localhost:8080/"
        },
        "id": "VWfSncDjRBOF",
        "outputId": "491b4dab-94fd-418a-c1a1-2dacf40b629c"
      },
      "source": [
        "from sklearn.model_selection import train_test_split\n",
        "X_train, X_test, y_train, y_test = train_test_split(X, Y, test_size=0.4, random_state=13)\n",
        "X_train.shape, X_test.shape\n"
      ],
      "execution_count": 244,
      "outputs": [
        {
          "output_type": "execute_result",
          "data": {
            "text/plain": [
              "((6180, 56), (4120, 56))"
            ]
          },
          "metadata": {
            "tags": []
          },
          "execution_count": 244
        }
      ]
    },
    {
      "cell_type": "code",
      "metadata": {
        "id": "RTSvBj8syP7L"
      },
      "source": [
        "from sklearn.linear_model import Ridge\n",
        "from sklearn.linear_model import LassoLarsIC\n",
        "from sklearn.metrics import mean_squared_error\n",
        "from sklearn.metrics import mean_absolute_error\n",
        "from sklearn.metrics import mean_squared_log_error\n",
        "from sklearn.metrics import r2_score"
      ],
      "execution_count": 245,
      "outputs": []
    },
    {
      "cell_type": "code",
      "metadata": {
        "colab": {
          "base_uri": "https://localhost:8080/"
        },
        "id": "tlN6JjdlvGn4",
        "outputId": "5a98287e-c420-4d8f-9dbd-15adc95f6f31"
      },
      "source": [
        "df.CLAIM_AMOUNT.min"
      ],
      "execution_count": 246,
      "outputs": [
        {
          "output_type": "execute_result",
          "data": {
            "text/plain": [
              "<bound method Series.min of 0        294.000\n",
              "1        292.000\n",
              "2        387.000\n",
              "3        308.000\n",
              "4          3.221\n",
              "          ...   \n",
              "10295    294.000\n",
              "10296    261.000\n",
              "10297    411.000\n",
              "10298    272.000\n",
              "10299    251.000\n",
              "Name: CLAIM_AMOUNT, Length: 10300, dtype: float64>"
            ]
          },
          "metadata": {
            "tags": []
          },
          "execution_count": 246
        }
      ]
    },
    {
      "cell_type": "code",
      "metadata": {
        "colab": {
          "base_uri": "https://localhost:8080/",
          "height": 282
        },
        "id": "_Nczk2KIucxJ",
        "outputId": "0611ab4c-8a0f-4620-981f-2712181df5e7"
      },
      "source": [
        "import seaborn as sns\n",
        "from matplotlib import pyplot as plt\n",
        "df.CLAIM_AMOUNT.hist(bins=100, grid=True, )"
      ],
      "execution_count": 247,
      "outputs": [
        {
          "output_type": "execute_result",
          "data": {
            "text/plain": [
              "<matplotlib.axes._subplots.AxesSubplot at 0x7f8e07455250>"
            ]
          },
          "metadata": {
            "tags": []
          },
          "execution_count": 247
        },
        {
          "output_type": "display_data",
          "data": {
            "image/png": "[encoded data removed]",
            "text/plain": [
              "<Figure size 432x288 with 1 Axes>"
            ]
          },
          "metadata": {
            "tags": []
          }
        }
      ]
    },
    {
      "cell_type": "code",
      "metadata": {
        "id": "xIp6IxIByP4Q"
      },
      "source": [
        "import numpy as np\n",
        "\n",
        "def mean_absolute_percentage_error(y_pred, y_test): \n",
        "    y_pred, y_test = np.array(y_pred), np.array(y_test)\n",
        "    return np.mean(np.abs((y_test - y_pred) / y_test)) * 100"
      ],
      "execution_count": 248,
      "outputs": []
    },
    {
      "cell_type": "code",
      "metadata": {
        "id": "fCb1rq3ipYZ9"
      },
      "source": [
        "ridge = Ridge(alpha=100).fit(X_train, y_train)"
      ],
      "execution_count": 249,
      "outputs": []
    },
    {
      "cell_type": "code",
      "metadata": {
        "colab": {
          "base_uri": "https://localhost:8080/"
        },
        "id": "2Lrn1EejpfaU",
        "outputId": "e0cb6beb-7d50-4069-fe55-bd5bb7fad3d5"
      },
      "source": [
        "mean_absolute_error(y_test, ridge.predict(X_test))"
      ],
      "execution_count": 250,
      "outputs": [
        {
          "output_type": "execute_result",
          "data": {
            "text/plain": [
              "0.1389149722472286"
            ]
          },
          "metadata": {
            "tags": []
          },
          "execution_count": 250
        }
      ]
    },
    {
      "cell_type": "code",
      "metadata": {
        "colab": {
          "base_uri": "https://localhost:8080/"
        },
        "id": "ofxZXIgZpk0f",
        "outputId": "5bbfb8b0-aec3-4b0f-c137-55a7af328163"
      },
      "source": [
        "r2_score(y_test, ridge.predict(X_test))"
      ],
      "execution_count": 251,
      "outputs": [
        {
          "output_type": "execute_result",
          "data": {
            "text/plain": [
              "0.7519128320915676"
            ]
          },
          "metadata": {
            "tags": []
          },
          "execution_count": 251
        }
      ]
    },
    {
      "cell_type": "code",
      "metadata": {
        "colab": {
          "base_uri": "https://localhost:8080/"
        },
        "id": "LtMiTgudkfMq",
        "outputId": "04c24f42-b3d7-48b8-ca38-86aacb2b5050"
      },
      "source": [
        "ridge.predict(X_test)"
      ],
      "execution_count": 252,
      "outputs": [
        {
          "output_type": "execute_result",
          "data": {
            "text/plain": [
              "array([0.74843695, 0.12240421, 0.09783035, ..., 0.07889344, 0.145061  ,\n",
              "       0.87427618])"
            ]
          },
          "metadata": {
            "tags": []
          },
          "execution_count": 252
        }
      ]
    },
    {
      "cell_type": "code",
      "metadata": {
        "colab": {
          "base_uri": "https://localhost:8080/"
        },
        "id": "n7amrONVprLd",
        "outputId": "83b7a0cc-3cd8-4133-a785-580af42b0656"
      },
      "source": [
        "mean_squared_error(ridge.predict(X_test), y_test)"
      ],
      "execution_count": 253,
      "outputs": [
        {
          "output_type": "execute_result",
          "data": {
            "text/plain": [
              "0.049135111695307813"
            ]
          },
          "metadata": {
            "tags": []
          },
          "execution_count": 253
        }
      ]
    },
    {
      "cell_type": "code",
      "metadata": {
        "id": "n4JM_EG2pwms"
      },
      "source": [
        "from sklearn.model_selection import GridSearchCV\n",
        "\n",
        "grid_searcher = GridSearchCV(Ridge(),\n",
        "                             param_grid={'alpha': np.linspace(100, 750, 10)},\n",
        "                             cv=5).fit(X_train, y_train)"
      ],
      "execution_count": 254,
      "outputs": []
    },
    {
      "cell_type": "code",
      "metadata": {
        "colab": {
          "base_uri": "https://localhost:8080/"
        },
        "id": "idzwA-Gcp2zR",
        "outputId": "516b8af3-8085-4e37-861d-df3a336810b7"
      },
      "source": [
        "mean_squared_error(grid_searcher.predict(X_test), y_test)"
      ],
      "execution_count": 255,
      "outputs": [
        {
          "output_type": "execute_result",
          "data": {
            "text/plain": [
              "0.049135111695307813"
            ]
          },
          "metadata": {
            "tags": []
          },
          "execution_count": 255
        }
      ]
    },
    {
      "cell_type": "code",
      "metadata": {
        "colab": {
          "base_uri": "https://localhost:8080/"
        },
        "id": "7eLOIrcIp7jP",
        "outputId": "36938115-c915-414b-d51f-72ae4dde5912"
      },
      "source": [
        "grid_searcher.best_params_"
      ],
      "execution_count": 256,
      "outputs": [
        {
          "output_type": "execute_result",
          "data": {
            "text/plain": [
              "{'alpha': 100.0}"
            ]
          },
          "metadata": {
            "tags": []
          },
          "execution_count": 256
        }
      ]
    },
    {
      "cell_type": "markdown",
      "metadata": {
        "id": "tVtwsQRydwc9"
      },
      "source": [
        "##Классификация\n"
      ]
    },
    {
      "cell_type": "code",
      "metadata": {
        "colab": {
          "base_uri": "https://localhost:8080/",
          "height": 391
        },
        "id": "_eBJqaJtIQWJ",
        "outputId": "5cc1919f-f092-4b90-b3a5-63dabcda671d"
      },
      "source": [
        "df.head()"
      ],
      "execution_count": 257,
      "outputs": [
        {
          "output_type": "execute_result",
          "data": {
            "text/html": [
              "<div>\n",
              "<style scoped>\n",
              "    .dataframe tbody tr th:only-of-type {\n",
              "        vertical-align: middle;\n",
              "    }\n",
              "\n",
              "    .dataframe tbody tr th {\n",
              "        vertical-align: top;\n",
              "    }\n",
              "\n",
              "    .dataframe thead th {\n",
              "        text-align: right;\n",
              "    }\n",
              "</style>\n",
              "<table border=\"1\" class=\"dataframe\">\n",
              "  <thead>\n",
              "    <tr style=\"text-align: right;\">\n",
              "      <th></th>\n",
              "      <th>ID</th>\n",
              "      <th>CHILD_DRIV</th>\n",
              "      <th>AGE</th>\n",
              "      <th>CHILDREN</th>\n",
              "      <th>YOJ</th>\n",
              "      <th>INCOME</th>\n",
              "      <th>HOUSE_VAL</th>\n",
              "      <th>STATUS</th>\n",
              "      <th>GENDER</th>\n",
              "      <th>EDU_LEVEL</th>\n",
              "      <th>JOB</th>\n",
              "      <th>DISTANCE</th>\n",
              "      <th>CAR_USE</th>\n",
              "      <th>VEHICLE_VAL</th>\n",
              "      <th>VEHICLE_TYPE</th>\n",
              "      <th>CLM_FREQ</th>\n",
              "      <th>REVOKED</th>\n",
              "      <th>MVR_PTS</th>\n",
              "      <th>CLAIM_AMOUNT</th>\n",
              "      <th>VEHICLE_AGE</th>\n",
              "      <th>CLAIM_IND</th>\n",
              "      <th>AREA</th>\n",
              "      <th>STATE_CODE</th>\n",
              "    </tr>\n",
              "  </thead>\n",
              "  <tbody>\n",
              "    <tr>\n",
              "      <th>0</th>\n",
              "      <td>6.921625e+09</td>\n",
              "      <td>0</td>\n",
              "      <td>67.0</td>\n",
              "      <td>0</td>\n",
              "      <td>14.0</td>\n",
              "      <td>53.841</td>\n",
              "      <td>359229.0</td>\n",
              "      <td>z_No</td>\n",
              "      <td>Mal</td>\n",
              "      <td>Bachelors</td>\n",
              "      <td>None</td>\n",
              "      <td>71</td>\n",
              "      <td>Private</td>\n",
              "      <td>21.97</td>\n",
              "      <td>Family</td>\n",
              "      <td>0</td>\n",
              "      <td>No</td>\n",
              "      <td>2</td>\n",
              "      <td>294.000</td>\n",
              "      <td>12.0</td>\n",
              "      <td>0</td>\n",
              "      <td>Highly Urban/ Urban</td>\n",
              "      <td>Berlin</td>\n",
              "    </tr>\n",
              "    <tr>\n",
              "      <th>1</th>\n",
              "      <td>1.227899e+09</td>\n",
              "      <td>0</td>\n",
              "      <td>26.0</td>\n",
              "      <td>1</td>\n",
              "      <td>13.0</td>\n",
              "      <td>16.999</td>\n",
              "      <td>265527.0</td>\n",
              "      <td>NaN</td>\n",
              "      <td>Fem</td>\n",
              "      <td>z_High School</td>\n",
              "      <td>Clerical</td>\n",
              "      <td>50</td>\n",
              "      <td>Private</td>\n",
              "      <td>4.01</td>\n",
              "      <td>unknown</td>\n",
              "      <td>4</td>\n",
              "      <td>No</td>\n",
              "      <td>7</td>\n",
              "      <td>292.000</td>\n",
              "      <td>12.0</td>\n",
              "      <td>0</td>\n",
              "      <td>Highly Urban/ Urban</td>\n",
              "      <td>Thueringen</td>\n",
              "    </tr>\n",
              "    <tr>\n",
              "      <th>2</th>\n",
              "      <td>1.950524e+09</td>\n",
              "      <td>0</td>\n",
              "      <td>71.0</td>\n",
              "      <td>0</td>\n",
              "      <td>17.0</td>\n",
              "      <td>NaN</td>\n",
              "      <td>323918.0</td>\n",
              "      <td>Yes</td>\n",
              "      <td>Mal</td>\n",
              "      <td>&lt;High School</td>\n",
              "      <td>Teacher</td>\n",
              "      <td>77</td>\n",
              "      <td>Private</td>\n",
              "      <td>15.44</td>\n",
              "      <td>Minivan</td>\n",
              "      <td>0</td>\n",
              "      <td>No</td>\n",
              "      <td>0</td>\n",
              "      <td>387.000</td>\n",
              "      <td>8.0</td>\n",
              "      <td>0</td>\n",
              "      <td>Highly Urban/ Urban</td>\n",
              "      <td>Bayern</td>\n",
              "    </tr>\n",
              "    <tr>\n",
              "      <th>3</th>\n",
              "      <td>1.743448e+09</td>\n",
              "      <td>0</td>\n",
              "      <td>68.0</td>\n",
              "      <td>0</td>\n",
              "      <td>NaN</td>\n",
              "      <td>115.546</td>\n",
              "      <td>361705.0</td>\n",
              "      <td>Yes</td>\n",
              "      <td>Fem</td>\n",
              "      <td>PhD</td>\n",
              "      <td>Doctor</td>\n",
              "      <td>81</td>\n",
              "      <td>Private</td>\n",
              "      <td>18.00</td>\n",
              "      <td>unknown</td>\n",
              "      <td>4</td>\n",
              "      <td>Yes</td>\n",
              "      <td>3</td>\n",
              "      <td>308.000</td>\n",
              "      <td>19.0</td>\n",
              "      <td>0</td>\n",
              "      <td>Highly Urban/ Urban</td>\n",
              "      <td>Bayern</td>\n",
              "    </tr>\n",
              "    <tr>\n",
              "      <th>4</th>\n",
              "      <td>7.371333e+09</td>\n",
              "      <td>0</td>\n",
              "      <td>32.0</td>\n",
              "      <td>1</td>\n",
              "      <td>15.0</td>\n",
              "      <td>125.861</td>\n",
              "      <td>70668.0</td>\n",
              "      <td>z_No</td>\n",
              "      <td>Fem</td>\n",
              "      <td>Bachelors</td>\n",
              "      <td>Teacher</td>\n",
              "      <td>91</td>\n",
              "      <td>Commercial</td>\n",
              "      <td>17.43</td>\n",
              "      <td>Sports Car</td>\n",
              "      <td>0</td>\n",
              "      <td>No</td>\n",
              "      <td>0</td>\n",
              "      <td>3.221</td>\n",
              "      <td>9.0</td>\n",
              "      <td>1</td>\n",
              "      <td>Highly Urban/ Urban</td>\n",
              "      <td>Bayern</td>\n",
              "    </tr>\n",
              "  </tbody>\n",
              "</table>\n",
              "</div>"
            ],
            "text/plain": [
              "             ID  CHILD_DRIV   AGE  ...  CLAIM_IND                 AREA  STATE_CODE\n",
              "0  6.921625e+09           0  67.0  ...          0  Highly Urban/ Urban      Berlin\n",
              "1  1.227899e+09           0  26.0  ...          0  Highly Urban/ Urban  Thueringen\n",
              "2  1.950524e+09           0  71.0  ...          0  Highly Urban/ Urban      Bayern\n",
              "3  1.743448e+09           0  68.0  ...          0  Highly Urban/ Urban      Bayern\n",
              "4  7.371333e+09           0  32.0  ...          1  Highly Urban/ Urban      Bayern\n",
              "\n",
              "[5 rows x 23 columns]"
            ]
          },
          "metadata": {
            "tags": []
          },
          "execution_count": 257
        }
      ]
    },
    {
      "cell_type": "code",
      "metadata": {
        "colab": {
          "base_uri": "https://localhost:8080/"
        },
        "id": "5Tdzz6YxJOTt",
        "outputId": "f014d4ab-4ff3-4ce0-d9fd-fd51357ec6ac"
      },
      "source": [
        "df.info()"
      ],
      "execution_count": 258,
      "outputs": [
        {
          "output_type": "stream",
          "text": [
            "<class 'pandas.core.frame.DataFrame'>\n",
            "RangeIndex: 10300 entries, 0 to 10299\n",
            "Data columns (total 23 columns):\n",
            " #   Column        Non-Null Count  Dtype  \n",
            "---  ------        --------------  -----  \n",
            " 0   ID            10300 non-null  float64\n",
            " 1   CHILD_DRIV    10300 non-null  int64  \n",
            " 2   AGE           10293 non-null  float64\n",
            " 3   CHILDREN      10300 non-null  int64  \n",
            " 4   YOJ           9752 non-null   float64\n",
            " 5   INCOME        9730 non-null   float64\n",
            " 6   HOUSE_VAL     9725 non-null   float64\n",
            " 7   STATUS        10298 non-null  object \n",
            " 8   GENDER        10300 non-null  object \n",
            " 9   EDU_LEVEL     10300 non-null  object \n",
            " 10  JOB           9635 non-null   object \n",
            " 11  DISTANCE      10300 non-null  int64  \n",
            " 12  CAR_USE       10300 non-null  object \n",
            " 13  VEHICLE_VAL   10300 non-null  float64\n",
            " 14  VEHICLE_TYPE  10300 non-null  object \n",
            " 15  CLM_FREQ      10300 non-null  int64  \n",
            " 16  REVOKED       10300 non-null  object \n",
            " 17  MVR_PTS       10300 non-null  int64  \n",
            " 18  CLAIM_AMOUNT  10300 non-null  float64\n",
            " 19  VEHICLE_AGE   9661 non-null   float64\n",
            " 20  CLAIM_IND     10300 non-null  int64  \n",
            " 21  AREA          10300 non-null  object \n",
            " 22  STATE_CODE    10300 non-null  object \n",
            "dtypes: float64(8), int64(6), object(9)\n",
            "memory usage: 1.8+ MB\n"
          ],
          "name": "stdout"
        }
      ]
    },
    {
      "cell_type": "code",
      "metadata": {
        "id": "p9P-8u3PIUpN"
      },
      "source": [
        "df['EDU_LEVEL'] = [x.replace('z_','') for x in df['EDU_LEVEL'].values]\n",
        "df['EDU_LEVEL'] = [x.replace('<','') for x in df['EDU_LEVEL'].values]\n",
        "df['AREA'] = [x.replace('z_','') for x in df['AREA'].values]\n",
        "\n",
        "df = df.drop(columns=['ID'])\n",
        "df = df.drop(columns=['JOB'])\n",
        "\n",
        "df['STATUS'] = df['STATUS'].map({'No': 0, 'Yes': 1})\n",
        "df['GENDER'] = df['GENDER'].map({'Mal': 0, 'Fem': 1})\n",
        "df['EDU_LEVEL'] = df['EDU_LEVEL'].map({'Bachelors': 0, 'High School': 1, 'PhD': 2, 'Masters': 3})\n",
        "df['REVOKED'] = df['REVOKED'].map({'No': 0, 'Yes': 1})\n",
        "df['CAR_USE'] = df['CAR_USE'].map({'Private': 0, 'Commercial': 1})\n",
        "df['AREA'] = df['AREA'].map({'Highly Urban/ Urban': 0, 'Highly Rural/ Rural': 1})\n",
        "df['VEHICLE_TYPE'] = df['VEHICLE_TYPE'].map({'Family': 0, 'Minivan': 1, 'Sports Car': 2, 'Van': 3,\n",
        "                                          'Panel Truck': 4, 'Pickup': 5, 'Racing': 6, 'unknown': 9})\n",
        "df['STATE_CODE'] = df['STATE_CODE'].map({'Berlin': 0, 'Thueringen': 1, 'Bayern': 2, 'Nordrhein-Westfalen': 3,\n",
        "                                          'Sachsen-Anhalt': 4, 'Mecklenburg-Vorpomme': 5, 'Hessen': 6, 'Sachsen': 7, 'Brandenburg': 8})\n",
        "\n",
        "# Удаляем пустые значения\n",
        "df = df.fillna(-1)\n",
        "\n",
        "# Меняем тип переменных\n",
        "df['STATE_CODE'] = df['STATE_CODE'].astype(int)\n",
        "df['INCOME'] = df['INCOME'].astype(float)\n",
        "df['HOUSE_VAL'] = df['HOUSE_VAL'].astype(float)\n",
        "df['CLAIM_AMOUNT'] = df['CLAIM_AMOUNT'].astype(float)"
      ],
      "execution_count": 259,
      "outputs": []
    },
    {
      "cell_type": "code",
      "metadata": {
        "id": "14D7aYuxd0YY"
      },
      "source": [
        "data = df[['CHILD_DRIV', 'AGE', 'CHILDREN', 'YOJ', 'INCOME', 'HOUSE_VAL',\n",
        "       'STATUS', 'GENDER', 'EDU_LEVEL', 'DISTANCE', 'CAR_USE',\n",
        "       'VEHICLE_VAL', 'VEHICLE_TYPE', 'CLM_FREQ', 'REVOKED', 'MVR_PTS', \n",
        "       'VEHICLE_AGE', 'AREA', 'STATE_CODE']]\n",
        "target = df['CLAIM_IND']"
      ],
      "execution_count": 260,
      "outputs": []
    },
    {
      "cell_type": "code",
      "metadata": {
        "id": "YpNvb736HfNc"
      },
      "source": [
        "X_train, X_test, y_train, y_test = train_test_split(data, target, test_size=0.3, random_state=30)"
      ],
      "execution_count": 261,
      "outputs": []
    },
    {
      "cell_type": "code",
      "metadata": {
        "id": "bE_Q6yhBHl0R"
      },
      "source": [
        "from sklearn import tree\n",
        "from sklearn.tree import export_graphviz\n",
        "from sklearn.preprocessing import LabelEncoder\n",
        "from sklearn.utils import resample\n",
        "from sklearn.model_selection import train_test_split\n",
        "from sklearn.tree import DecisionTreeClassifier\n",
        "from sklearn.ensemble import RandomForestClassifier\n",
        "from sklearn.linear_model import LogisticRegression\n",
        "from sklearn.ensemble import BaggingClassifier\n",
        "from sklearn.ensemble import GradientBoostingClassifier\n",
        "from sklearn.tree import DecisionTreeClassifier\n",
        "from sklearn.neighbors import KNeighborsClassifier\n",
        "from sklearn.discriminant_analysis import LinearDiscriminantAnalysis\n",
        "from sklearn.naive_bayes import GaussianNB\n",
        "from sklearn.svm import SVC\n",
        "from sklearn.model_selection import KFold, cross_val_score\n",
        "from sklearn.metrics import roc_auc_score, roc_curve, mean_squared_error, r2_score, confusion_matrix, classification_report\n",
        "from sklearn import metrics"
      ],
      "execution_count": 262,
      "outputs": []
    },
    {
      "cell_type": "code",
      "metadata": {
        "id": "997uHrIYHpHY"
      },
      "source": [
        "models = []\n",
        "models.append(DecisionTreeClassifier(criterion='entropy', max_depth=8, min_samples_leaf=5, class_weight='balanced'))\n",
        "models.append(LogisticRegression(solver='newton-cg', class_weight=\"balanced\"))\n",
        "models.append(RandomForestClassifier(n_estimators = 51, max_depth=11, class_weight= 'balanced'))\n",
        "models.append(GradientBoostingClassifier())"
      ],
      "execution_count": 263,
      "outputs": []
    },
    {
      "cell_type": "code",
      "metadata": {
        "colab": {
          "base_uri": "https://localhost:8080/",
          "height": 1000
        },
        "id": "LOOE_JVmHvpa",
        "outputId": "be15bf89-f721-42a6-c4fa-0abd41870e5c"
      },
      "source": [
        "plt.figure(figsize=(10, 10))\n",
        "for model in models:\n",
        "    model.fit(X_train, y_train)\n",
        "    \n",
        " # оцениваем точность модели\n",
        "    current_score = model.score(X_test, y_test)\n",
        "\n",
        "#оцениваем кросс валидацию\n",
        "    kfold = KFold(n_splits=10, shuffle=True, random_state=7)\n",
        "    cv_result = max(cross_val_score(model, X_train, y_train, cv=kfold))\n",
        " \n",
        " #генерируем предсказания\n",
        "    pred_scr = model.predict_proba(X_test)[:, 1]\n",
        "    \n",
        "# вычисление среднеквадратичной ошибки\n",
        "    rmse = np.sqrt(mean_squared_error(y_test, pred_scr))\n",
        "\n",
        "# вычисление коэффициента детерминизации\n",
        "    r2 = r2_score(y_test, pred_scr)\n",
        "    \n",
        "# вычисляем площадь под ROC-кривой   \n",
        "    roc_auc = roc_auc_score(y_test, pred_scr)\n",
        "    \n",
        "    md = str(model)\n",
        "    md = md[:md.find('(')]\n",
        "    \n",
        "    roc_auc_print = round(roc_auc, 3)\n",
        "    rmse_print = round(rmse, 3)\n",
        "    r2_print = round(r2, 3)\n",
        "    \n",
        "    fpr, tpr, thresholds = roc_curve(y_test, pred_scr)\n",
        "    plt.plot(fpr, tpr, label='ROC: {};  {} {}; {} {}; {} {};  {} {};  {} {}'.format(md, 'Current score', current_score, 'Cross - val', cv_result, 'Auc', roc_auc_print, 'Rmse', rmse_print, 'R2',\n",
        "                                                                     r2_print))\n",
        "    \n",
        "plt.plot([0, 1], [0, 1], '--', color=(0.6, 0.6, 0.6))\n",
        "plt.xlim([0, 1])\n",
        "plt.ylim([0, 1])\n",
        "plt.xlabel('False Positive Rate')\n",
        "plt.ylabel('True Positive Rate')\n",
        "plt.title('Receiver operating characteristic example')\n",
        "plt.legend(loc=\"lower right\")\n",
        "plt.show()"
      ],
      "execution_count": 264,
      "outputs": [
        {
          "output_type": "stream",
          "text": [
            "/usr/local/lib/python3.7/dist-packages/scipy/optimize/linesearch.py:466: LineSearchWarning: The line search algorithm did not converge\n",
            "  warn('The line search algorithm did not converge', LineSearchWarning)\n",
            "/usr/local/lib/python3.7/dist-packages/scipy/optimize/linesearch.py:314: LineSearchWarning: The line search algorithm did not converge\n",
            "  warn('The line search algorithm did not converge', LineSearchWarning)\n",
            "/usr/local/lib/python3.7/dist-packages/scipy/optimize/linesearch.py:466: LineSearchWarning: The line search algorithm did not converge\n",
            "  warn('The line search algorithm did not converge', LineSearchWarning)\n",
            "/usr/local/lib/python3.7/dist-packages/scipy/optimize/linesearch.py:314: LineSearchWarning: The line search algorithm did not converge\n",
            "  warn('The line search algorithm did not converge', LineSearchWarning)\n",
            "/usr/local/lib/python3.7/dist-packages/scipy/optimize/linesearch.py:466: LineSearchWarning: The line search algorithm did not converge\n",
            "  warn('The line search algorithm did not converge', LineSearchWarning)\n",
            "/usr/local/lib/python3.7/dist-packages/scipy/optimize/linesearch.py:314: LineSearchWarning: The line search algorithm did not converge\n",
            "  warn('The line search algorithm did not converge', LineSearchWarning)\n",
            "/usr/local/lib/python3.7/dist-packages/scipy/optimize/linesearch.py:466: LineSearchWarning: The line search algorithm did not converge\n",
            "  warn('The line search algorithm did not converge', LineSearchWarning)\n",
            "/usr/local/lib/python3.7/dist-packages/scipy/optimize/linesearch.py:314: LineSearchWarning: The line search algorithm did not converge\n",
            "  warn('The line search algorithm did not converge', LineSearchWarning)\n",
            "/usr/local/lib/python3.7/dist-packages/scipy/optimize/linesearch.py:466: LineSearchWarning: The line search algorithm did not converge\n",
            "  warn('The line search algorithm did not converge', LineSearchWarning)\n",
            "/usr/local/lib/python3.7/dist-packages/scipy/optimize/linesearch.py:314: LineSearchWarning: The line search algorithm did not converge\n",
            "  warn('The line search algorithm did not converge', LineSearchWarning)\n",
            "/usr/local/lib/python3.7/dist-packages/scipy/optimize/linesearch.py:466: LineSearchWarning: The line search algorithm did not converge\n",
            "  warn('The line search algorithm did not converge', LineSearchWarning)\n",
            "/usr/local/lib/python3.7/dist-packages/scipy/optimize/linesearch.py:314: LineSearchWarning: The line search algorithm did not converge\n",
            "  warn('The line search algorithm did not converge', LineSearchWarning)\n",
            "/usr/local/lib/python3.7/dist-packages/scipy/optimize/linesearch.py:466: LineSearchWarning: The line search algorithm did not converge\n",
            "  warn('The line search algorithm did not converge', LineSearchWarning)\n",
            "/usr/local/lib/python3.7/dist-packages/scipy/optimize/linesearch.py:314: LineSearchWarning: The line search algorithm did not converge\n",
            "  warn('The line search algorithm did not converge', LineSearchWarning)\n",
            "/usr/local/lib/python3.7/dist-packages/scipy/optimize/linesearch.py:466: LineSearchWarning: The line search algorithm did not converge\n",
            "  warn('The line search algorithm did not converge', LineSearchWarning)\n",
            "/usr/local/lib/python3.7/dist-packages/scipy/optimize/linesearch.py:314: LineSearchWarning: The line search algorithm did not converge\n",
            "  warn('The line search algorithm did not converge', LineSearchWarning)\n",
            "/usr/local/lib/python3.7/dist-packages/scipy/optimize/linesearch.py:466: LineSearchWarning: The line search algorithm did not converge\n",
            "  warn('The line search algorithm did not converge', LineSearchWarning)\n",
            "/usr/local/lib/python3.7/dist-packages/scipy/optimize/linesearch.py:314: LineSearchWarning: The line search algorithm did not converge\n",
            "  warn('The line search algorithm did not converge', LineSearchWarning)\n",
            "/usr/local/lib/python3.7/dist-packages/scipy/optimize/linesearch.py:466: LineSearchWarning: The line search algorithm did not converge\n",
            "  warn('The line search algorithm did not converge', LineSearchWarning)\n",
            "/usr/local/lib/python3.7/dist-packages/scipy/optimize/linesearch.py:314: LineSearchWarning: The line search algorithm did not converge\n",
            "  warn('The line search algorithm did not converge', LineSearchWarning)\n",
            "/usr/local/lib/python3.7/dist-packages/scipy/optimize/linesearch.py:466: LineSearchWarning: The line search algorithm did not converge\n",
            "  warn('The line search algorithm did not converge', LineSearchWarning)\n",
            "/usr/local/lib/python3.7/dist-packages/scipy/optimize/linesearch.py:314: LineSearchWarning: The line search algorithm did not converge\n",
            "  warn('The line search algorithm did not converge', LineSearchWarning)\n",
            "/usr/local/lib/python3.7/dist-packages/scipy/optimize/linesearch.py:466: LineSearchWarning: The line search algorithm did not converge\n",
            "  warn('The line search algorithm did not converge', LineSearchWarning)\n",
            "/usr/local/lib/python3.7/dist-packages/scipy/optimize/linesearch.py:314: LineSearchWarning: The line search algorithm did not converge\n",
            "  warn('The line search algorithm did not converge', LineSearchWarning)\n",
            "/usr/local/lib/python3.7/dist-packages/scipy/optimize/linesearch.py:314: LineSearchWarning: The line search algorithm did not converge\n",
            "  warn('The line search algorithm did not converge', LineSearchWarning)\n",
            "/usr/local/lib/python3.7/dist-packages/sklearn/utils/optimize.py:204: UserWarning: Line Search failed\n",
            "  warnings.warn('Line Search failed')\n",
            "/usr/local/lib/python3.7/dist-packages/scipy/optimize/linesearch.py:466: LineSearchWarning: The line search algorithm did not converge\n",
            "  warn('The line search algorithm did not converge', LineSearchWarning)\n",
            "/usr/local/lib/python3.7/dist-packages/scipy/optimize/linesearch.py:314: LineSearchWarning: The line search algorithm did not converge\n",
            "  warn('The line search algorithm did not converge', LineSearchWarning)\n",
            "/usr/local/lib/python3.7/dist-packages/scipy/optimize/linesearch.py:466: LineSearchWarning: The line search algorithm did not converge\n",
            "  warn('The line search algorithm did not converge', LineSearchWarning)\n",
            "/usr/local/lib/python3.7/dist-packages/scipy/optimize/linesearch.py:314: LineSearchWarning: The line search algorithm did not converge\n",
            "  warn('The line search algorithm did not converge', LineSearchWarning)\n",
            "/usr/local/lib/python3.7/dist-packages/scipy/optimize/linesearch.py:466: LineSearchWarning: The line search algorithm did not converge\n",
            "  warn('The line search algorithm did not converge', LineSearchWarning)\n",
            "/usr/local/lib/python3.7/dist-packages/scipy/optimize/linesearch.py:314: LineSearchWarning: The line search algorithm did not converge\n",
            "  warn('The line search algorithm did not converge', LineSearchWarning)\n",
            "/usr/local/lib/python3.7/dist-packages/scipy/optimize/linesearch.py:466: LineSearchWarning: The line search algorithm did not converge\n",
            "  warn('The line search algorithm did not converge', LineSearchWarning)\n",
            "/usr/local/lib/python3.7/dist-packages/scipy/optimize/linesearch.py:314: LineSearchWarning: The line search algorithm did not converge\n",
            "  warn('The line search algorithm did not converge', LineSearchWarning)\n",
            "/usr/local/lib/python3.7/dist-packages/scipy/optimize/linesearch.py:466: LineSearchWarning: The line search algorithm did not converge\n",
            "  warn('The line search algorithm did not converge', LineSearchWarning)\n",
            "/usr/local/lib/python3.7/dist-packages/scipy/optimize/linesearch.py:314: LineSearchWarning: The line search algorithm did not converge\n",
            "  warn('The line search algorithm did not converge', LineSearchWarning)\n",
            "/usr/local/lib/python3.7/dist-packages/scipy/optimize/linesearch.py:466: LineSearchWarning: The line search algorithm did not converge\n",
            "  warn('The line search algorithm did not converge', LineSearchWarning)\n",
            "/usr/local/lib/python3.7/dist-packages/scipy/optimize/linesearch.py:314: LineSearchWarning: The line search algorithm did not converge\n",
            "  warn('The line search algorithm did not converge', LineSearchWarning)\n",
            "/usr/local/lib/python3.7/dist-packages/scipy/optimize/linesearch.py:466: LineSearchWarning: The line search algorithm did not converge\n",
            "  warn('The line search algorithm did not converge', LineSearchWarning)\n",
            "/usr/local/lib/python3.7/dist-packages/scipy/optimize/linesearch.py:314: LineSearchWarning: The line search algorithm did not converge\n",
            "  warn('The line search algorithm did not converge', LineSearchWarning)\n",
            "/usr/local/lib/python3.7/dist-packages/scipy/optimize/linesearch.py:466: LineSearchWarning: The line search algorithm did not converge\n",
            "  warn('The line search algorithm did not converge', LineSearchWarning)\n",
            "/usr/local/lib/python3.7/dist-packages/scipy/optimize/linesearch.py:314: LineSearchWarning: The line search algorithm did not converge\n",
            "  warn('The line search algorithm did not converge', LineSearchWarning)\n",
            "/usr/local/lib/python3.7/dist-packages/scipy/optimize/linesearch.py:466: LineSearchWarning: The line search algorithm did not converge\n",
            "  warn('The line search algorithm did not converge', LineSearchWarning)\n",
            "/usr/local/lib/python3.7/dist-packages/scipy/optimize/linesearch.py:314: LineSearchWarning: The line search algorithm did not converge\n",
            "  warn('The line search algorithm did not converge', LineSearchWarning)\n",
            "/usr/local/lib/python3.7/dist-packages/scipy/optimize/linesearch.py:466: LineSearchWarning: The line search algorithm did not converge\n",
            "  warn('The line search algorithm did not converge', LineSearchWarning)\n",
            "/usr/local/lib/python3.7/dist-packages/scipy/optimize/linesearch.py:314: LineSearchWarning: The line search algorithm did not converge\n",
            "  warn('The line search algorithm did not converge', LineSearchWarning)\n",
            "/usr/local/lib/python3.7/dist-packages/scipy/optimize/linesearch.py:426: LineSearchWarning: Rounding errors prevent the line search from converging\n",
            "  warn(msg, LineSearchWarning)\n",
            "/usr/local/lib/python3.7/dist-packages/scipy/optimize/linesearch.py:314: LineSearchWarning: The line search algorithm did not converge\n",
            "  warn('The line search algorithm did not converge', LineSearchWarning)\n",
            "/usr/local/lib/python3.7/dist-packages/sklearn/utils/optimize.py:204: UserWarning: Line Search failed\n",
            "  warnings.warn('Line Search failed')\n",
            "/usr/local/lib/python3.7/dist-packages/scipy/optimize/linesearch.py:466: LineSearchWarning: The line search algorithm did not converge\n",
            "  warn('The line search algorithm did not converge', LineSearchWarning)\n",
            "/usr/local/lib/python3.7/dist-packages/scipy/optimize/linesearch.py:314: LineSearchWarning: The line search algorithm did not converge\n",
            "  warn('The line search algorithm did not converge', LineSearchWarning)\n",
            "/usr/local/lib/python3.7/dist-packages/scipy/optimize/linesearch.py:466: LineSearchWarning: The line search algorithm did not converge\n",
            "  warn('The line search algorithm did not converge', LineSearchWarning)\n",
            "/usr/local/lib/python3.7/dist-packages/scipy/optimize/linesearch.py:314: LineSearchWarning: The line search algorithm did not converge\n",
            "  warn('The line search algorithm did not converge', LineSearchWarning)\n",
            "/usr/local/lib/python3.7/dist-packages/scipy/optimize/linesearch.py:466: LineSearchWarning: The line search algorithm did not converge\n",
            "  warn('The line search algorithm did not converge', LineSearchWarning)\n",
            "/usr/local/lib/python3.7/dist-packages/scipy/optimize/linesearch.py:314: LineSearchWarning: The line search algorithm did not converge\n",
            "  warn('The line search algorithm did not converge', LineSearchWarning)\n",
            "/usr/local/lib/python3.7/dist-packages/scipy/optimize/linesearch.py:466: LineSearchWarning: The line search algorithm did not converge\n",
            "  warn('The line search algorithm did not converge', LineSearchWarning)\n",
            "/usr/local/lib/python3.7/dist-packages/scipy/optimize/linesearch.py:314: LineSearchWarning: The line search algorithm did not converge\n",
            "  warn('The line search algorithm did not converge', LineSearchWarning)\n",
            "/usr/local/lib/python3.7/dist-packages/scipy/optimize/linesearch.py:466: LineSearchWarning: The line search algorithm did not converge\n",
            "  warn('The line search algorithm did not converge', LineSearchWarning)\n",
            "/usr/local/lib/python3.7/dist-packages/scipy/optimize/linesearch.py:314: LineSearchWarning: The line search algorithm did not converge\n",
            "  warn('The line search algorithm did not converge', LineSearchWarning)\n",
            "/usr/local/lib/python3.7/dist-packages/scipy/optimize/linesearch.py:466: LineSearchWarning: The line search algorithm did not converge\n",
            "  warn('The line search algorithm did not converge', LineSearchWarning)\n",
            "/usr/local/lib/python3.7/dist-packages/scipy/optimize/linesearch.py:314: LineSearchWarning: The line search algorithm did not converge\n",
            "  warn('The line search algorithm did not converge', LineSearchWarning)\n",
            "/usr/local/lib/python3.7/dist-packages/scipy/optimize/linesearch.py:466: LineSearchWarning: The line search algorithm did not converge\n",
            "  warn('The line search algorithm did not converge', LineSearchWarning)\n",
            "/usr/local/lib/python3.7/dist-packages/scipy/optimize/linesearch.py:314: LineSearchWarning: The line search algorithm did not converge\n",
            "  warn('The line search algorithm did not converge', LineSearchWarning)\n",
            "/usr/local/lib/python3.7/dist-packages/scipy/optimize/linesearch.py:466: LineSearchWarning: The line search algorithm did not converge\n",
            "  warn('The line search algorithm did not converge', LineSearchWarning)\n",
            "/usr/local/lib/python3.7/dist-packages/scipy/optimize/linesearch.py:314: LineSearchWarning: The line search algorithm did not converge\n",
            "  warn('The line search algorithm did not converge', LineSearchWarning)\n",
            "/usr/local/lib/python3.7/dist-packages/scipy/optimize/linesearch.py:466: LineSearchWarning: The line search algorithm did not converge\n",
            "  warn('The line search algorithm did not converge', LineSearchWarning)\n",
            "/usr/local/lib/python3.7/dist-packages/scipy/optimize/linesearch.py:314: LineSearchWarning: The line search algorithm did not converge\n",
            "  warn('The line search algorithm did not converge', LineSearchWarning)\n",
            "/usr/local/lib/python3.7/dist-packages/scipy/optimize/linesearch.py:466: LineSearchWarning: The line search algorithm did not converge\n",
            "  warn('The line search algorithm did not converge', LineSearchWarning)\n",
            "/usr/local/lib/python3.7/dist-packages/scipy/optimize/linesearch.py:314: LineSearchWarning: The line search algorithm did not converge\n",
            "  warn('The line search algorithm did not converge', LineSearchWarning)\n",
            "/usr/local/lib/python3.7/dist-packages/scipy/optimize/linesearch.py:466: LineSearchWarning: The line search algorithm did not converge\n",
            "  warn('The line search algorithm did not converge', LineSearchWarning)\n",
            "/usr/local/lib/python3.7/dist-packages/scipy/optimize/linesearch.py:314: LineSearchWarning: The line search algorithm did not converge\n",
            "  warn('The line search algorithm did not converge', LineSearchWarning)\n",
            "/usr/local/lib/python3.7/dist-packages/scipy/optimize/linesearch.py:426: LineSearchWarning: Rounding errors prevent the line search from converging\n",
            "  warn(msg, LineSearchWarning)\n",
            "/usr/local/lib/python3.7/dist-packages/scipy/optimize/linesearch.py:314: LineSearchWarning: The line search algorithm did not converge\n",
            "  warn('The line search algorithm did not converge', LineSearchWarning)\n",
            "/usr/local/lib/python3.7/dist-packages/sklearn/utils/optimize.py:204: UserWarning: Line Search failed\n",
            "  warnings.warn('Line Search failed')\n",
            "/usr/local/lib/python3.7/dist-packages/scipy/optimize/linesearch.py:466: LineSearchWarning: The line search algorithm did not converge\n",
            "  warn('The line search algorithm did not converge', LineSearchWarning)\n",
            "/usr/local/lib/python3.7/dist-packages/scipy/optimize/linesearch.py:314: LineSearchWarning: The line search algorithm did not converge\n",
            "  warn('The line search algorithm did not converge', LineSearchWarning)\n",
            "/usr/local/lib/python3.7/dist-packages/scipy/optimize/linesearch.py:466: LineSearchWarning: The line search algorithm did not converge\n",
            "  warn('The line search algorithm did not converge', LineSearchWarning)\n",
            "/usr/local/lib/python3.7/dist-packages/scipy/optimize/linesearch.py:314: LineSearchWarning: The line search algorithm did not converge\n",
            "  warn('The line search algorithm did not converge', LineSearchWarning)\n",
            "/usr/local/lib/python3.7/dist-packages/scipy/optimize/linesearch.py:466: LineSearchWarning: The line search algorithm did not converge\n",
            "  warn('The line search algorithm did not converge', LineSearchWarning)\n",
            "/usr/local/lib/python3.7/dist-packages/scipy/optimize/linesearch.py:314: LineSearchWarning: The line search algorithm did not converge\n",
            "  warn('The line search algorithm did not converge', LineSearchWarning)\n",
            "/usr/local/lib/python3.7/dist-packages/scipy/optimize/linesearch.py:466: LineSearchWarning: The line search algorithm did not converge\n",
            "  warn('The line search algorithm did not converge', LineSearchWarning)\n",
            "/usr/local/lib/python3.7/dist-packages/scipy/optimize/linesearch.py:314: LineSearchWarning: The line search algorithm did not converge\n",
            "  warn('The line search algorithm did not converge', LineSearchWarning)\n",
            "/usr/local/lib/python3.7/dist-packages/scipy/optimize/linesearch.py:466: LineSearchWarning: The line search algorithm did not converge\n",
            "  warn('The line search algorithm did not converge', LineSearchWarning)\n",
            "/usr/local/lib/python3.7/dist-packages/scipy/optimize/linesearch.py:314: LineSearchWarning: The line search algorithm did not converge\n",
            "  warn('The line search algorithm did not converge', LineSearchWarning)\n",
            "/usr/local/lib/python3.7/dist-packages/scipy/optimize/linesearch.py:466: LineSearchWarning: The line search algorithm did not converge\n",
            "  warn('The line search algorithm did not converge', LineSearchWarning)\n",
            "/usr/local/lib/python3.7/dist-packages/scipy/optimize/linesearch.py:314: LineSearchWarning: The line search algorithm did not converge\n",
            "  warn('The line search algorithm did not converge', LineSearchWarning)\n",
            "/usr/local/lib/python3.7/dist-packages/scipy/optimize/linesearch.py:466: LineSearchWarning: The line search algorithm did not converge\n",
            "  warn('The line search algorithm did not converge', LineSearchWarning)\n",
            "/usr/local/lib/python3.7/dist-packages/scipy/optimize/linesearch.py:314: LineSearchWarning: The line search algorithm did not converge\n",
            "  warn('The line search algorithm did not converge', LineSearchWarning)\n",
            "/usr/local/lib/python3.7/dist-packages/scipy/optimize/linesearch.py:466: LineSearchWarning: The line search algorithm did not converge\n",
            "  warn('The line search algorithm did not converge', LineSearchWarning)\n",
            "/usr/local/lib/python3.7/dist-packages/scipy/optimize/linesearch.py:314: LineSearchWarning: The line search algorithm did not converge\n",
            "  warn('The line search algorithm did not converge', LineSearchWarning)\n",
            "/usr/local/lib/python3.7/dist-packages/scipy/optimize/linesearch.py:466: LineSearchWarning: The line search algorithm did not converge\n",
            "  warn('The line search algorithm did not converge', LineSearchWarning)\n",
            "/usr/local/lib/python3.7/dist-packages/scipy/optimize/linesearch.py:314: LineSearchWarning: The line search algorithm did not converge\n",
            "  warn('The line search algorithm did not converge', LineSearchWarning)\n",
            "/usr/local/lib/python3.7/dist-packages/scipy/optimize/linesearch.py:466: LineSearchWarning: The line search algorithm did not converge\n",
            "  warn('The line search algorithm did not converge', LineSearchWarning)\n",
            "/usr/local/lib/python3.7/dist-packages/scipy/optimize/linesearch.py:314: LineSearchWarning: The line search algorithm did not converge\n",
            "  warn('The line search algorithm did not converge', LineSearchWarning)\n",
            "/usr/local/lib/python3.7/dist-packages/scipy/optimize/linesearch.py:466: LineSearchWarning: The line search algorithm did not converge\n",
            "  warn('The line search algorithm did not converge', LineSearchWarning)\n",
            "/usr/local/lib/python3.7/dist-packages/scipy/optimize/linesearch.py:314: LineSearchWarning: The line search algorithm did not converge\n",
            "  warn('The line search algorithm did not converge', LineSearchWarning)\n",
            "/usr/local/lib/python3.7/dist-packages/scipy/optimize/linesearch.py:466: LineSearchWarning: The line search algorithm did not converge\n",
            "  warn('The line search algorithm did not converge', LineSearchWarning)\n",
            "/usr/local/lib/python3.7/dist-packages/scipy/optimize/linesearch.py:314: LineSearchWarning: The line search algorithm did not converge\n",
            "  warn('The line search algorithm did not converge', LineSearchWarning)\n",
            "/usr/local/lib/python3.7/dist-packages/scipy/optimize/linesearch.py:314: LineSearchWarning: The line search algorithm did not converge\n",
            "  warn('The line search algorithm did not converge', LineSearchWarning)\n",
            "/usr/local/lib/python3.7/dist-packages/sklearn/utils/optimize.py:204: UserWarning: Line Search failed\n",
            "  warnings.warn('Line Search failed')\n",
            "/usr/local/lib/python3.7/dist-packages/scipy/optimize/linesearch.py:466: LineSearchWarning: The line search algorithm did not converge\n",
            "  warn('The line search algorithm did not converge', LineSearchWarning)\n",
            "/usr/local/lib/python3.7/dist-packages/scipy/optimize/linesearch.py:314: LineSearchWarning: The line search algorithm did not converge\n",
            "  warn('The line search algorithm did not converge', LineSearchWarning)\n",
            "/usr/local/lib/python3.7/dist-packages/scipy/optimize/linesearch.py:466: LineSearchWarning: The line search algorithm did not converge\n",
            "  warn('The line search algorithm did not converge', LineSearchWarning)\n",
            "/usr/local/lib/python3.7/dist-packages/scipy/optimize/linesearch.py:314: LineSearchWarning: The line search algorithm did not converge\n",
            "  warn('The line search algorithm did not converge', LineSearchWarning)\n",
            "/usr/local/lib/python3.7/dist-packages/scipy/optimize/linesearch.py:466: LineSearchWarning: The line search algorithm did not converge\n",
            "  warn('The line search algorithm did not converge', LineSearchWarning)\n",
            "/usr/local/lib/python3.7/dist-packages/scipy/optimize/linesearch.py:314: LineSearchWarning: The line search algorithm did not converge\n",
            "  warn('The line search algorithm did not converge', LineSearchWarning)\n",
            "/usr/local/lib/python3.7/dist-packages/scipy/optimize/linesearch.py:466: LineSearchWarning: The line search algorithm did not converge\n",
            "  warn('The line search algorithm did not converge', LineSearchWarning)\n",
            "/usr/local/lib/python3.7/dist-packages/scipy/optimize/linesearch.py:314: LineSearchWarning: The line search algorithm did not converge\n",
            "  warn('The line search algorithm did not converge', LineSearchWarning)\n",
            "/usr/local/lib/python3.7/dist-packages/scipy/optimize/linesearch.py:466: LineSearchWarning: The line search algorithm did not converge\n",
            "  warn('The line search algorithm did not converge', LineSearchWarning)\n",
            "/usr/local/lib/python3.7/dist-packages/scipy/optimize/linesearch.py:314: LineSearchWarning: The line search algorithm did not converge\n",
            "  warn('The line search algorithm did not converge', LineSearchWarning)\n",
            "/usr/local/lib/python3.7/dist-packages/scipy/optimize/linesearch.py:466: LineSearchWarning: The line search algorithm did not converge\n",
            "  warn('The line search algorithm did not converge', LineSearchWarning)\n",
            "/usr/local/lib/python3.7/dist-packages/scipy/optimize/linesearch.py:314: LineSearchWarning: The line search algorithm did not converge\n",
            "  warn('The line search algorithm did not converge', LineSearchWarning)\n",
            "/usr/local/lib/python3.7/dist-packages/scipy/optimize/linesearch.py:466: LineSearchWarning: The line search algorithm did not converge\n",
            "  warn('The line search algorithm did not converge', LineSearchWarning)\n",
            "/usr/local/lib/python3.7/dist-packages/scipy/optimize/linesearch.py:314: LineSearchWarning: The line search algorithm did not converge\n",
            "  warn('The line search algorithm did not converge', LineSearchWarning)\n",
            "/usr/local/lib/python3.7/dist-packages/scipy/optimize/linesearch.py:466: LineSearchWarning: The line search algorithm did not converge\n",
            "  warn('The line search algorithm did not converge', LineSearchWarning)\n",
            "/usr/local/lib/python3.7/dist-packages/scipy/optimize/linesearch.py:314: LineSearchWarning: The line search algorithm did not converge\n",
            "  warn('The line search algorithm did not converge', LineSearchWarning)\n",
            "/usr/local/lib/python3.7/dist-packages/scipy/optimize/linesearch.py:466: LineSearchWarning: The line search algorithm did not converge\n",
            "  warn('The line search algorithm did not converge', LineSearchWarning)\n",
            "/usr/local/lib/python3.7/dist-packages/scipy/optimize/linesearch.py:314: LineSearchWarning: The line search algorithm did not converge\n",
            "  warn('The line search algorithm did not converge', LineSearchWarning)\n",
            "/usr/local/lib/python3.7/dist-packages/scipy/optimize/linesearch.py:466: LineSearchWarning: The line search algorithm did not converge\n",
            "  warn('The line search algorithm did not converge', LineSearchWarning)\n",
            "/usr/local/lib/python3.7/dist-packages/scipy/optimize/linesearch.py:314: LineSearchWarning: The line search algorithm did not converge\n",
            "  warn('The line search algorithm did not converge', LineSearchWarning)\n",
            "/usr/local/lib/python3.7/dist-packages/scipy/optimize/linesearch.py:426: LineSearchWarning: Rounding errors prevent the line search from converging\n",
            "  warn(msg, LineSearchWarning)\n",
            "/usr/local/lib/python3.7/dist-packages/scipy/optimize/linesearch.py:314: LineSearchWarning: The line search algorithm did not converge\n",
            "  warn('The line search algorithm did not converge', LineSearchWarning)\n",
            "/usr/local/lib/python3.7/dist-packages/sklearn/utils/optimize.py:204: UserWarning: Line Search failed\n",
            "  warnings.warn('Line Search failed')\n",
            "/usr/local/lib/python3.7/dist-packages/scipy/optimize/linesearch.py:466: LineSearchWarning: The line search algorithm did not converge\n",
            "  warn('The line search algorithm did not converge', LineSearchWarning)\n",
            "/usr/local/lib/python3.7/dist-packages/scipy/optimize/linesearch.py:314: LineSearchWarning: The line search algorithm did not converge\n",
            "  warn('The line search algorithm did not converge', LineSearchWarning)\n",
            "/usr/local/lib/python3.7/dist-packages/scipy/optimize/linesearch.py:466: LineSearchWarning: The line search algorithm did not converge\n",
            "  warn('The line search algorithm did not converge', LineSearchWarning)\n",
            "/usr/local/lib/python3.7/dist-packages/scipy/optimize/linesearch.py:314: LineSearchWarning: The line search algorithm did not converge\n",
            "  warn('The line search algorithm did not converge', LineSearchWarning)\n",
            "/usr/local/lib/python3.7/dist-packages/scipy/optimize/linesearch.py:466: LineSearchWarning: The line search algorithm did not converge\n",
            "  warn('The line search algorithm did not converge', LineSearchWarning)\n",
            "/usr/local/lib/python3.7/dist-packages/scipy/optimize/linesearch.py:314: LineSearchWarning: The line search algorithm did not converge\n",
            "  warn('The line search algorithm did not converge', LineSearchWarning)\n",
            "/usr/local/lib/python3.7/dist-packages/scipy/optimize/linesearch.py:466: LineSearchWarning: The line search algorithm did not converge\n",
            "  warn('The line search algorithm did not converge', LineSearchWarning)\n",
            "/usr/local/lib/python3.7/dist-packages/scipy/optimize/linesearch.py:314: LineSearchWarning: The line search algorithm did not converge\n",
            "  warn('The line search algorithm did not converge', LineSearchWarning)\n",
            "/usr/local/lib/python3.7/dist-packages/scipy/optimize/linesearch.py:466: LineSearchWarning: The line search algorithm did not converge\n",
            "  warn('The line search algorithm did not converge', LineSearchWarning)\n",
            "/usr/local/lib/python3.7/dist-packages/scipy/optimize/linesearch.py:314: LineSearchWarning: The line search algorithm did not converge\n",
            "  warn('The line search algorithm did not converge', LineSearchWarning)\n",
            "/usr/local/lib/python3.7/dist-packages/scipy/optimize/linesearch.py:466: LineSearchWarning: The line search algorithm did not converge\n",
            "  warn('The line search algorithm did not converge', LineSearchWarning)\n",
            "/usr/local/lib/python3.7/dist-packages/scipy/optimize/linesearch.py:314: LineSearchWarning: The line search algorithm did not converge\n",
            "  warn('The line search algorithm did not converge', LineSearchWarning)\n",
            "/usr/local/lib/python3.7/dist-packages/scipy/optimize/linesearch.py:466: LineSearchWarning: The line search algorithm did not converge\n",
            "  warn('The line search algorithm did not converge', LineSearchWarning)\n",
            "/usr/local/lib/python3.7/dist-packages/scipy/optimize/linesearch.py:314: LineSearchWarning: The line search algorithm did not converge\n",
            "  warn('The line search algorithm did not converge', LineSearchWarning)\n",
            "/usr/local/lib/python3.7/dist-packages/scipy/optimize/linesearch.py:466: LineSearchWarning: The line search algorithm did not converge\n",
            "  warn('The line search algorithm did not converge', LineSearchWarning)\n",
            "/usr/local/lib/python3.7/dist-packages/scipy/optimize/linesearch.py:314: LineSearchWarning: The line search algorithm did not converge\n",
            "  warn('The line search algorithm did not converge', LineSearchWarning)\n",
            "/usr/local/lib/python3.7/dist-packages/scipy/optimize/linesearch.py:466: LineSearchWarning: The line search algorithm did not converge\n",
            "  warn('The line search algorithm did not converge', LineSearchWarning)\n",
            "/usr/local/lib/python3.7/dist-packages/scipy/optimize/linesearch.py:314: LineSearchWarning: The line search algorithm did not converge\n",
            "  warn('The line search algorithm did not converge', LineSearchWarning)\n",
            "/usr/local/lib/python3.7/dist-packages/scipy/optimize/linesearch.py:466: LineSearchWarning: The line search algorithm did not converge\n",
            "  warn('The line search algorithm did not converge', LineSearchWarning)\n",
            "/usr/local/lib/python3.7/dist-packages/scipy/optimize/linesearch.py:314: LineSearchWarning: The line search algorithm did not converge\n",
            "  warn('The line search algorithm did not converge', LineSearchWarning)\n",
            "/usr/local/lib/python3.7/dist-packages/scipy/optimize/linesearch.py:466: LineSearchWarning: The line search algorithm did not converge\n",
            "  warn('The line search algorithm did not converge', LineSearchWarning)\n",
            "/usr/local/lib/python3.7/dist-packages/scipy/optimize/linesearch.py:314: LineSearchWarning: The line search algorithm did not converge\n",
            "  warn('The line search algorithm did not converge', LineSearchWarning)\n",
            "/usr/local/lib/python3.7/dist-packages/scipy/optimize/linesearch.py:426: LineSearchWarning: Rounding errors prevent the line search from converging\n",
            "  warn(msg, LineSearchWarning)\n",
            "/usr/local/lib/python3.7/dist-packages/scipy/optimize/linesearch.py:314: LineSearchWarning: The line search algorithm did not converge\n",
            "  warn('The line search algorithm did not converge', LineSearchWarning)\n",
            "/usr/local/lib/python3.7/dist-packages/sklearn/utils/optimize.py:204: UserWarning: Line Search failed\n",
            "  warnings.warn('Line Search failed')\n",
            "/usr/local/lib/python3.7/dist-packages/scipy/optimize/linesearch.py:466: LineSearchWarning: The line search algorithm did not converge\n",
            "  warn('The line search algorithm did not converge', LineSearchWarning)\n",
            "/usr/local/lib/python3.7/dist-packages/scipy/optimize/linesearch.py:314: LineSearchWarning: The line search algorithm did not converge\n",
            "  warn('The line search algorithm did not converge', LineSearchWarning)\n",
            "/usr/local/lib/python3.7/dist-packages/scipy/optimize/linesearch.py:466: LineSearchWarning: The line search algorithm did not converge\n",
            "  warn('The line search algorithm did not converge', LineSearchWarning)\n",
            "/usr/local/lib/python3.7/dist-packages/scipy/optimize/linesearch.py:314: LineSearchWarning: The line search algorithm did not converge\n",
            "  warn('The line search algorithm did not converge', LineSearchWarning)\n",
            "/usr/local/lib/python3.7/dist-packages/scipy/optimize/linesearch.py:466: LineSearchWarning: The line search algorithm did not converge\n",
            "  warn('The line search algorithm did not converge', LineSearchWarning)\n",
            "/usr/local/lib/python3.7/dist-packages/scipy/optimize/linesearch.py:314: LineSearchWarning: The line search algorithm did not converge\n",
            "  warn('The line search algorithm did not converge', LineSearchWarning)\n",
            "/usr/local/lib/python3.7/dist-packages/scipy/optimize/linesearch.py:466: LineSearchWarning: The line search algorithm did not converge\n",
            "  warn('The line search algorithm did not converge', LineSearchWarning)\n",
            "/usr/local/lib/python3.7/dist-packages/scipy/optimize/linesearch.py:314: LineSearchWarning: The line search algorithm did not converge\n",
            "  warn('The line search algorithm did not converge', LineSearchWarning)\n",
            "/usr/local/lib/python3.7/dist-packages/scipy/optimize/linesearch.py:466: LineSearchWarning: The line search algorithm did not converge\n",
            "  warn('The line search algorithm did not converge', LineSearchWarning)\n",
            "/usr/local/lib/python3.7/dist-packages/scipy/optimize/linesearch.py:314: LineSearchWarning: The line search algorithm did not converge\n",
            "  warn('The line search algorithm did not converge', LineSearchWarning)\n",
            "/usr/local/lib/python3.7/dist-packages/scipy/optimize/linesearch.py:466: LineSearchWarning: The line search algorithm did not converge\n",
            "  warn('The line search algorithm did not converge', LineSearchWarning)\n",
            "/usr/local/lib/python3.7/dist-packages/scipy/optimize/linesearch.py:314: LineSearchWarning: The line search algorithm did not converge\n",
            "  warn('The line search algorithm did not converge', LineSearchWarning)\n",
            "/usr/local/lib/python3.7/dist-packages/scipy/optimize/linesearch.py:466: LineSearchWarning: The line search algorithm did not converge\n",
            "  warn('The line search algorithm did not converge', LineSearchWarning)\n",
            "/usr/local/lib/python3.7/dist-packages/scipy/optimize/linesearch.py:314: LineSearchWarning: The line search algorithm did not converge\n",
            "  warn('The line search algorithm did not converge', LineSearchWarning)\n",
            "/usr/local/lib/python3.7/dist-packages/scipy/optimize/linesearch.py:466: LineSearchWarning: The line search algorithm did not converge\n",
            "  warn('The line search algorithm did not converge', LineSearchWarning)\n",
            "/usr/local/lib/python3.7/dist-packages/scipy/optimize/linesearch.py:314: LineSearchWarning: The line search algorithm did not converge\n",
            "  warn('The line search algorithm did not converge', LineSearchWarning)\n",
            "/usr/local/lib/python3.7/dist-packages/scipy/optimize/linesearch.py:466: LineSearchWarning: The line search algorithm did not converge\n",
            "  warn('The line search algorithm did not converge', LineSearchWarning)\n",
            "/usr/local/lib/python3.7/dist-packages/scipy/optimize/linesearch.py:314: LineSearchWarning: The line search algorithm did not converge\n",
            "  warn('The line search algorithm did not converge', LineSearchWarning)\n",
            "/usr/local/lib/python3.7/dist-packages/scipy/optimize/linesearch.py:466: LineSearchWarning: The line search algorithm did not converge\n",
            "  warn('The line search algorithm did not converge', LineSearchWarning)\n",
            "/usr/local/lib/python3.7/dist-packages/scipy/optimize/linesearch.py:314: LineSearchWarning: The line search algorithm did not converge\n",
            "  warn('The line search algorithm did not converge', LineSearchWarning)\n",
            "/usr/local/lib/python3.7/dist-packages/scipy/optimize/linesearch.py:466: LineSearchWarning: The line search algorithm did not converge\n",
            "  warn('The line search algorithm did not converge', LineSearchWarning)\n",
            "/usr/local/lib/python3.7/dist-packages/scipy/optimize/linesearch.py:314: LineSearchWarning: The line search algorithm did not converge\n",
            "  warn('The line search algorithm did not converge', LineSearchWarning)\n",
            "/usr/local/lib/python3.7/dist-packages/scipy/optimize/linesearch.py:466: LineSearchWarning: The line search algorithm did not converge\n",
            "  warn('The line search algorithm did not converge', LineSearchWarning)\n",
            "/usr/local/lib/python3.7/dist-packages/scipy/optimize/linesearch.py:314: LineSearchWarning: The line search algorithm did not converge\n",
            "  warn('The line search algorithm did not converge', LineSearchWarning)\n",
            "/usr/local/lib/python3.7/dist-packages/sklearn/utils/optimize.py:212: ConvergenceWarning: newton-cg failed to converge. Increase the number of iterations.\n",
            "  \"number of iterations.\", ConvergenceWarning)\n",
            "/usr/local/lib/python3.7/dist-packages/scipy/optimize/linesearch.py:466: LineSearchWarning: The line search algorithm did not converge\n",
            "  warn('The line search algorithm did not converge', LineSearchWarning)\n",
            "/usr/local/lib/python3.7/dist-packages/scipy/optimize/linesearch.py:314: LineSearchWarning: The line search algorithm did not converge\n",
            "  warn('The line search algorithm did not converge', LineSearchWarning)\n",
            "/usr/local/lib/python3.7/dist-packages/scipy/optimize/linesearch.py:466: LineSearchWarning: The line search algorithm did not converge\n",
            "  warn('The line search algorithm did not converge', LineSearchWarning)\n",
            "/usr/local/lib/python3.7/dist-packages/scipy/optimize/linesearch.py:314: LineSearchWarning: The line search algorithm did not converge\n",
            "  warn('The line search algorithm did not converge', LineSearchWarning)\n",
            "/usr/local/lib/python3.7/dist-packages/scipy/optimize/linesearch.py:466: LineSearchWarning: The line search algorithm did not converge\n",
            "  warn('The line search algorithm did not converge', LineSearchWarning)\n",
            "/usr/local/lib/python3.7/dist-packages/scipy/optimize/linesearch.py:314: LineSearchWarning: The line search algorithm did not converge\n",
            "  warn('The line search algorithm did not converge', LineSearchWarning)\n",
            "/usr/local/lib/python3.7/dist-packages/scipy/optimize/linesearch.py:466: LineSearchWarning: The line search algorithm did not converge\n",
            "  warn('The line search algorithm did not converge', LineSearchWarning)\n",
            "/usr/local/lib/python3.7/dist-packages/scipy/optimize/linesearch.py:314: LineSearchWarning: The line search algorithm did not converge\n",
            "  warn('The line search algorithm did not converge', LineSearchWarning)\n",
            "/usr/local/lib/python3.7/dist-packages/scipy/optimize/linesearch.py:466: LineSearchWarning: The line search algorithm did not converge\n",
            "  warn('The line search algorithm did not converge', LineSearchWarning)\n",
            "/usr/local/lib/python3.7/dist-packages/scipy/optimize/linesearch.py:314: LineSearchWarning: The line search algorithm did not converge\n",
            "  warn('The line search algorithm did not converge', LineSearchWarning)\n",
            "/usr/local/lib/python3.7/dist-packages/scipy/optimize/linesearch.py:466: LineSearchWarning: The line search algorithm did not converge\n",
            "  warn('The line search algorithm did not converge', LineSearchWarning)\n",
            "/usr/local/lib/python3.7/dist-packages/scipy/optimize/linesearch.py:314: LineSearchWarning: The line search algorithm did not converge\n",
            "  warn('The line search algorithm did not converge', LineSearchWarning)\n",
            "/usr/local/lib/python3.7/dist-packages/scipy/optimize/linesearch.py:466: LineSearchWarning: The line search algorithm did not converge\n",
            "  warn('The line search algorithm did not converge', LineSearchWarning)\n",
            "/usr/local/lib/python3.7/dist-packages/scipy/optimize/linesearch.py:314: LineSearchWarning: The line search algorithm did not converge\n",
            "  warn('The line search algorithm did not converge', LineSearchWarning)\n",
            "/usr/local/lib/python3.7/dist-packages/scipy/optimize/linesearch.py:466: LineSearchWarning: The line search algorithm did not converge\n",
            "  warn('The line search algorithm did not converge', LineSearchWarning)\n",
            "/usr/local/lib/python3.7/dist-packages/scipy/optimize/linesearch.py:314: LineSearchWarning: The line search algorithm did not converge\n",
            "  warn('The line search algorithm did not converge', LineSearchWarning)\n",
            "/usr/local/lib/python3.7/dist-packages/scipy/optimize/linesearch.py:426: LineSearchWarning: Rounding errors prevent the line search from converging\n",
            "  warn(msg, LineSearchWarning)\n",
            "/usr/local/lib/python3.7/dist-packages/scipy/optimize/linesearch.py:314: LineSearchWarning: The line search algorithm did not converge\n",
            "  warn('The line search algorithm did not converge', LineSearchWarning)\n",
            "/usr/local/lib/python3.7/dist-packages/sklearn/utils/optimize.py:204: UserWarning: Line Search failed\n",
            "  warnings.warn('Line Search failed')\n",
            "/usr/local/lib/python3.7/dist-packages/scipy/optimize/linesearch.py:466: LineSearchWarning: The line search algorithm did not converge\n",
            "  warn('The line search algorithm did not converge', LineSearchWarning)\n",
            "/usr/local/lib/python3.7/dist-packages/scipy/optimize/linesearch.py:314: LineSearchWarning: The line search algorithm did not converge\n",
            "  warn('The line search algorithm did not converge', LineSearchWarning)\n",
            "/usr/local/lib/python3.7/dist-packages/scipy/optimize/linesearch.py:466: LineSearchWarning: The line search algorithm did not converge\n",
            "  warn('The line search algorithm did not converge', LineSearchWarning)\n",
            "/usr/local/lib/python3.7/dist-packages/scipy/optimize/linesearch.py:314: LineSearchWarning: The line search algorithm did not converge\n",
            "  warn('The line search algorithm did not converge', LineSearchWarning)\n",
            "/usr/local/lib/python3.7/dist-packages/scipy/optimize/linesearch.py:466: LineSearchWarning: The line search algorithm did not converge\n",
            "  warn('The line search algorithm did not converge', LineSearchWarning)\n",
            "/usr/local/lib/python3.7/dist-packages/scipy/optimize/linesearch.py:314: LineSearchWarning: The line search algorithm did not converge\n",
            "  warn('The line search algorithm did not converge', LineSearchWarning)\n",
            "/usr/local/lib/python3.7/dist-packages/scipy/optimize/linesearch.py:466: LineSearchWarning: The line search algorithm did not converge\n",
            "  warn('The line search algorithm did not converge', LineSearchWarning)\n",
            "/usr/local/lib/python3.7/dist-packages/scipy/optimize/linesearch.py:314: LineSearchWarning: The line search algorithm did not converge\n",
            "  warn('The line search algorithm did not converge', LineSearchWarning)\n",
            "/usr/local/lib/python3.7/dist-packages/scipy/optimize/linesearch.py:466: LineSearchWarning: The line search algorithm did not converge\n",
            "  warn('The line search algorithm did not converge', LineSearchWarning)\n",
            "/usr/local/lib/python3.7/dist-packages/scipy/optimize/linesearch.py:314: LineSearchWarning: The line search algorithm did not converge\n",
            "  warn('The line search algorithm did not converge', LineSearchWarning)\n",
            "/usr/local/lib/python3.7/dist-packages/scipy/optimize/linesearch.py:466: LineSearchWarning: The line search algorithm did not converge\n",
            "  warn('The line search algorithm did not converge', LineSearchWarning)\n",
            "/usr/local/lib/python3.7/dist-packages/scipy/optimize/linesearch.py:314: LineSearchWarning: The line search algorithm did not converge\n",
            "  warn('The line search algorithm did not converge', LineSearchWarning)\n",
            "/usr/local/lib/python3.7/dist-packages/scipy/optimize/linesearch.py:466: LineSearchWarning: The line search algorithm did not converge\n",
            "  warn('The line search algorithm did not converge', LineSearchWarning)\n",
            "/usr/local/lib/python3.7/dist-packages/scipy/optimize/linesearch.py:314: LineSearchWarning: The line search algorithm did not converge\n",
            "  warn('The line search algorithm did not converge', LineSearchWarning)\n",
            "/usr/local/lib/python3.7/dist-packages/scipy/optimize/linesearch.py:466: LineSearchWarning: The line search algorithm did not converge\n",
            "  warn('The line search algorithm did not converge', LineSearchWarning)\n",
            "/usr/local/lib/python3.7/dist-packages/scipy/optimize/linesearch.py:314: LineSearchWarning: The line search algorithm did not converge\n",
            "  warn('The line search algorithm did not converge', LineSearchWarning)\n",
            "/usr/local/lib/python3.7/dist-packages/scipy/optimize/linesearch.py:466: LineSearchWarning: The line search algorithm did not converge\n",
            "  warn('The line search algorithm did not converge', LineSearchWarning)\n",
            "/usr/local/lib/python3.7/dist-packages/scipy/optimize/linesearch.py:314: LineSearchWarning: The line search algorithm did not converge\n",
            "  warn('The line search algorithm did not converge', LineSearchWarning)\n",
            "/usr/local/lib/python3.7/dist-packages/scipy/optimize/linesearch.py:466: LineSearchWarning: The line search algorithm did not converge\n",
            "  warn('The line search algorithm did not converge', LineSearchWarning)\n",
            "/usr/local/lib/python3.7/dist-packages/scipy/optimize/linesearch.py:314: LineSearchWarning: The line search algorithm did not converge\n",
            "  warn('The line search algorithm did not converge', LineSearchWarning)\n",
            "/usr/local/lib/python3.7/dist-packages/scipy/optimize/linesearch.py:466: LineSearchWarning: The line search algorithm did not converge\n",
            "  warn('The line search algorithm did not converge', LineSearchWarning)\n",
            "/usr/local/lib/python3.7/dist-packages/scipy/optimize/linesearch.py:314: LineSearchWarning: The line search algorithm did not converge\n",
            "  warn('The line search algorithm did not converge', LineSearchWarning)\n",
            "/usr/local/lib/python3.7/dist-packages/scipy/optimize/linesearch.py:466: LineSearchWarning: The line search algorithm did not converge\n",
            "  warn('The line search algorithm did not converge', LineSearchWarning)\n",
            "/usr/local/lib/python3.7/dist-packages/scipy/optimize/linesearch.py:314: LineSearchWarning: The line search algorithm did not converge\n",
            "  warn('The line search algorithm did not converge', LineSearchWarning)\n",
            "/usr/local/lib/python3.7/dist-packages/scipy/optimize/linesearch.py:426: LineSearchWarning: Rounding errors prevent the line search from converging\n",
            "  warn(msg, LineSearchWarning)\n",
            "/usr/local/lib/python3.7/dist-packages/scipy/optimize/linesearch.py:314: LineSearchWarning: The line search algorithm did not converge\n",
            "  warn('The line search algorithm did not converge', LineSearchWarning)\n",
            "/usr/local/lib/python3.7/dist-packages/sklearn/utils/optimize.py:204: UserWarning: Line Search failed\n",
            "  warnings.warn('Line Search failed')\n",
            "/usr/local/lib/python3.7/dist-packages/scipy/optimize/linesearch.py:466: LineSearchWarning: The line search algorithm did not converge\n",
            "  warn('The line search algorithm did not converge', LineSearchWarning)\n",
            "/usr/local/lib/python3.7/dist-packages/scipy/optimize/linesearch.py:314: LineSearchWarning: The line search algorithm did not converge\n",
            "  warn('The line search algorithm did not converge', LineSearchWarning)\n",
            "/usr/local/lib/python3.7/dist-packages/scipy/optimize/linesearch.py:466: LineSearchWarning: The line search algorithm did not converge\n",
            "  warn('The line search algorithm did not converge', LineSearchWarning)\n",
            "/usr/local/lib/python3.7/dist-packages/scipy/optimize/linesearch.py:314: LineSearchWarning: The line search algorithm did not converge\n",
            "  warn('The line search algorithm did not converge', LineSearchWarning)\n",
            "/usr/local/lib/python3.7/dist-packages/scipy/optimize/linesearch.py:466: LineSearchWarning: The line search algorithm did not converge\n",
            "  warn('The line search algorithm did not converge', LineSearchWarning)\n",
            "/usr/local/lib/python3.7/dist-packages/scipy/optimize/linesearch.py:314: LineSearchWarning: The line search algorithm did not converge\n",
            "  warn('The line search algorithm did not converge', LineSearchWarning)\n",
            "/usr/local/lib/python3.7/dist-packages/scipy/optimize/linesearch.py:466: LineSearchWarning: The line search algorithm did not converge\n",
            "  warn('The line search algorithm did not converge', LineSearchWarning)\n",
            "/usr/local/lib/python3.7/dist-packages/scipy/optimize/linesearch.py:314: LineSearchWarning: The line search algorithm did not converge\n",
            "  warn('The line search algorithm did not converge', LineSearchWarning)\n",
            "/usr/local/lib/python3.7/dist-packages/scipy/optimize/linesearch.py:466: LineSearchWarning: The line search algorithm did not converge\n",
            "  warn('The line search algorithm did not converge', LineSearchWarning)\n",
            "/usr/local/lib/python3.7/dist-packages/scipy/optimize/linesearch.py:314: LineSearchWarning: The line search algorithm did not converge\n",
            "  warn('The line search algorithm did not converge', LineSearchWarning)\n",
            "/usr/local/lib/python3.7/dist-packages/scipy/optimize/linesearch.py:466: LineSearchWarning: The line search algorithm did not converge\n",
            "  warn('The line search algorithm did not converge', LineSearchWarning)\n",
            "/usr/local/lib/python3.7/dist-packages/scipy/optimize/linesearch.py:314: LineSearchWarning: The line search algorithm did not converge\n",
            "  warn('The line search algorithm did not converge', LineSearchWarning)\n",
            "/usr/local/lib/python3.7/dist-packages/scipy/optimize/linesearch.py:466: LineSearchWarning: The line search algorithm did not converge\n",
            "  warn('The line search algorithm did not converge', LineSearchWarning)\n",
            "/usr/local/lib/python3.7/dist-packages/scipy/optimize/linesearch.py:314: LineSearchWarning: The line search algorithm did not converge\n",
            "  warn('The line search algorithm did not converge', LineSearchWarning)\n",
            "/usr/local/lib/python3.7/dist-packages/scipy/optimize/linesearch.py:466: LineSearchWarning: The line search algorithm did not converge\n",
            "  warn('The line search algorithm did not converge', LineSearchWarning)\n",
            "/usr/local/lib/python3.7/dist-packages/scipy/optimize/linesearch.py:314: LineSearchWarning: The line search algorithm did not converge\n",
            "  warn('The line search algorithm did not converge', LineSearchWarning)\n",
            "/usr/local/lib/python3.7/dist-packages/scipy/optimize/linesearch.py:466: LineSearchWarning: The line search algorithm did not converge\n",
            "  warn('The line search algorithm did not converge', LineSearchWarning)\n",
            "/usr/local/lib/python3.7/dist-packages/scipy/optimize/linesearch.py:314: LineSearchWarning: The line search algorithm did not converge\n",
            "  warn('The line search algorithm did not converge', LineSearchWarning)\n",
            "/usr/local/lib/python3.7/dist-packages/scipy/optimize/linesearch.py:426: LineSearchWarning: Rounding errors prevent the line search from converging\n",
            "  warn(msg, LineSearchWarning)\n",
            "/usr/local/lib/python3.7/dist-packages/scipy/optimize/linesearch.py:314: LineSearchWarning: The line search algorithm did not converge\n",
            "  warn('The line search algorithm did not converge', LineSearchWarning)\n",
            "/usr/local/lib/python3.7/dist-packages/sklearn/utils/optimize.py:204: UserWarning: Line Search failed\n",
            "  warnings.warn('Line Search failed')\n",
            "/usr/local/lib/python3.7/dist-packages/scipy/optimize/linesearch.py:466: LineSearchWarning: The line search algorithm did not converge\n",
            "  warn('The line search algorithm did not converge', LineSearchWarning)\n",
            "/usr/local/lib/python3.7/dist-packages/scipy/optimize/linesearch.py:314: LineSearchWarning: The line search algorithm did not converge\n",
            "  warn('The line search algorithm did not converge', LineSearchWarning)\n",
            "/usr/local/lib/python3.7/dist-packages/scipy/optimize/linesearch.py:466: LineSearchWarning: The line search algorithm did not converge\n",
            "  warn('The line search algorithm did not converge', LineSearchWarning)\n",
            "/usr/local/lib/python3.7/dist-packages/scipy/optimize/linesearch.py:314: LineSearchWarning: The line search algorithm did not converge\n",
            "  warn('The line search algorithm did not converge', LineSearchWarning)\n",
            "/usr/local/lib/python3.7/dist-packages/scipy/optimize/linesearch.py:466: LineSearchWarning: The line search algorithm did not converge\n",
            "  warn('The line search algorithm did not converge', LineSearchWarning)\n",
            "/usr/local/lib/python3.7/dist-packages/scipy/optimize/linesearch.py:314: LineSearchWarning: The line search algorithm did not converge\n",
            "  warn('The line search algorithm did not converge', LineSearchWarning)\n",
            "/usr/local/lib/python3.7/dist-packages/scipy/optimize/linesearch.py:466: LineSearchWarning: The line search algorithm did not converge\n",
            "  warn('The line search algorithm did not converge', LineSearchWarning)\n",
            "/usr/local/lib/python3.7/dist-packages/scipy/optimize/linesearch.py:314: LineSearchWarning: The line search algorithm did not converge\n",
            "  warn('The line search algorithm did not converge', LineSearchWarning)\n",
            "/usr/local/lib/python3.7/dist-packages/scipy/optimize/linesearch.py:466: LineSearchWarning: The line search algorithm did not converge\n",
            "  warn('The line search algorithm did not converge', LineSearchWarning)\n",
            "/usr/local/lib/python3.7/dist-packages/scipy/optimize/linesearch.py:314: LineSearchWarning: The line search algorithm did not converge\n",
            "  warn('The line search algorithm did not converge', LineSearchWarning)\n",
            "/usr/local/lib/python3.7/dist-packages/scipy/optimize/linesearch.py:466: LineSearchWarning: The line search algorithm did not converge\n",
            "  warn('The line search algorithm did not converge', LineSearchWarning)\n",
            "/usr/local/lib/python3.7/dist-packages/scipy/optimize/linesearch.py:314: LineSearchWarning: The line search algorithm did not converge\n",
            "  warn('The line search algorithm did not converge', LineSearchWarning)\n",
            "/usr/local/lib/python3.7/dist-packages/scipy/optimize/linesearch.py:466: LineSearchWarning: The line search algorithm did not converge\n",
            "  warn('The line search algorithm did not converge', LineSearchWarning)\n",
            "/usr/local/lib/python3.7/dist-packages/scipy/optimize/linesearch.py:314: LineSearchWarning: The line search algorithm did not converge\n",
            "  warn('The line search algorithm did not converge', LineSearchWarning)\n",
            "/usr/local/lib/python3.7/dist-packages/scipy/optimize/linesearch.py:466: LineSearchWarning: The line search algorithm did not converge\n",
            "  warn('The line search algorithm did not converge', LineSearchWarning)\n",
            "/usr/local/lib/python3.7/dist-packages/scipy/optimize/linesearch.py:314: LineSearchWarning: The line search algorithm did not converge\n",
            "  warn('The line search algorithm did not converge', LineSearchWarning)\n",
            "/usr/local/lib/python3.7/dist-packages/scipy/optimize/linesearch.py:466: LineSearchWarning: The line search algorithm did not converge\n",
            "  warn('The line search algorithm did not converge', LineSearchWarning)\n",
            "/usr/local/lib/python3.7/dist-packages/scipy/optimize/linesearch.py:314: LineSearchWarning: The line search algorithm did not converge\n",
            "  warn('The line search algorithm did not converge', LineSearchWarning)\n",
            "/usr/local/lib/python3.7/dist-packages/scipy/optimize/linesearch.py:466: LineSearchWarning: The line search algorithm did not converge\n",
            "  warn('The line search algorithm did not converge', LineSearchWarning)\n",
            "/usr/local/lib/python3.7/dist-packages/scipy/optimize/linesearch.py:314: LineSearchWarning: The line search algorithm did not converge\n",
            "  warn('The line search algorithm did not converge', LineSearchWarning)\n",
            "/usr/local/lib/python3.7/dist-packages/scipy/optimize/linesearch.py:466: LineSearchWarning: The line search algorithm did not converge\n",
            "  warn('The line search algorithm did not converge', LineSearchWarning)\n",
            "/usr/local/lib/python3.7/dist-packages/scipy/optimize/linesearch.py:314: LineSearchWarning: The line search algorithm did not converge\n",
            "  warn('The line search algorithm did not converge', LineSearchWarning)\n",
            "/usr/local/lib/python3.7/dist-packages/scipy/optimize/linesearch.py:466: LineSearchWarning: The line search algorithm did not converge\n",
            "  warn('The line search algorithm did not converge', LineSearchWarning)\n",
            "/usr/local/lib/python3.7/dist-packages/scipy/optimize/linesearch.py:314: LineSearchWarning: The line search algorithm did not converge\n",
            "  warn('The line search algorithm did not converge', LineSearchWarning)\n",
            "/usr/local/lib/python3.7/dist-packages/scipy/optimize/linesearch.py:466: LineSearchWarning: The line search algorithm did not converge\n",
            "  warn('The line search algorithm did not converge', LineSearchWarning)\n",
            "/usr/local/lib/python3.7/dist-packages/scipy/optimize/linesearch.py:314: LineSearchWarning: The line search algorithm did not converge\n",
            "  warn('The line search algorithm did not converge', LineSearchWarning)\n",
            "/usr/local/lib/python3.7/dist-packages/scipy/optimize/linesearch.py:466: LineSearchWarning: The line search algorithm did not converge\n",
            "  warn('The line search algorithm did not converge', LineSearchWarning)\n",
            "/usr/local/lib/python3.7/dist-packages/scipy/optimize/linesearch.py:314: LineSearchWarning: The line search algorithm did not converge\n",
            "  warn('The line search algorithm did not converge', LineSearchWarning)\n",
            "/usr/local/lib/python3.7/dist-packages/scipy/optimize/linesearch.py:426: LineSearchWarning: Rounding errors prevent the line search from converging\n",
            "  warn(msg, LineSearchWarning)\n",
            "/usr/local/lib/python3.7/dist-packages/scipy/optimize/linesearch.py:314: LineSearchWarning: The line search algorithm did not converge\n",
            "  warn('The line search algorithm did not converge', LineSearchWarning)\n",
            "/usr/local/lib/python3.7/dist-packages/sklearn/utils/optimize.py:204: UserWarning: Line Search failed\n",
            "  warnings.warn('Line Search failed')\n"
          ],
          "name": "stderr"
        },
        {
          "output_type": "display_data",
          "data": {
            "image/png": "[encoded data removed]",
            "text/plain": [
              "<Figure size 720x720 with 1 Axes>"
            ]
          },
          "metadata": {
            "tags": []
          }
        }
      ]
    },
    {
      "cell_type": "markdown",
      "metadata": {
        "id": "SYnvwQRahpFZ"
      },
      "source": [
        "Keras"
      ]
    },
    {
      "cell_type": "code",
      "metadata": {
        "id": "dYfPGayVhoRq"
      },
      "source": [
        "from keras import layers as L\n",
        "from keras.models import Sequential\n",
        "from keras.models import Model\n",
        "import keras.optimizers as opt\n",
        "from sklearn.metrics import log_loss"
      ],
      "execution_count": 280,
      "outputs": []
    },
    {
      "cell_type": "markdown",
      "metadata": {
        "id": "iixE7wYZI1CU"
      },
      "source": [
        "### Построение модели\n",
        "Мы использовали"
      ]
    },
    {
      "cell_type": "code",
      "metadata": {
        "id": "sExypEdyh3k5"
      },
      "source": [
        "def getModel( ):\n",
        "    model = Sequential(name = 'Claim')\n",
        "    \n",
        "    model.add(L.Dense(16, input_dim = X_train.shape[1], kernel_initializer='random_normal'))\n",
        "    model.add(L.Activation('sigmoid'))\n",
        "    model.add(L.Dense(8, kernel_initializer='random_normal'))\n",
        "    model.add(L.Activation('sigmoid'))\n",
        "    model.add(L.Dense(2, activation='softmax', kernel_initializer = 'random_normal'))\n",
        "    \n",
        "    optimizer = opt.Adam(learning_rate=0.001)\n",
        "\n",
        "    model.compile(loss = 'categorical_crossentropy', \n",
        "                  metrics=[\"accuracy\"], \n",
        "                  optimizer=optimizer)\n",
        "    \n",
        "    return model"
      ],
      "execution_count": 266,
      "outputs": []
    },
    {
      "cell_type": "code",
      "metadata": {
        "id": "GkJ7hwiDiH1l"
      },
      "source": [
        "model = getModel( )"
      ],
      "execution_count": 267,
      "outputs": []
    },
    {
      "cell_type": "code",
      "metadata": {
        "id": "qBYgLesTiKDK",
        "colab": {
          "base_uri": "https://localhost:8080/"
        },
        "outputId": "8eda42c6-6568-4d31-c9ed-5e50e11e167d"
      },
      "source": [
        "model.summary()"
      ],
      "execution_count": 268,
      "outputs": [
        {
          "output_type": "stream",
          "text": [
            "Model: \"Claim\"\n",
            "_________________________________________________________________\n",
            "Layer (type)                 Output Shape              Param #   \n",
            "=================================================================\n",
            "dense_12 (Dense)             (None, 16)                320       \n",
            "_________________________________________________________________\n",
            "activation_8 (Activation)    (None, 16)                0         \n",
            "_________________________________________________________________\n",
            "dense_13 (Dense)             (None, 8)                 136       \n",
            "_________________________________________________________________\n",
            "activation_9 (Activation)    (None, 8)                 0         \n",
            "_________________________________________________________________\n",
            "dense_14 (Dense)             (None, 2)                 18        \n",
            "=================================================================\n",
            "Total params: 474\n",
            "Trainable params: 474\n",
            "Non-trainable params: 0\n",
            "_________________________________________________________________\n"
          ],
          "name": "stdout"
        }
      ]
    },
    {
      "cell_type": "markdown",
      "metadata": {
        "id": "hrVIN1JjU7AY"
      },
      "source": [
        "Выведем количество наблюдений для оценки каждого параметра"
      ]
    },
    {
      "cell_type": "code",
      "metadata": {
        "id": "YiJx5NUvjCqQ",
        "colab": {
          "base_uri": "https://localhost:8080/"
        },
        "outputId": "308f8a4e-a5a4-488e-a159-13e353bdb4b4"
      },
      "source": [
        "X_train.shape[0]/320"
      ],
      "execution_count": 269,
      "outputs": [
        {
          "output_type": "execute_result",
          "data": {
            "text/plain": [
              "22.53125"
            ]
          },
          "metadata": {
            "tags": []
          },
          "execution_count": 269
        }
      ]
    },
    {
      "cell_type": "markdown",
      "metadata": {
        "id": "1-DZXgtRVm4X"
      },
      "source": [
        "Переводим переменную  y в матрицу из дамми-переменных"
      ]
    },
    {
      "cell_type": "code",
      "metadata": {
        "id": "bxb_9O2-jQuB",
        "colab": {
          "base_uri": "https://localhost:8080/"
        },
        "outputId": "6c65d4e8-407c-45b0-c8e6-d2571ba2b0cb"
      },
      "source": [
        "from tensorflow.keras.utils import to_categorical\n",
        "to_categorical(Y)"
      ],
      "execution_count": 270,
      "outputs": [
        {
          "output_type": "execute_result",
          "data": {
            "text/plain": [
              "array([[1., 0.],\n",
              "       [1., 0.],\n",
              "       [1., 0.],\n",
              "       ...,\n",
              "       [1., 0.],\n",
              "       [1., 0.],\n",
              "       [1., 0.]], dtype=float32)"
            ]
          },
          "metadata": {
            "tags": []
          },
          "execution_count": 270
        }
      ]
    },
    {
      "cell_type": "markdown",
      "metadata": {
        "id": "bN19Q48pVykb"
      },
      "source": [
        "Нормализуем выборку для лучшей сходимости переменных"
      ]
    },
    {
      "cell_type": "code",
      "metadata": {
        "id": "IVeGAI8w8vKt"
      },
      "source": [
        "from sklearn.preprocessing import StandardScaler\n",
        "scaler = StandardScaler()\n",
        "\n",
        "X_train = scaler.fit_transform(X_train)\n",
        "X_test = scaler.transform(X_test)"
      ],
      "execution_count": 271,
      "outputs": []
    },
    {
      "cell_type": "markdown",
      "metadata": {
        "id": "M_MP9iWnV5Ca"
      },
      "source": [
        "Обучаем модель"
      ]
    },
    {
      "cell_type": "code",
      "metadata": {
        "id": "kmI_MzQej6J4",
        "colab": {
          "base_uri": "https://localhost:8080/"
        },
        "outputId": "51844846-794c-4c4b-b7ce-010e22616de7"
      },
      "source": [
        "hist = model.fit(X_train, to_categorical(y_train), validation_split=0.3, epochs=200, verbose=1)"
      ],
      "execution_count": 272,
      "outputs": [
        {
          "output_type": "stream",
          "text": [
            "Epoch 1/200\n",
            "158/158 [==============================] - 2s 5ms/step - loss: 0.6283 - accuracy: 0.7262 - val_loss: 0.5825 - val_accuracy: 0.7217\n",
            "Epoch 2/200\n",
            "158/158 [==============================] - 0s 2ms/step - loss: 0.5745 - accuracy: 0.7273 - val_loss: 0.5712 - val_accuracy: 0.7217\n",
            "Epoch 3/200\n",
            "158/158 [==============================] - 0s 2ms/step - loss: 0.5664 - accuracy: 0.7242 - val_loss: 0.5592 - val_accuracy: 0.7217\n",
            "Epoch 4/200\n",
            "158/158 [==============================] - 0s 2ms/step - loss: 0.5485 - accuracy: 0.7290 - val_loss: 0.5442 - val_accuracy: 0.7217\n",
            "Epoch 5/200\n",
            "158/158 [==============================] - 0s 2ms/step - loss: 0.5242 - accuracy: 0.7382 - val_loss: 0.5293 - val_accuracy: 0.7217\n",
            "Epoch 6/200\n",
            "158/158 [==============================] - 0s 2ms/step - loss: 0.5270 - accuracy: 0.7232 - val_loss: 0.5197 - val_accuracy: 0.7217\n",
            "Epoch 7/200\n",
            "158/158 [==============================] - 0s 2ms/step - loss: 0.4975 - accuracy: 0.7457 - val_loss: 0.5072 - val_accuracy: 0.7217\n",
            "Epoch 8/200\n",
            "158/158 [==============================] - 0s 2ms/step - loss: 0.4981 - accuracy: 0.7322 - val_loss: 0.5015 - val_accuracy: 0.7388\n",
            "Epoch 9/200\n",
            "158/158 [==============================] - 0s 2ms/step - loss: 0.4869 - accuracy: 0.7605 - val_loss: 0.4954 - val_accuracy: 0.7675\n",
            "Epoch 10/200\n",
            "158/158 [==============================] - 0s 2ms/step - loss: 0.4840 - accuracy: 0.7740 - val_loss: 0.4927 - val_accuracy: 0.7651\n",
            "Epoch 11/200\n",
            "158/158 [==============================] - 0s 2ms/step - loss: 0.4791 - accuracy: 0.7742 - val_loss: 0.4899 - val_accuracy: 0.7675\n",
            "Epoch 12/200\n",
            "158/158 [==============================] - 0s 2ms/step - loss: 0.4912 - accuracy: 0.7695 - val_loss: 0.4908 - val_accuracy: 0.7679\n",
            "Epoch 13/200\n",
            "158/158 [==============================] - 0s 2ms/step - loss: 0.4856 - accuracy: 0.7754 - val_loss: 0.4886 - val_accuracy: 0.7679\n",
            "Epoch 14/200\n",
            "158/158 [==============================] - 0s 2ms/step - loss: 0.4788 - accuracy: 0.7754 - val_loss: 0.4875 - val_accuracy: 0.7679\n",
            "Epoch 15/200\n",
            "158/158 [==============================] - 0s 2ms/step - loss: 0.4813 - accuracy: 0.7788 - val_loss: 0.4868 - val_accuracy: 0.7716\n",
            "Epoch 16/200\n",
            "158/158 [==============================] - 0s 2ms/step - loss: 0.4842 - accuracy: 0.7699 - val_loss: 0.4864 - val_accuracy: 0.7725\n",
            "Epoch 17/200\n",
            "158/158 [==============================] - 0s 2ms/step - loss: 0.4813 - accuracy: 0.7753 - val_loss: 0.4849 - val_accuracy: 0.7721\n",
            "Epoch 18/200\n",
            "158/158 [==============================] - 0s 2ms/step - loss: 0.4815 - accuracy: 0.7706 - val_loss: 0.4841 - val_accuracy: 0.7716\n",
            "Epoch 19/200\n",
            "158/158 [==============================] - 0s 2ms/step - loss: 0.4874 - accuracy: 0.7673 - val_loss: 0.4841 - val_accuracy: 0.7712\n",
            "Epoch 20/200\n",
            "158/158 [==============================] - 0s 2ms/step - loss: 0.4720 - accuracy: 0.7775 - val_loss: 0.4839 - val_accuracy: 0.7707\n",
            "Epoch 21/200\n",
            "158/158 [==============================] - 0s 2ms/step - loss: 0.4757 - accuracy: 0.7823 - val_loss: 0.4833 - val_accuracy: 0.7693\n",
            "Epoch 22/200\n",
            "158/158 [==============================] - 0s 2ms/step - loss: 0.4869 - accuracy: 0.7662 - val_loss: 0.4831 - val_accuracy: 0.7702\n",
            "Epoch 23/200\n",
            "158/158 [==============================] - 0s 2ms/step - loss: 0.4610 - accuracy: 0.7769 - val_loss: 0.4826 - val_accuracy: 0.7712\n",
            "Epoch 24/200\n",
            "158/158 [==============================] - 0s 2ms/step - loss: 0.4730 - accuracy: 0.7810 - val_loss: 0.4825 - val_accuracy: 0.7753\n",
            "Epoch 25/200\n",
            "158/158 [==============================] - 0s 2ms/step - loss: 0.4824 - accuracy: 0.7621 - val_loss: 0.4823 - val_accuracy: 0.7730\n",
            "Epoch 26/200\n",
            "158/158 [==============================] - 0s 2ms/step - loss: 0.4665 - accuracy: 0.7802 - val_loss: 0.4821 - val_accuracy: 0.7725\n",
            "Epoch 27/200\n",
            "158/158 [==============================] - 0s 2ms/step - loss: 0.4765 - accuracy: 0.7733 - val_loss: 0.4821 - val_accuracy: 0.7716\n",
            "Epoch 28/200\n",
            "158/158 [==============================] - 0s 2ms/step - loss: 0.4823 - accuracy: 0.7574 - val_loss: 0.4832 - val_accuracy: 0.7665\n",
            "Epoch 29/200\n",
            "158/158 [==============================] - 0s 2ms/step - loss: 0.4846 - accuracy: 0.7703 - val_loss: 0.4818 - val_accuracy: 0.7712\n",
            "Epoch 30/200\n",
            "158/158 [==============================] - 0s 2ms/step - loss: 0.4740 - accuracy: 0.7694 - val_loss: 0.4828 - val_accuracy: 0.7670\n",
            "Epoch 31/200\n",
            "158/158 [==============================] - 0s 2ms/step - loss: 0.4662 - accuracy: 0.7750 - val_loss: 0.4814 - val_accuracy: 0.7758\n",
            "Epoch 32/200\n",
            "158/158 [==============================] - 0s 2ms/step - loss: 0.4787 - accuracy: 0.7669 - val_loss: 0.4819 - val_accuracy: 0.7698\n",
            "Epoch 33/200\n",
            "158/158 [==============================] - 0s 2ms/step - loss: 0.4751 - accuracy: 0.7771 - val_loss: 0.4828 - val_accuracy: 0.7651\n",
            "Epoch 34/200\n",
            "158/158 [==============================] - 0s 2ms/step - loss: 0.4677 - accuracy: 0.7801 - val_loss: 0.4812 - val_accuracy: 0.7721\n",
            "Epoch 35/200\n",
            "158/158 [==============================] - 0s 2ms/step - loss: 0.4703 - accuracy: 0.7868 - val_loss: 0.4812 - val_accuracy: 0.7730\n",
            "Epoch 36/200\n",
            "158/158 [==============================] - 0s 2ms/step - loss: 0.4725 - accuracy: 0.7742 - val_loss: 0.4808 - val_accuracy: 0.7735\n",
            "Epoch 37/200\n",
            "158/158 [==============================] - 0s 2ms/step - loss: 0.4865 - accuracy: 0.7694 - val_loss: 0.4814 - val_accuracy: 0.7679\n",
            "Epoch 38/200\n",
            "158/158 [==============================] - 0s 2ms/step - loss: 0.4888 - accuracy: 0.7666 - val_loss: 0.4808 - val_accuracy: 0.7712\n",
            "Epoch 39/200\n",
            "158/158 [==============================] - 0s 2ms/step - loss: 0.4710 - accuracy: 0.7754 - val_loss: 0.4804 - val_accuracy: 0.7716\n",
            "Epoch 40/200\n",
            "158/158 [==============================] - 0s 2ms/step - loss: 0.4640 - accuracy: 0.7798 - val_loss: 0.4802 - val_accuracy: 0.7735\n",
            "Epoch 41/200\n",
            "158/158 [==============================] - 0s 2ms/step - loss: 0.4801 - accuracy: 0.7661 - val_loss: 0.4811 - val_accuracy: 0.7707\n",
            "Epoch 42/200\n",
            "158/158 [==============================] - 0s 2ms/step - loss: 0.4743 - accuracy: 0.7732 - val_loss: 0.4810 - val_accuracy: 0.7707\n",
            "Epoch 43/200\n",
            "158/158 [==============================] - 0s 2ms/step - loss: 0.4947 - accuracy: 0.7610 - val_loss: 0.4845 - val_accuracy: 0.7693\n",
            "Epoch 44/200\n",
            "158/158 [==============================] - 0s 2ms/step - loss: 0.4877 - accuracy: 0.7650 - val_loss: 0.4810 - val_accuracy: 0.7698\n",
            "Epoch 45/200\n",
            "158/158 [==============================] - 0s 2ms/step - loss: 0.4773 - accuracy: 0.7722 - val_loss: 0.4825 - val_accuracy: 0.7693\n",
            "Epoch 46/200\n",
            "158/158 [==============================] - 0s 2ms/step - loss: 0.4923 - accuracy: 0.7563 - val_loss: 0.4831 - val_accuracy: 0.7707\n",
            "Epoch 47/200\n",
            "158/158 [==============================] - 0s 2ms/step - loss: 0.4848 - accuracy: 0.7646 - val_loss: 0.4810 - val_accuracy: 0.7702\n",
            "Epoch 48/200\n",
            "158/158 [==============================] - 0s 2ms/step - loss: 0.4595 - accuracy: 0.7782 - val_loss: 0.4807 - val_accuracy: 0.7707\n",
            "Epoch 49/200\n",
            "158/158 [==============================] - 0s 2ms/step - loss: 0.4822 - accuracy: 0.7708 - val_loss: 0.4816 - val_accuracy: 0.7698\n",
            "Epoch 50/200\n",
            "158/158 [==============================] - 0s 2ms/step - loss: 0.4596 - accuracy: 0.7840 - val_loss: 0.4798 - val_accuracy: 0.7739\n",
            "Epoch 51/200\n",
            "158/158 [==============================] - 0s 2ms/step - loss: 0.4694 - accuracy: 0.7761 - val_loss: 0.4803 - val_accuracy: 0.7707\n",
            "Epoch 52/200\n",
            "158/158 [==============================] - 0s 2ms/step - loss: 0.4668 - accuracy: 0.7773 - val_loss: 0.4797 - val_accuracy: 0.7739\n",
            "Epoch 53/200\n",
            "158/158 [==============================] - 0s 2ms/step - loss: 0.4615 - accuracy: 0.7868 - val_loss: 0.4800 - val_accuracy: 0.7739\n",
            "Epoch 54/200\n",
            "158/158 [==============================] - 0s 2ms/step - loss: 0.4727 - accuracy: 0.7768 - val_loss: 0.4824 - val_accuracy: 0.7693\n",
            "Epoch 55/200\n",
            "158/158 [==============================] - 0s 2ms/step - loss: 0.4784 - accuracy: 0.7753 - val_loss: 0.4798 - val_accuracy: 0.7758\n",
            "Epoch 56/200\n",
            "158/158 [==============================] - 0s 2ms/step - loss: 0.4647 - accuracy: 0.7829 - val_loss: 0.4806 - val_accuracy: 0.7712\n",
            "Epoch 57/200\n",
            "158/158 [==============================] - 0s 2ms/step - loss: 0.4583 - accuracy: 0.7866 - val_loss: 0.4796 - val_accuracy: 0.7767\n",
            "Epoch 58/200\n",
            "158/158 [==============================] - 0s 2ms/step - loss: 0.4799 - accuracy: 0.7720 - val_loss: 0.4819 - val_accuracy: 0.7702\n",
            "Epoch 59/200\n",
            "158/158 [==============================] - 0s 2ms/step - loss: 0.4609 - accuracy: 0.7743 - val_loss: 0.4807 - val_accuracy: 0.7712\n",
            "Epoch 60/200\n",
            "158/158 [==============================] - 0s 2ms/step - loss: 0.4833 - accuracy: 0.7675 - val_loss: 0.4814 - val_accuracy: 0.7712\n",
            "Epoch 61/200\n",
            "158/158 [==============================] - 0s 2ms/step - loss: 0.4645 - accuracy: 0.7806 - val_loss: 0.4802 - val_accuracy: 0.7739\n",
            "Epoch 62/200\n",
            "158/158 [==============================] - 0s 2ms/step - loss: 0.4643 - accuracy: 0.7821 - val_loss: 0.4801 - val_accuracy: 0.7730\n",
            "Epoch 63/200\n",
            "158/158 [==============================] - 0s 2ms/step - loss: 0.4753 - accuracy: 0.7718 - val_loss: 0.4801 - val_accuracy: 0.7739\n",
            "Epoch 64/200\n",
            "158/158 [==============================] - 0s 2ms/step - loss: 0.4669 - accuracy: 0.7765 - val_loss: 0.4813 - val_accuracy: 0.7716\n",
            "Epoch 65/200\n",
            "158/158 [==============================] - 0s 2ms/step - loss: 0.4654 - accuracy: 0.7787 - val_loss: 0.4819 - val_accuracy: 0.7707\n",
            "Epoch 66/200\n",
            "158/158 [==============================] - 0s 2ms/step - loss: 0.4812 - accuracy: 0.7682 - val_loss: 0.4828 - val_accuracy: 0.7688\n",
            "Epoch 67/200\n",
            "158/158 [==============================] - 0s 2ms/step - loss: 0.4639 - accuracy: 0.7809 - val_loss: 0.4800 - val_accuracy: 0.7735\n",
            "Epoch 68/200\n",
            "158/158 [==============================] - 0s 2ms/step - loss: 0.4720 - accuracy: 0.7784 - val_loss: 0.4799 - val_accuracy: 0.7748\n",
            "Epoch 69/200\n",
            "158/158 [==============================] - 0s 2ms/step - loss: 0.4668 - accuracy: 0.7790 - val_loss: 0.4799 - val_accuracy: 0.7735\n",
            "Epoch 70/200\n",
            "158/158 [==============================] - 0s 2ms/step - loss: 0.4687 - accuracy: 0.7740 - val_loss: 0.4808 - val_accuracy: 0.7744\n",
            "Epoch 71/200\n",
            "158/158 [==============================] - 0s 2ms/step - loss: 0.4836 - accuracy: 0.7702 - val_loss: 0.4830 - val_accuracy: 0.7670\n",
            "Epoch 72/200\n",
            "158/158 [==============================] - 0s 2ms/step - loss: 0.4756 - accuracy: 0.7763 - val_loss: 0.4791 - val_accuracy: 0.7762\n",
            "Epoch 73/200\n",
            "158/158 [==============================] - 0s 2ms/step - loss: 0.4658 - accuracy: 0.7716 - val_loss: 0.4791 - val_accuracy: 0.7735\n",
            "Epoch 74/200\n",
            "158/158 [==============================] - 0s 2ms/step - loss: 0.4777 - accuracy: 0.7781 - val_loss: 0.4793 - val_accuracy: 0.7730\n",
            "Epoch 75/200\n",
            "158/158 [==============================] - 0s 2ms/step - loss: 0.4613 - accuracy: 0.7877 - val_loss: 0.4802 - val_accuracy: 0.7762\n",
            "Epoch 76/200\n",
            "158/158 [==============================] - 0s 2ms/step - loss: 0.4737 - accuracy: 0.7695 - val_loss: 0.4790 - val_accuracy: 0.7744\n",
            "Epoch 77/200\n",
            "158/158 [==============================] - 0s 2ms/step - loss: 0.4727 - accuracy: 0.7720 - val_loss: 0.4791 - val_accuracy: 0.7739\n",
            "Epoch 78/200\n",
            "158/158 [==============================] - 0s 2ms/step - loss: 0.4540 - accuracy: 0.7859 - val_loss: 0.4796 - val_accuracy: 0.7753\n",
            "Epoch 79/200\n",
            "158/158 [==============================] - 0s 2ms/step - loss: 0.4657 - accuracy: 0.7823 - val_loss: 0.4792 - val_accuracy: 0.7748\n",
            "Epoch 80/200\n",
            "158/158 [==============================] - 0s 2ms/step - loss: 0.4596 - accuracy: 0.7885 - val_loss: 0.4795 - val_accuracy: 0.7772\n",
            "Epoch 81/200\n",
            "158/158 [==============================] - 0s 2ms/step - loss: 0.4681 - accuracy: 0.7804 - val_loss: 0.4788 - val_accuracy: 0.7762\n",
            "Epoch 82/200\n",
            "158/158 [==============================] - 0s 2ms/step - loss: 0.4760 - accuracy: 0.7752 - val_loss: 0.4812 - val_accuracy: 0.7721\n",
            "Epoch 83/200\n",
            "158/158 [==============================] - 0s 2ms/step - loss: 0.4675 - accuracy: 0.7814 - val_loss: 0.4790 - val_accuracy: 0.7762\n",
            "Epoch 84/200\n",
            "158/158 [==============================] - 0s 2ms/step - loss: 0.4733 - accuracy: 0.7740 - val_loss: 0.4813 - val_accuracy: 0.7707\n",
            "Epoch 85/200\n",
            "158/158 [==============================] - 0s 2ms/step - loss: 0.4641 - accuracy: 0.7828 - val_loss: 0.4790 - val_accuracy: 0.7772\n",
            "Epoch 86/200\n",
            "158/158 [==============================] - 0s 2ms/step - loss: 0.4813 - accuracy: 0.7625 - val_loss: 0.4800 - val_accuracy: 0.7735\n",
            "Epoch 87/200\n",
            "158/158 [==============================] - 0s 2ms/step - loss: 0.4700 - accuracy: 0.7750 - val_loss: 0.4784 - val_accuracy: 0.7758\n",
            "Epoch 88/200\n",
            "158/158 [==============================] - 0s 2ms/step - loss: 0.4592 - accuracy: 0.7852 - val_loss: 0.4786 - val_accuracy: 0.7753\n",
            "Epoch 89/200\n",
            "158/158 [==============================] - 0s 2ms/step - loss: 0.4671 - accuracy: 0.7762 - val_loss: 0.4795 - val_accuracy: 0.7758\n",
            "Epoch 90/200\n",
            "158/158 [==============================] - 0s 2ms/step - loss: 0.4632 - accuracy: 0.7837 - val_loss: 0.4786 - val_accuracy: 0.7735\n",
            "Epoch 91/200\n",
            "158/158 [==============================] - 0s 2ms/step - loss: 0.4591 - accuracy: 0.7904 - val_loss: 0.4782 - val_accuracy: 0.7748\n",
            "Epoch 92/200\n",
            "158/158 [==============================] - 0s 2ms/step - loss: 0.4665 - accuracy: 0.7782 - val_loss: 0.4784 - val_accuracy: 0.7739\n",
            "Epoch 93/200\n",
            "158/158 [==============================] - 0s 2ms/step - loss: 0.4554 - accuracy: 0.7883 - val_loss: 0.4804 - val_accuracy: 0.7739\n",
            "Epoch 94/200\n",
            "158/158 [==============================] - 0s 2ms/step - loss: 0.4666 - accuracy: 0.7802 - val_loss: 0.4780 - val_accuracy: 0.7767\n",
            "Epoch 95/200\n",
            "158/158 [==============================] - 0s 2ms/step - loss: 0.4544 - accuracy: 0.7837 - val_loss: 0.4779 - val_accuracy: 0.7767\n",
            "Epoch 96/200\n",
            "158/158 [==============================] - 0s 2ms/step - loss: 0.4561 - accuracy: 0.7880 - val_loss: 0.4778 - val_accuracy: 0.7753\n",
            "Epoch 97/200\n",
            "158/158 [==============================] - 0s 2ms/step - loss: 0.4631 - accuracy: 0.7812 - val_loss: 0.4784 - val_accuracy: 0.7739\n",
            "Epoch 98/200\n",
            "158/158 [==============================] - 0s 2ms/step - loss: 0.4700 - accuracy: 0.7774 - val_loss: 0.4793 - val_accuracy: 0.7753\n",
            "Epoch 99/200\n",
            "158/158 [==============================] - 0s 2ms/step - loss: 0.4715 - accuracy: 0.7810 - val_loss: 0.4774 - val_accuracy: 0.7721\n",
            "Epoch 100/200\n",
            "158/158 [==============================] - 0s 2ms/step - loss: 0.4795 - accuracy: 0.7679 - val_loss: 0.4786 - val_accuracy: 0.7753\n",
            "Epoch 101/200\n",
            "158/158 [==============================] - 0s 2ms/step - loss: 0.4810 - accuracy: 0.7748 - val_loss: 0.4779 - val_accuracy: 0.7772\n",
            "Epoch 102/200\n",
            "158/158 [==============================] - 0s 2ms/step - loss: 0.4652 - accuracy: 0.7765 - val_loss: 0.4774 - val_accuracy: 0.7739\n",
            "Epoch 103/200\n",
            "158/158 [==============================] - 0s 2ms/step - loss: 0.4692 - accuracy: 0.7769 - val_loss: 0.4795 - val_accuracy: 0.7735\n",
            "Epoch 104/200\n",
            "158/158 [==============================] - 0s 2ms/step - loss: 0.4802 - accuracy: 0.7694 - val_loss: 0.4781 - val_accuracy: 0.7767\n",
            "Epoch 105/200\n",
            "158/158 [==============================] - 0s 2ms/step - loss: 0.4579 - accuracy: 0.7878 - val_loss: 0.4770 - val_accuracy: 0.7735\n",
            "Epoch 106/200\n",
            "158/158 [==============================] - 0s 2ms/step - loss: 0.4479 - accuracy: 0.7962 - val_loss: 0.4769 - val_accuracy: 0.7730\n",
            "Epoch 107/200\n",
            "158/158 [==============================] - 0s 2ms/step - loss: 0.4571 - accuracy: 0.7853 - val_loss: 0.4782 - val_accuracy: 0.7739\n",
            "Epoch 108/200\n",
            "158/158 [==============================] - 0s 2ms/step - loss: 0.4626 - accuracy: 0.7789 - val_loss: 0.4774 - val_accuracy: 0.7785\n",
            "Epoch 109/200\n",
            "158/158 [==============================] - 0s 2ms/step - loss: 0.4637 - accuracy: 0.7845 - val_loss: 0.4775 - val_accuracy: 0.7753\n",
            "Epoch 110/200\n",
            "158/158 [==============================] - 0s 2ms/step - loss: 0.4484 - accuracy: 0.7865 - val_loss: 0.4770 - val_accuracy: 0.7781\n",
            "Epoch 111/200\n",
            "158/158 [==============================] - 0s 2ms/step - loss: 0.4646 - accuracy: 0.7720 - val_loss: 0.4763 - val_accuracy: 0.7744\n",
            "Epoch 112/200\n",
            "158/158 [==============================] - 0s 2ms/step - loss: 0.4591 - accuracy: 0.7810 - val_loss: 0.4764 - val_accuracy: 0.7772\n",
            "Epoch 113/200\n",
            "158/158 [==============================] - 0s 2ms/step - loss: 0.4485 - accuracy: 0.7937 - val_loss: 0.4763 - val_accuracy: 0.7772\n",
            "Epoch 114/200\n",
            "158/158 [==============================] - 0s 2ms/step - loss: 0.4614 - accuracy: 0.7880 - val_loss: 0.4772 - val_accuracy: 0.7748\n",
            "Epoch 115/200\n",
            "158/158 [==============================] - 0s 2ms/step - loss: 0.4559 - accuracy: 0.7829 - val_loss: 0.4767 - val_accuracy: 0.7767\n",
            "Epoch 116/200\n",
            "158/158 [==============================] - 0s 2ms/step - loss: 0.4721 - accuracy: 0.7775 - val_loss: 0.4773 - val_accuracy: 0.7767\n",
            "Epoch 117/200\n",
            "158/158 [==============================] - 0s 2ms/step - loss: 0.4722 - accuracy: 0.7691 - val_loss: 0.4776 - val_accuracy: 0.7744\n",
            "Epoch 118/200\n",
            "158/158 [==============================] - 0s 2ms/step - loss: 0.4602 - accuracy: 0.7820 - val_loss: 0.4758 - val_accuracy: 0.7753\n",
            "Epoch 119/200\n",
            "158/158 [==============================] - 0s 2ms/step - loss: 0.4749 - accuracy: 0.7746 - val_loss: 0.4773 - val_accuracy: 0.7739\n",
            "Epoch 120/200\n",
            "158/158 [==============================] - 0s 2ms/step - loss: 0.4617 - accuracy: 0.7846 - val_loss: 0.4753 - val_accuracy: 0.7725\n",
            "Epoch 121/200\n",
            "158/158 [==============================] - 0s 2ms/step - loss: 0.4607 - accuracy: 0.7852 - val_loss: 0.4753 - val_accuracy: 0.7735\n",
            "Epoch 122/200\n",
            "158/158 [==============================] - 0s 2ms/step - loss: 0.4658 - accuracy: 0.7801 - val_loss: 0.4755 - val_accuracy: 0.7758\n",
            "Epoch 123/200\n",
            "158/158 [==============================] - 0s 2ms/step - loss: 0.4612 - accuracy: 0.7854 - val_loss: 0.4748 - val_accuracy: 0.7739\n",
            "Epoch 124/200\n",
            "158/158 [==============================] - 0s 2ms/step - loss: 0.4513 - accuracy: 0.7919 - val_loss: 0.4754 - val_accuracy: 0.7758\n",
            "Epoch 125/200\n",
            "158/158 [==============================] - 0s 2ms/step - loss: 0.4705 - accuracy: 0.7746 - val_loss: 0.4751 - val_accuracy: 0.7762\n",
            "Epoch 126/200\n",
            "158/158 [==============================] - 0s 2ms/step - loss: 0.4696 - accuracy: 0.7816 - val_loss: 0.4755 - val_accuracy: 0.7762\n",
            "Epoch 127/200\n",
            "158/158 [==============================] - 0s 2ms/step - loss: 0.4684 - accuracy: 0.7829 - val_loss: 0.4764 - val_accuracy: 0.7707\n",
            "Epoch 128/200\n",
            "158/158 [==============================] - 0s 2ms/step - loss: 0.4602 - accuracy: 0.7829 - val_loss: 0.4742 - val_accuracy: 0.7730\n",
            "Epoch 129/200\n",
            "158/158 [==============================] - 0s 2ms/step - loss: 0.4503 - accuracy: 0.7928 - val_loss: 0.4773 - val_accuracy: 0.7698\n",
            "Epoch 130/200\n",
            "158/158 [==============================] - 0s 2ms/step - loss: 0.4552 - accuracy: 0.7871 - val_loss: 0.4750 - val_accuracy: 0.7762\n",
            "Epoch 131/200\n",
            "158/158 [==============================] - 0s 2ms/step - loss: 0.4571 - accuracy: 0.7897 - val_loss: 0.4749 - val_accuracy: 0.7758\n",
            "Epoch 132/200\n",
            "158/158 [==============================] - 0s 2ms/step - loss: 0.4481 - accuracy: 0.7901 - val_loss: 0.4744 - val_accuracy: 0.7748\n",
            "Epoch 133/200\n",
            "158/158 [==============================] - 0s 2ms/step - loss: 0.4679 - accuracy: 0.7769 - val_loss: 0.4750 - val_accuracy: 0.7762\n",
            "Epoch 134/200\n",
            "158/158 [==============================] - 0s 2ms/step - loss: 0.4511 - accuracy: 0.7883 - val_loss: 0.4742 - val_accuracy: 0.7753\n",
            "Epoch 135/200\n",
            "158/158 [==============================] - 0s 2ms/step - loss: 0.4703 - accuracy: 0.7734 - val_loss: 0.4756 - val_accuracy: 0.7721\n",
            "Epoch 136/200\n",
            "158/158 [==============================] - 0s 2ms/step - loss: 0.4467 - accuracy: 0.7930 - val_loss: 0.4746 - val_accuracy: 0.7767\n",
            "Epoch 137/200\n",
            "158/158 [==============================] - 0s 2ms/step - loss: 0.4556 - accuracy: 0.7908 - val_loss: 0.4732 - val_accuracy: 0.7748\n",
            "Epoch 138/200\n",
            "158/158 [==============================] - 0s 2ms/step - loss: 0.4565 - accuracy: 0.7877 - val_loss: 0.4733 - val_accuracy: 0.7739\n",
            "Epoch 139/200\n",
            "158/158 [==============================] - 0s 2ms/step - loss: 0.4543 - accuracy: 0.7890 - val_loss: 0.4730 - val_accuracy: 0.7744\n",
            "Epoch 140/200\n",
            "158/158 [==============================] - 0s 2ms/step - loss: 0.4506 - accuracy: 0.7841 - val_loss: 0.4742 - val_accuracy: 0.7762\n",
            "Epoch 141/200\n",
            "158/158 [==============================] - 0s 2ms/step - loss: 0.4630 - accuracy: 0.7803 - val_loss: 0.4743 - val_accuracy: 0.7758\n",
            "Epoch 142/200\n",
            "158/158 [==============================] - 0s 2ms/step - loss: 0.4555 - accuracy: 0.7881 - val_loss: 0.4726 - val_accuracy: 0.7721\n",
            "Epoch 143/200\n",
            "158/158 [==============================] - 0s 2ms/step - loss: 0.4545 - accuracy: 0.7871 - val_loss: 0.4733 - val_accuracy: 0.7762\n",
            "Epoch 144/200\n",
            "158/158 [==============================] - 0s 2ms/step - loss: 0.4489 - accuracy: 0.7927 - val_loss: 0.4738 - val_accuracy: 0.7781\n",
            "Epoch 145/200\n",
            "158/158 [==============================] - 0s 2ms/step - loss: 0.4662 - accuracy: 0.7765 - val_loss: 0.4733 - val_accuracy: 0.7772\n",
            "Epoch 146/200\n",
            "158/158 [==============================] - 0s 2ms/step - loss: 0.4557 - accuracy: 0.7818 - val_loss: 0.4726 - val_accuracy: 0.7758\n",
            "Epoch 147/200\n",
            "158/158 [==============================] - 0s 2ms/step - loss: 0.4572 - accuracy: 0.7790 - val_loss: 0.4721 - val_accuracy: 0.7772\n",
            "Epoch 148/200\n",
            "158/158 [==============================] - 0s 2ms/step - loss: 0.4509 - accuracy: 0.7888 - val_loss: 0.4728 - val_accuracy: 0.7781\n",
            "Epoch 149/200\n",
            "158/158 [==============================] - 0s 2ms/step - loss: 0.4585 - accuracy: 0.7890 - val_loss: 0.4719 - val_accuracy: 0.7767\n",
            "Epoch 150/200\n",
            "158/158 [==============================] - 0s 2ms/step - loss: 0.4469 - accuracy: 0.7992 - val_loss: 0.4718 - val_accuracy: 0.7762\n",
            "Epoch 151/200\n",
            "158/158 [==============================] - 0s 2ms/step - loss: 0.4501 - accuracy: 0.7915 - val_loss: 0.4719 - val_accuracy: 0.7785\n",
            "Epoch 152/200\n",
            "158/158 [==============================] - 0s 2ms/step - loss: 0.4436 - accuracy: 0.7927 - val_loss: 0.4720 - val_accuracy: 0.7767\n",
            "Epoch 153/200\n",
            "158/158 [==============================] - 0s 2ms/step - loss: 0.4525 - accuracy: 0.7902 - val_loss: 0.4728 - val_accuracy: 0.7767\n",
            "Epoch 154/200\n",
            "158/158 [==============================] - 0s 2ms/step - loss: 0.4642 - accuracy: 0.7819 - val_loss: 0.4723 - val_accuracy: 0.7772\n",
            "Epoch 155/200\n",
            "158/158 [==============================] - 0s 2ms/step - loss: 0.4526 - accuracy: 0.7827 - val_loss: 0.4728 - val_accuracy: 0.7748\n",
            "Epoch 156/200\n",
            "158/158 [==============================] - 0s 2ms/step - loss: 0.4473 - accuracy: 0.7909 - val_loss: 0.4714 - val_accuracy: 0.7730\n",
            "Epoch 157/200\n",
            "158/158 [==============================] - 0s 2ms/step - loss: 0.4646 - accuracy: 0.7836 - val_loss: 0.4715 - val_accuracy: 0.7809\n",
            "Epoch 158/200\n",
            "158/158 [==============================] - 0s 2ms/step - loss: 0.4541 - accuracy: 0.7888 - val_loss: 0.4719 - val_accuracy: 0.7772\n",
            "Epoch 159/200\n",
            "158/158 [==============================] - 0s 2ms/step - loss: 0.4467 - accuracy: 0.7889 - val_loss: 0.4713 - val_accuracy: 0.7772\n",
            "Epoch 160/200\n",
            "158/158 [==============================] - 0s 2ms/step - loss: 0.4527 - accuracy: 0.7920 - val_loss: 0.4715 - val_accuracy: 0.7772\n",
            "Epoch 161/200\n",
            "158/158 [==============================] - 0s 2ms/step - loss: 0.4491 - accuracy: 0.7954 - val_loss: 0.4715 - val_accuracy: 0.7781\n",
            "Epoch 162/200\n",
            "158/158 [==============================] - 0s 2ms/step - loss: 0.4361 - accuracy: 0.7999 - val_loss: 0.4717 - val_accuracy: 0.7772\n",
            "Epoch 163/200\n",
            "158/158 [==============================] - 0s 2ms/step - loss: 0.4524 - accuracy: 0.7854 - val_loss: 0.4710 - val_accuracy: 0.7762\n",
            "Epoch 164/200\n",
            "158/158 [==============================] - 0s 2ms/step - loss: 0.4510 - accuracy: 0.7877 - val_loss: 0.4708 - val_accuracy: 0.7767\n",
            "Epoch 165/200\n",
            "158/158 [==============================] - 0s 2ms/step - loss: 0.4620 - accuracy: 0.7773 - val_loss: 0.4742 - val_accuracy: 0.7721\n",
            "Epoch 166/200\n",
            "158/158 [==============================] - 0s 2ms/step - loss: 0.4468 - accuracy: 0.7929 - val_loss: 0.4705 - val_accuracy: 0.7790\n",
            "Epoch 167/200\n",
            "158/158 [==============================] - 0s 2ms/step - loss: 0.4413 - accuracy: 0.7880 - val_loss: 0.4710 - val_accuracy: 0.7776\n",
            "Epoch 168/200\n",
            "158/158 [==============================] - 0s 2ms/step - loss: 0.4588 - accuracy: 0.7903 - val_loss: 0.4701 - val_accuracy: 0.7772\n",
            "Epoch 169/200\n",
            "158/158 [==============================] - 0s 2ms/step - loss: 0.4525 - accuracy: 0.7875 - val_loss: 0.4709 - val_accuracy: 0.7762\n",
            "Epoch 170/200\n",
            "158/158 [==============================] - 0s 2ms/step - loss: 0.4517 - accuracy: 0.7934 - val_loss: 0.4726 - val_accuracy: 0.7739\n",
            "Epoch 171/200\n",
            "158/158 [==============================] - 0s 3ms/step - loss: 0.4354 - accuracy: 0.7944 - val_loss: 0.4702 - val_accuracy: 0.7767\n",
            "Epoch 172/200\n",
            "158/158 [==============================] - 0s 2ms/step - loss: 0.4542 - accuracy: 0.7887 - val_loss: 0.4706 - val_accuracy: 0.7772\n",
            "Epoch 173/200\n",
            "158/158 [==============================] - 0s 2ms/step - loss: 0.4588 - accuracy: 0.7886 - val_loss: 0.4729 - val_accuracy: 0.7748\n",
            "Epoch 174/200\n",
            "158/158 [==============================] - 0s 2ms/step - loss: 0.4562 - accuracy: 0.7919 - val_loss: 0.4712 - val_accuracy: 0.7762\n",
            "Epoch 175/200\n",
            "158/158 [==============================] - 0s 2ms/step - loss: 0.4486 - accuracy: 0.7973 - val_loss: 0.4702 - val_accuracy: 0.7758\n",
            "Epoch 176/200\n",
            "158/158 [==============================] - 0s 2ms/step - loss: 0.4397 - accuracy: 0.7980 - val_loss: 0.4716 - val_accuracy: 0.7753\n",
            "Epoch 177/200\n",
            "158/158 [==============================] - 0s 2ms/step - loss: 0.4542 - accuracy: 0.7938 - val_loss: 0.4703 - val_accuracy: 0.7781\n",
            "Epoch 178/200\n",
            "158/158 [==============================] - 0s 2ms/step - loss: 0.4511 - accuracy: 0.7903 - val_loss: 0.4706 - val_accuracy: 0.7772\n",
            "Epoch 179/200\n",
            "158/158 [==============================] - 0s 2ms/step - loss: 0.4373 - accuracy: 0.8016 - val_loss: 0.4699 - val_accuracy: 0.7776\n",
            "Epoch 180/200\n",
            "158/158 [==============================] - 0s 2ms/step - loss: 0.4503 - accuracy: 0.7947 - val_loss: 0.4701 - val_accuracy: 0.7776\n",
            "Epoch 181/200\n",
            "158/158 [==============================] - 0s 2ms/step - loss: 0.4398 - accuracy: 0.7955 - val_loss: 0.4704 - val_accuracy: 0.7781\n",
            "Epoch 182/200\n",
            "158/158 [==============================] - 0s 2ms/step - loss: 0.4562 - accuracy: 0.7837 - val_loss: 0.4727 - val_accuracy: 0.7739\n",
            "Epoch 183/200\n",
            "158/158 [==============================] - 0s 2ms/step - loss: 0.4374 - accuracy: 0.8022 - val_loss: 0.4707 - val_accuracy: 0.7781\n",
            "Epoch 184/200\n",
            "158/158 [==============================] - 0s 2ms/step - loss: 0.4515 - accuracy: 0.7866 - val_loss: 0.4704 - val_accuracy: 0.7772\n",
            "Epoch 185/200\n",
            "158/158 [==============================] - 0s 2ms/step - loss: 0.4463 - accuracy: 0.8023 - val_loss: 0.4705 - val_accuracy: 0.7772\n",
            "Epoch 186/200\n",
            "158/158 [==============================] - 0s 2ms/step - loss: 0.4424 - accuracy: 0.7974 - val_loss: 0.4691 - val_accuracy: 0.7762\n",
            "Epoch 187/200\n",
            "158/158 [==============================] - 0s 2ms/step - loss: 0.4354 - accuracy: 0.7961 - val_loss: 0.4693 - val_accuracy: 0.7753\n",
            "Epoch 188/200\n",
            "158/158 [==============================] - 0s 2ms/step - loss: 0.4643 - accuracy: 0.7813 - val_loss: 0.4698 - val_accuracy: 0.7767\n",
            "Epoch 189/200\n",
            "158/158 [==============================] - 0s 2ms/step - loss: 0.4422 - accuracy: 0.7978 - val_loss: 0.4700 - val_accuracy: 0.7785\n",
            "Epoch 190/200\n",
            "158/158 [==============================] - 0s 2ms/step - loss: 0.4519 - accuracy: 0.7900 - val_loss: 0.4704 - val_accuracy: 0.7776\n",
            "Epoch 191/200\n",
            "158/158 [==============================] - 0s 2ms/step - loss: 0.4457 - accuracy: 0.7905 - val_loss: 0.4689 - val_accuracy: 0.7767\n",
            "Epoch 192/200\n",
            "158/158 [==============================] - 0s 2ms/step - loss: 0.4480 - accuracy: 0.7883 - val_loss: 0.4707 - val_accuracy: 0.7767\n",
            "Epoch 193/200\n",
            "158/158 [==============================] - 0s 2ms/step - loss: 0.4512 - accuracy: 0.7875 - val_loss: 0.4714 - val_accuracy: 0.7762\n",
            "Epoch 194/200\n",
            "158/158 [==============================] - 0s 2ms/step - loss: 0.4483 - accuracy: 0.7922 - val_loss: 0.4719 - val_accuracy: 0.7753\n",
            "Epoch 195/200\n",
            "158/158 [==============================] - 0s 2ms/step - loss: 0.4456 - accuracy: 0.7859 - val_loss: 0.4713 - val_accuracy: 0.7767\n",
            "Epoch 196/200\n",
            "158/158 [==============================] - 0s 2ms/step - loss: 0.4548 - accuracy: 0.7876 - val_loss: 0.4707 - val_accuracy: 0.7748\n",
            "Epoch 197/200\n",
            "158/158 [==============================] - 0s 2ms/step - loss: 0.4407 - accuracy: 0.7945 - val_loss: 0.4697 - val_accuracy: 0.7762\n",
            "Epoch 198/200\n",
            "158/158 [==============================] - 0s 2ms/step - loss: 0.4261 - accuracy: 0.8033 - val_loss: 0.4691 - val_accuracy: 0.7758\n",
            "Epoch 199/200\n",
            "158/158 [==============================] - 0s 2ms/step - loss: 0.4466 - accuracy: 0.7868 - val_loss: 0.4691 - val_accuracy: 0.7767\n",
            "Epoch 200/200\n",
            "158/158 [==============================] - 0s 2ms/step - loss: 0.4379 - accuracy: 0.7958 - val_loss: 0.4693 - val_accuracy: 0.7753\n"
          ],
          "name": "stdout"
        }
      ]
    },
    {
      "cell_type": "markdown",
      "metadata": {
        "id": "PBS5T-uTWIUB"
      },
      "source": [
        "Выведем динамику ошибок нашей модели"
      ]
    },
    {
      "cell_type": "code",
      "metadata": {
        "id": "gmlFh25ckFti",
        "colab": {
          "base_uri": "https://localhost:8080/",
          "height": 282
        },
        "outputId": "867c0722-2bf7-4bda-805f-1c904f192b9c"
      },
      "source": [
        "start = 1\n",
        "plt.plot(hist.history['loss'][start:])\n",
        "plt.plot(hist.history['val_loss'][start:])\n",
        "plt.legend(['Train loss', 'Validation loss'])"
      ],
      "execution_count": 273,
      "outputs": [
        {
          "output_type": "execute_result",
          "data": {
            "text/plain": [
              "<matplotlib.legend.Legend at 0x7f8e09570810>"
            ]
          },
          "metadata": {
            "tags": []
          },
          "execution_count": 273
        },
        {
          "output_type": "display_data",
          "data": {
            "image/png": "[encoded data removed]",
            "text/plain": [
              "<Figure size 432x288 with 1 Axes>"
            ]
          },
          "metadata": {
            "tags": []
          }
        }
      ]
    },
    {
      "cell_type": "markdown",
      "metadata": {
        "id": "P2m0sX_-WO6z"
      },
      "source": [
        "А также метрики, указанные при инициализации модели"
      ]
    },
    {
      "cell_type": "code",
      "metadata": {
        "colab": {
          "base_uri": "https://localhost:8080/",
          "height": 316
        },
        "id": "N22xxyh1ARkv",
        "outputId": "c81cc6c8-923b-469c-9358-80c24b92c62a"
      },
      "source": [
        "N = np.arange(0, 200)\n",
        "plt.style.use(\"ggplot\")\n",
        "plt.figure()\n",
        "plt.plot(N, hist.history[\"loss\"], label=\"train_loss\")\n",
        "plt.plot(N, hist.history[\"val_loss\"], label=\"val_loss\")\n",
        "plt.plot(N, hist.history[\"accuracy\"], label=\"train_acc\")\n",
        "plt.plot(N, hist.history[\"val_accuracy\"], label=\"val_acc\")\n",
        "plt.title(\"Training Loss and Accuracy (Simple NN)\")\n",
        "plt.xlabel(\"Epoch #\")\n",
        "plt.ylabel(\"Loss/Accuracy\")\n",
        "plt.legend()\n"
      ],
      "execution_count": 274,
      "outputs": [
        {
          "output_type": "execute_result",
          "data": {
            "text/plain": [
              "<matplotlib.legend.Legend at 0x7f8e09bc5ed0>"
            ]
          },
          "metadata": {
            "tags": []
          },
          "execution_count": 274
        },
        {
          "output_type": "display_data",
          "data": {
            "image/png": "[encoded data removed]",
            "text/plain": [
              "<Figure size 432x288 with 1 Axes>"
            ]
          },
          "metadata": {
            "tags": []
          }
        }
      ]
    },
    {
      "cell_type": "markdown",
      "metadata": {
        "id": "1fV6I7_6WVFZ"
      },
      "source": [
        "Попробуем предсказать вероятности для тестовой выборки"
      ]
    },
    {
      "cell_type": "code",
      "metadata": {
        "colab": {
          "base_uri": "https://localhost:8080/"
        },
        "id": "2Cnr46572vAZ",
        "outputId": "674cba96-dd0f-48b5-b09f-8b33af7fd172"
      },
      "source": [
        "model.predict_proba(X_test)"
      ],
      "execution_count": 277,
      "outputs": [
        {
          "output_type": "stream",
          "text": [
            "/usr/local/lib/python3.7/dist-packages/keras/engine/sequential.py:425: UserWarning: `model.predict_proba()` is deprecated and will be removed after 2021-01-01. Please use `model.predict()` instead.\n",
            "  warnings.warn('`model.predict_proba()` is deprecated and '\n"
          ],
          "name": "stderr"
        },
        {
          "output_type": "execute_result",
          "data": {
            "text/plain": [
              "array([[0.6950751 , 0.304925  ],\n",
              "       [0.40157503, 0.59842503],\n",
              "       [0.8397737 , 0.16022632],\n",
              "       ...,\n",
              "       [0.9577159 , 0.04228412],\n",
              "       [0.9668332 , 0.03316687],\n",
              "       [0.9621254 , 0.03787459]], dtype=float32)"
            ]
          },
          "metadata": {
            "tags": []
          },
          "execution_count": 277
        }
      ]
    },
    {
      "cell_type": "markdown",
      "metadata": {
        "id": "CEPFmQH1XJTL"
      },
      "source": [
        "Классы"
      ]
    },
    {
      "cell_type": "code",
      "metadata": {
        "colab": {
          "base_uri": "https://localhost:8080/"
        },
        "id": "S6vDNZubWr3h",
        "outputId": "792c79a2-21f9-46e8-f424-9f75851eea74"
      },
      "source": [
        "model.predict_classes(X_test)"
      ],
      "execution_count": 278,
      "outputs": [
        {
          "output_type": "stream",
          "text": [
            "/usr/local/lib/python3.7/dist-packages/keras/engine/sequential.py:450: UserWarning: `model.predict_classes()` is deprecated and will be removed after 2021-01-01. Please use instead:* `np.argmax(model.predict(x), axis=-1)`,   if your model does multi-class classification   (e.g. if it uses a `softmax` last-layer activation).* `(model.predict(x) > 0.5).astype(\"int32\")`,   if your model does binary classification   (e.g. if it uses a `sigmoid` last-layer activation).\n",
            "  warnings.warn('`model.predict_classes()` is deprecated and '\n"
          ],
          "name": "stderr"
        },
        {
          "output_type": "execute_result",
          "data": {
            "text/plain": [
              "array([0, 1, 0, ..., 0, 0, 0])"
            ]
          },
          "metadata": {
            "tags": []
          },
          "execution_count": 278
        }
      ]
    },
    {
      "cell_type": "markdown",
      "metadata": {
        "id": "khVLI08HXLYJ"
      },
      "source": [
        "И logloss"
      ]
    },
    {
      "cell_type": "code",
      "metadata": {
        "colab": {
          "base_uri": "https://localhost:8080/"
        },
        "id": "ipNMQyIcWvnK",
        "outputId": "ea3f6c20-27b9-4e6c-b565-395085ede666"
      },
      "source": [
        "log_loss(y_test,model.predict_proba(X_test))"
      ],
      "execution_count": 281,
      "outputs": [
        {
          "output_type": "stream",
          "text": [
            "/usr/local/lib/python3.7/dist-packages/keras/engine/sequential.py:425: UserWarning: `model.predict_proba()` is deprecated and will be removed after 2021-01-01. Please use `model.predict()` instead.\n",
            "  warnings.warn('`model.predict_proba()` is deprecated and '\n"
          ],
          "name": "stderr"
        },
        {
          "output_type": "execute_result",
          "data": {
            "text/plain": [
              "0.4659547557053684"
            ]
          },
          "metadata": {
            "tags": []
          },
          "execution_count": 281
        }
      ]
    },
    {
      "cell_type": "markdown",
      "metadata": {
        "id": "UWuCNMESaLEB"
      },
      "source": [
        "Выведем качество модели по указаным выше метрикам (loss, accuracy)"
      ]
    },
    {
      "cell_type": "code",
      "metadata": {
        "colab": {
          "base_uri": "https://localhost:8080/"
        },
        "id": "EEP7gpZQFTQn",
        "outputId": "3a9a8fc8-ba1e-4e13-836e-ef0ebb512d80"
      },
      "source": [
        "score = model.evaluate(X_test, to_categorical(y_test), verbose=0)\n",
        "score "
      ],
      "execution_count": 276,
      "outputs": [
        {
          "output_type": "execute_result",
          "data": {
            "text/plain": [
              "[0.4659547507762909, 0.7786407470703125]"
            ]
          },
          "metadata": {
            "tags": []
          },
          "execution_count": 276
        }
      ]
    }
  ]
}