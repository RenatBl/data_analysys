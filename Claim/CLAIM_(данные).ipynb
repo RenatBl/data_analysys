{
  "nbformat": 4,
  "nbformat_minor": 0,
  "metadata": {
    "colab": {
      "name": "CLAIM (данные)",
      "provenance": [],
      "collapsed_sections": []
    },
    "kernelspec": {
      "name": "python3",
      "display_name": "Python 3"
    }
  },
  "cells": [
    {
      "cell_type": "code",
      "metadata": {
        "id": "_u39fcJy3CFg"
      },
      "source": [
        "import matplotlib.pyplot as plt\n",
        "import pandas as pd\n",
        "import seaborn as sns\n",
        "import numpy as np\n",
        "\n",
        "from sklearn import tree\n",
        "from sklearn.tree import export_graphviz\n",
        "from sklearn.preprocessing import LabelEncoder\n",
        "from sklearn.utils import resample\n",
        "from sklearn.model_selection import train_test_split\n",
        "from sklearn.discriminant_analysis import LinearDiscriminantAnalysis\n",
        "from sklearn.naive_bayes import GaussianNB\n",
        "from sklearn.svm import SVC\n",
        "from sklearn.model_selection import KFold, cross_val_score\n",
        "from sklearn.metrics import roc_auc_score, roc_curve, mean_squared_error, r2_score, confusion_matrix, classification_report"
      ],
      "execution_count": null,
      "outputs": []
    },
    {
      "cell_type": "markdown",
      "metadata": {
        "id": "G9SVkAKv-zON"
      },
      "source": [
        " Набор данных CLAIM содержит информацию страховой компании о деятельности в сфере автострахования – 10300 строк (количество страховых полисов) и 23 переменные:"
      ]
    },
    {
      "cell_type": "code",
      "metadata": {
        "colab": {
          "base_uri": "https://localhost:8080/",
          "height": 391
        },
        "id": "NSyJh9xT3FXg",
        "outputId": "d3a7409f-bae4-47ac-82a4-94e35b8ad837"
      },
      "source": [
        "data = pd.read_csv('CLAIM.csv', delimiter=',')\n",
        "pd.set_option('display.max_columns', None)\n",
        "data.head()"
      ],
      "execution_count": null,
      "outputs": [
        {
          "output_type": "execute_result",
          "data": {
            "text/html": [
              "<div>\n",
              "<style scoped>\n",
              "    .dataframe tbody tr th:only-of-type {\n",
              "        vertical-align: middle;\n",
              "    }\n",
              "\n",
              "    .dataframe tbody tr th {\n",
              "        vertical-align: top;\n",
              "    }\n",
              "\n",
              "    .dataframe thead th {\n",
              "        text-align: right;\n",
              "    }\n",
              "</style>\n",
              "<table border=\"1\" class=\"dataframe\">\n",
              "  <thead>\n",
              "    <tr style=\"text-align: right;\">\n",
              "      <th></th>\n",
              "      <th>ID</th>\n",
              "      <th>CHILD_DRIV</th>\n",
              "      <th>AGE</th>\n",
              "      <th>CHILDREN</th>\n",
              "      <th>YOJ</th>\n",
              "      <th>INCOME</th>\n",
              "      <th>HOUSE_VAL</th>\n",
              "      <th>STATUS</th>\n",
              "      <th>GENDER</th>\n",
              "      <th>EDU_LEVEL</th>\n",
              "      <th>JOB</th>\n",
              "      <th>DISTANCE</th>\n",
              "      <th>CAR_USE</th>\n",
              "      <th>VEHICLE_VAL</th>\n",
              "      <th>VEHICLE_TYPE</th>\n",
              "      <th>CLM_FREQ</th>\n",
              "      <th>REVOKED</th>\n",
              "      <th>MVR_PTS</th>\n",
              "      <th>CLAIM_AMOUNT</th>\n",
              "      <th>VEHICLE_AGE</th>\n",
              "      <th>CLAIM_IND</th>\n",
              "      <th>AREA</th>\n",
              "      <th>STATE_CODE</th>\n",
              "    </tr>\n",
              "  </thead>\n",
              "  <tbody>\n",
              "    <tr>\n",
              "      <th>0</th>\n",
              "      <td>6.921625e+09</td>\n",
              "      <td>0</td>\n",
              "      <td>67.0</td>\n",
              "      <td>0</td>\n",
              "      <td>14.0</td>\n",
              "      <td>$53,841</td>\n",
              "      <td>$359,229</td>\n",
              "      <td>z_No</td>\n",
              "      <td>Mal</td>\n",
              "      <td>Bachelors</td>\n",
              "      <td>None</td>\n",
              "      <td>71</td>\n",
              "      <td>Private</td>\n",
              "      <td>$21,970</td>\n",
              "      <td>Family</td>\n",
              "      <td>0</td>\n",
              "      <td>No</td>\n",
              "      <td>2</td>\n",
              "      <td>$294</td>\n",
              "      <td>12.0</td>\n",
              "      <td>0</td>\n",
              "      <td>Highly Urban/ Urban</td>\n",
              "      <td>Berlin</td>\n",
              "    </tr>\n",
              "    <tr>\n",
              "      <th>1</th>\n",
              "      <td>1.227899e+09</td>\n",
              "      <td>0</td>\n",
              "      <td>26.0</td>\n",
              "      <td>1</td>\n",
              "      <td>13.0</td>\n",
              "      <td>$16,999</td>\n",
              "      <td>$265,527</td>\n",
              "      <td>NaN</td>\n",
              "      <td>Fem</td>\n",
              "      <td>z_High School</td>\n",
              "      <td>Clerical</td>\n",
              "      <td>50</td>\n",
              "      <td>Private</td>\n",
              "      <td>$4,010</td>\n",
              "      <td>unknown</td>\n",
              "      <td>4</td>\n",
              "      <td>No</td>\n",
              "      <td>7</td>\n",
              "      <td>$292</td>\n",
              "      <td>12.0</td>\n",
              "      <td>0</td>\n",
              "      <td>Highly Urban/ Urban</td>\n",
              "      <td>Thueringen</td>\n",
              "    </tr>\n",
              "    <tr>\n",
              "      <th>2</th>\n",
              "      <td>1.950524e+09</td>\n",
              "      <td>0</td>\n",
              "      <td>71.0</td>\n",
              "      <td>0</td>\n",
              "      <td>17.0</td>\n",
              "      <td>NaN</td>\n",
              "      <td>$323,918</td>\n",
              "      <td>Yes</td>\n",
              "      <td>Mal</td>\n",
              "      <td>&lt;High School</td>\n",
              "      <td>Teacher</td>\n",
              "      <td>77</td>\n",
              "      <td>Private</td>\n",
              "      <td>$15,440</td>\n",
              "      <td>Minivan</td>\n",
              "      <td>0</td>\n",
              "      <td>No</td>\n",
              "      <td>0</td>\n",
              "      <td>$387</td>\n",
              "      <td>8.0</td>\n",
              "      <td>0</td>\n",
              "      <td>Highly Urban/ Urban</td>\n",
              "      <td>Bayern</td>\n",
              "    </tr>\n",
              "    <tr>\n",
              "      <th>3</th>\n",
              "      <td>1.743448e+09</td>\n",
              "      <td>0</td>\n",
              "      <td>68.0</td>\n",
              "      <td>0</td>\n",
              "      <td>NaN</td>\n",
              "      <td>$115,546</td>\n",
              "      <td>$361,705</td>\n",
              "      <td>Yes</td>\n",
              "      <td>Fem</td>\n",
              "      <td>PhD</td>\n",
              "      <td>Doctor</td>\n",
              "      <td>81</td>\n",
              "      <td>Private</td>\n",
              "      <td>$18,000</td>\n",
              "      <td>unknown</td>\n",
              "      <td>4</td>\n",
              "      <td>Yes</td>\n",
              "      <td>3</td>\n",
              "      <td>$308</td>\n",
              "      <td>19.0</td>\n",
              "      <td>0</td>\n",
              "      <td>Highly Urban/ Urban</td>\n",
              "      <td>Bayern</td>\n",
              "    </tr>\n",
              "    <tr>\n",
              "      <th>4</th>\n",
              "      <td>7.371333e+09</td>\n",
              "      <td>0</td>\n",
              "      <td>32.0</td>\n",
              "      <td>1</td>\n",
              "      <td>15.0</td>\n",
              "      <td>$125,861</td>\n",
              "      <td>$70,668</td>\n",
              "      <td>z_No</td>\n",
              "      <td>Fem</td>\n",
              "      <td>Bachelors</td>\n",
              "      <td>Teacher</td>\n",
              "      <td>91</td>\n",
              "      <td>Commercial</td>\n",
              "      <td>$17,430</td>\n",
              "      <td>Sports Car</td>\n",
              "      <td>0</td>\n",
              "      <td>No</td>\n",
              "      <td>0</td>\n",
              "      <td>$3,221</td>\n",
              "      <td>9.0</td>\n",
              "      <td>1</td>\n",
              "      <td>Highly Urban/ Urban</td>\n",
              "      <td>Bayern</td>\n",
              "    </tr>\n",
              "  </tbody>\n",
              "</table>\n",
              "</div>"
            ],
            "text/plain": [
              "             ID  CHILD_DRIV   AGE  CHILDREN   YOJ    INCOME HOUSE_VAL STATUS  \\\n",
              "0  6.921625e+09           0  67.0         0  14.0   $53,841  $359,229   z_No   \n",
              "1  1.227899e+09           0  26.0         1  13.0   $16,999  $265,527    NaN   \n",
              "2  1.950524e+09           0  71.0         0  17.0       NaN  $323,918    Yes   \n",
              "3  1.743448e+09           0  68.0         0   NaN  $115,546  $361,705    Yes   \n",
              "4  7.371333e+09           0  32.0         1  15.0  $125,861   $70,668   z_No   \n",
              "\n",
              "  GENDER      EDU_LEVEL       JOB  DISTANCE     CAR_USE VEHICLE_VAL  \\\n",
              "0    Mal      Bachelors      None        71     Private     $21,970   \n",
              "1    Fem  z_High School  Clerical        50     Private      $4,010   \n",
              "2    Mal   <High School   Teacher        77     Private     $15,440   \n",
              "3    Fem            PhD    Doctor        81     Private     $18,000   \n",
              "4    Fem      Bachelors   Teacher        91  Commercial     $17,430   \n",
              "\n",
              "  VEHICLE_TYPE  CLM_FREQ REVOKED  MVR_PTS CLAIM_AMOUNT  VEHICLE_AGE  \\\n",
              "0       Family         0      No        2         $294         12.0   \n",
              "1      unknown         4      No        7         $292         12.0   \n",
              "2      Minivan         0      No        0         $387          8.0   \n",
              "3      unknown         4     Yes        3         $308         19.0   \n",
              "4   Sports Car         0      No        0       $3,221          9.0   \n",
              "\n",
              "   CLAIM_IND                 AREA  STATE_CODE  \n",
              "0          0  Highly Urban/ Urban      Berlin  \n",
              "1          0  Highly Urban/ Urban  Thueringen  \n",
              "2          0  Highly Urban/ Urban      Bayern  \n",
              "3          0  Highly Urban/ Urban      Bayern  \n",
              "4          1  Highly Urban/ Urban      Bayern  "
            ]
          },
          "metadata": {
            "tags": []
          },
          "execution_count": 16
        }
      ]
    },
    {
      "cell_type": "markdown",
      "metadata": {
        "id": "Gswyi0YuSEYH"
      },
      "source": [
        "\n",
        "\n",
        "**ID** -  идентификатор страхового полиса\n",
        "\n",
        "**Age** – возраст автовладельца\n",
        "\n",
        "**Сhildren** – количество детей\n",
        "\n",
        "**Сhildren drive** - количество детей с правами\n",
        "\n",
        "**Incom** – доход\n",
        "\n",
        "**YOJ** – стаж работы автовладельца\n",
        "\n",
        "**Gender** – пол\n",
        "\n",
        "**Job** - профессия \n",
        "\n",
        "**Edu_level** -  уровень образования\n",
        "\n",
        "**Distance** – расстояние от дома до работы страхователя\n",
        "\n",
        "**Car_use** -  для какой цели используется автомобиль (по работе или для личных нужд)\n",
        "\n",
        "**Vehicle_value** – стоимость автомобиля\n",
        "\n",
        "**Vehicle_type** – тип автомобиля\n",
        "\n",
        "**Vehicle_age** – возраст автомобиля\n",
        "\n",
        "**Clm_freq** -  количество обращений по страховому случаю за последние 10 лет\n",
        "\n",
        "**Revoked** –  лишение прав за последние 10 лет\n",
        "\n",
        "**MVR_PTC** – количество штрафов автовладельца за последние 10 лет\n",
        "\n",
        "**Status** – семейное положение страхователя\n",
        "\n",
        "**Area** – тип населенного пункта, в котором проживает страхователь\n",
        "\n",
        "**House_value** -  стоимость дома\n",
        "\n",
        "**State_code** -  название города\n",
        "\n",
        "**Claim_IND** – бинарная переменная (факт обращения по страховому случаю) \n",
        "\n",
        "**Claim_amount** –  сумма, выплаченная по страховому случаю\n"
      ]
    },
    {
      "cell_type": "code",
      "metadata": {
        "colab": {
          "base_uri": "https://localhost:8080/",
          "height": 295
        },
        "id": "tkMZ711hR9D5",
        "outputId": "7a7f26e3-a735-48b3-d834-8a7099bf2214"
      },
      "source": [
        "data.describe()"
      ],
      "execution_count": null,
      "outputs": [
        {
          "output_type": "execute_result",
          "data": {
            "text/html": [
              "<div>\n",
              "<style scoped>\n",
              "    .dataframe tbody tr th:only-of-type {\n",
              "        vertical-align: middle;\n",
              "    }\n",
              "\n",
              "    .dataframe tbody tr th {\n",
              "        vertical-align: top;\n",
              "    }\n",
              "\n",
              "    .dataframe thead th {\n",
              "        text-align: right;\n",
              "    }\n",
              "</style>\n",
              "<table border=\"1\" class=\"dataframe\">\n",
              "  <thead>\n",
              "    <tr style=\"text-align: right;\">\n",
              "      <th></th>\n",
              "      <th>ID</th>\n",
              "      <th>CHILD_DRIV</th>\n",
              "      <th>AGE</th>\n",
              "      <th>CHILDREN</th>\n",
              "      <th>YOJ</th>\n",
              "      <th>DISTANCE</th>\n",
              "      <th>CLM_FREQ</th>\n",
              "      <th>MVR_PTS</th>\n",
              "      <th>VEHICLE_AGE</th>\n",
              "      <th>CLAIM_IND</th>\n",
              "    </tr>\n",
              "  </thead>\n",
              "  <tbody>\n",
              "    <tr>\n",
              "      <th>count</th>\n",
              "      <td>1.030000e+04</td>\n",
              "      <td>10300.000000</td>\n",
              "      <td>10293.000000</td>\n",
              "      <td>10300.000000</td>\n",
              "      <td>9752.000000</td>\n",
              "      <td>10300.000000</td>\n",
              "      <td>10300.000000</td>\n",
              "      <td>10300.000000</td>\n",
              "      <td>9661.000000</td>\n",
              "      <td>10300.000000</td>\n",
              "    </tr>\n",
              "    <tr>\n",
              "      <th>mean</th>\n",
              "      <td>4.536920e+09</td>\n",
              "      <td>0.170000</td>\n",
              "      <td>53.797921</td>\n",
              "      <td>0.720971</td>\n",
              "      <td>13.473954</td>\n",
              "      <td>78.419417</td>\n",
              "      <td>1.808641</td>\n",
              "      <td>3.202621</td>\n",
              "      <td>10.297899</td>\n",
              "      <td>0.266602</td>\n",
              "    </tr>\n",
              "    <tr>\n",
              "      <th>std</th>\n",
              "      <td>3.054715e+09</td>\n",
              "      <td>0.507381</td>\n",
              "      <td>13.172204</td>\n",
              "      <td>1.116310</td>\n",
              "      <td>4.109358</td>\n",
              "      <td>15.869675</td>\n",
              "      <td>1.528187</td>\n",
              "      <td>2.585899</td>\n",
              "      <td>5.713707</td>\n",
              "      <td>0.442204</td>\n",
              "    </tr>\n",
              "    <tr>\n",
              "      <th>min</th>\n",
              "      <td>1.130032e+07</td>\n",
              "      <td>0.000000</td>\n",
              "      <td>5.000000</td>\n",
              "      <td>0.000000</td>\n",
              "      <td>3.000000</td>\n",
              "      <td>50.000000</td>\n",
              "      <td>0.000000</td>\n",
              "      <td>0.000000</td>\n",
              "      <td>-1.000000</td>\n",
              "      <td>0.000000</td>\n",
              "    </tr>\n",
              "    <tr>\n",
              "      <th>25%</th>\n",
              "      <td>2.135318e+09</td>\n",
              "      <td>0.000000</td>\n",
              "      <td>45.000000</td>\n",
              "      <td>0.000000</td>\n",
              "      <td>12.000000</td>\n",
              "      <td>67.000000</td>\n",
              "      <td>0.000000</td>\n",
              "      <td>2.000000</td>\n",
              "      <td>3.000000</td>\n",
              "      <td>0.000000</td>\n",
              "    </tr>\n",
              "    <tr>\n",
              "      <th>50%</th>\n",
              "      <td>3.964367e+09</td>\n",
              "      <td>0.000000</td>\n",
              "      <td>54.000000</td>\n",
              "      <td>0.000000</td>\n",
              "      <td>14.000000</td>\n",
              "      <td>78.000000</td>\n",
              "      <td>2.000000</td>\n",
              "      <td>3.000000</td>\n",
              "      <td>10.000000</td>\n",
              "      <td>0.000000</td>\n",
              "    </tr>\n",
              "    <tr>\n",
              "      <th>75%</th>\n",
              "      <td>6.280446e+09</td>\n",
              "      <td>0.000000</td>\n",
              "      <td>63.000000</td>\n",
              "      <td>1.000000</td>\n",
              "      <td>16.000000</td>\n",
              "      <td>89.000000</td>\n",
              "      <td>3.000000</td>\n",
              "      <td>5.000000</td>\n",
              "      <td>14.000000</td>\n",
              "      <td>1.000000</td>\n",
              "    </tr>\n",
              "    <tr>\n",
              "      <th>max</th>\n",
              "      <td>2.017790e+10</td>\n",
              "      <td>4.000000</td>\n",
              "      <td>103.000000</td>\n",
              "      <td>5.000000</td>\n",
              "      <td>26.000000</td>\n",
              "      <td>187.000000</td>\n",
              "      <td>7.000000</td>\n",
              "      <td>17.000000</td>\n",
              "      <td>30.000000</td>\n",
              "      <td>1.000000</td>\n",
              "    </tr>\n",
              "  </tbody>\n",
              "</table>\n",
              "</div>"
            ],
            "text/plain": [
              "                 ID    CHILD_DRIV           AGE      CHILDREN          YOJ  \\\n",
              "count  1.030000e+04  10300.000000  10293.000000  10300.000000  9752.000000   \n",
              "mean   4.536920e+09      0.170000     53.797921      0.720971    13.473954   \n",
              "std    3.054715e+09      0.507381     13.172204      1.116310     4.109358   \n",
              "min    1.130032e+07      0.000000      5.000000      0.000000     3.000000   \n",
              "25%    2.135318e+09      0.000000     45.000000      0.000000    12.000000   \n",
              "50%    3.964367e+09      0.000000     54.000000      0.000000    14.000000   \n",
              "75%    6.280446e+09      0.000000     63.000000      1.000000    16.000000   \n",
              "max    2.017790e+10      4.000000    103.000000      5.000000    26.000000   \n",
              "\n",
              "           DISTANCE      CLM_FREQ       MVR_PTS  VEHICLE_AGE     CLAIM_IND  \n",
              "count  10300.000000  10300.000000  10300.000000  9661.000000  10300.000000  \n",
              "mean      78.419417      1.808641      3.202621    10.297899      0.266602  \n",
              "std       15.869675      1.528187      2.585899     5.713707      0.442204  \n",
              "min       50.000000      0.000000      0.000000    -1.000000      0.000000  \n",
              "25%       67.000000      0.000000      2.000000     3.000000      0.000000  \n",
              "50%       78.000000      2.000000      3.000000    10.000000      0.000000  \n",
              "75%       89.000000      3.000000      5.000000    14.000000      1.000000  \n",
              "max      187.000000      7.000000     17.000000    30.000000      1.000000  "
            ]
          },
          "metadata": {
            "tags": []
          },
          "execution_count": 17
        }
      ]
    },
    {
      "cell_type": "code",
      "metadata": {
        "colab": {
          "base_uri": "https://localhost:8080/"
        },
        "id": "WbHXZmse3z6D",
        "outputId": "bd3952b8-8c62-49a7-c1f4-e4761d2d8dcb"
      },
      "source": [
        "data = data.fillna(data.mode().iloc[0])\n",
        "data.info()"
      ],
      "execution_count": null,
      "outputs": [
        {
          "output_type": "stream",
          "text": [
            "<class 'pandas.core.frame.DataFrame'>\n",
            "RangeIndex: 10300 entries, 0 to 10299\n",
            "Data columns (total 23 columns):\n",
            " #   Column        Non-Null Count  Dtype  \n",
            "---  ------        --------------  -----  \n",
            " 0   ID            10300 non-null  float64\n",
            " 1   CHILD_DRIV    10300 non-null  int64  \n",
            " 2   AGE           10300 non-null  float64\n",
            " 3   CHILDREN      10300 non-null  int64  \n",
            " 4   YOJ           10300 non-null  float64\n",
            " 5   INCOME        10300 non-null  object \n",
            " 6   HOUSE_VAL     10300 non-null  object \n",
            " 7   STATUS        10300 non-null  object \n",
            " 8   GENDER        10300 non-null  object \n",
            " 9   EDU_LEVEL     10300 non-null  object \n",
            " 10  JOB           10300 non-null  object \n",
            " 11  DISTANCE      10300 non-null  int64  \n",
            " 12  CAR_USE       10300 non-null  object \n",
            " 13  VEHICLE_VAL   10300 non-null  object \n",
            " 14  VEHICLE_TYPE  10300 non-null  object \n",
            " 15  CLM_FREQ      10300 non-null  int64  \n",
            " 16  REVOKED       10300 non-null  object \n",
            " 17  MVR_PTS       10300 non-null  int64  \n",
            " 18  CLAIM_AMOUNT  10300 non-null  object \n",
            " 19  VEHICLE_AGE   10300 non-null  float64\n",
            " 20  CLAIM_IND     10300 non-null  int64  \n",
            " 21  AREA          10300 non-null  object \n",
            " 22  STATE_CODE    10300 non-null  object \n",
            "dtypes: float64(4), int64(6), object(13)\n",
            "memory usage: 1.8+ MB\n"
          ],
          "name": "stdout"
        }
      ]
    },
    {
      "cell_type": "code",
      "metadata": {
        "colab": {
          "base_uri": "https://localhost:8080/"
        },
        "id": "x9XRNUWR30CU",
        "outputId": "43ca7c21-fe76-482e-b95b-8690bde7700d"
      },
      "source": [
        "data.dtypes"
      ],
      "execution_count": null,
      "outputs": [
        {
          "output_type": "execute_result",
          "data": {
            "text/plain": [
              "ID              float64\n",
              "CHILD_DRIV        int64\n",
              "AGE             float64\n",
              "CHILDREN          int64\n",
              "YOJ             float64\n",
              "INCOME           object\n",
              "HOUSE_VAL        object\n",
              "STATUS           object\n",
              "GENDER           object\n",
              "EDU_LEVEL        object\n",
              "JOB              object\n",
              "DISTANCE          int64\n",
              "CAR_USE          object\n",
              "VEHICLE_VAL      object\n",
              "VEHICLE_TYPE     object\n",
              "CLM_FREQ          int64\n",
              "REVOKED          object\n",
              "MVR_PTS           int64\n",
              "CLAIM_AMOUNT     object\n",
              "VEHICLE_AGE     float64\n",
              "CLAIM_IND         int64\n",
              "AREA             object\n",
              "STATE_CODE       object\n",
              "dtype: object"
            ]
          },
          "metadata": {
            "tags": []
          },
          "execution_count": 19
        }
      ]
    },
    {
      "cell_type": "code",
      "metadata": {
        "colab": {
          "base_uri": "https://localhost:8080/",
          "height": 713
        },
        "id": "Jpns6ecL30E9",
        "outputId": "5c96579c-15ca-40d1-dd78-ffc285a1f036"
      },
      "source": [
        "data['INCOME'] = [x.replace('$','') for x in data['INCOME'].values]\n",
        "data['HOUSE_VAL'] = [x.replace('$','') for x in data['HOUSE_VAL'].values]\n",
        "data['VEHICLE_VAL'] = [x.replace('$','') for x in data['VEHICLE_VAL'].values]\n",
        "data['CLAIM_AMOUNT'] = [x.replace('$','') for x in data['CLAIM_AMOUNT'].values]\n",
        "data['INCOME'] = [x.replace(',','') for x in data['INCOME'].values]\n",
        "data['HOUSE_VAL'] = [x.replace(',','') for x in data['HOUSE_VAL'].values]\n",
        "data['VEHICLE_VAL'] = [x.replace(',','') for x in data['VEHICLE_VAL'].values]\n",
        "data['CLAIM_AMOUNT'] = [x.replace(',','') for x in data['CLAIM_AMOUNT'].values]\n",
        "data['EDU_LEVEL'] = [x.replace('z_','') for x in data['EDU_LEVEL'].values]\n",
        "data['EDU_LEVEL'] = [x.replace('<','') for x in data['EDU_LEVEL'].values]\n",
        "data['STATUS'] = [x.replace('z_','') for x in data['STATUS'].values]\n",
        "data['AREA'] = [x.replace('z_','') for x in data['AREA'].values]\n",
        "data.head(10)"
      ],
      "execution_count": null,
      "outputs": [
        {
          "output_type": "execute_result",
          "data": {
            "text/html": [
              "<div>\n",
              "<style scoped>\n",
              "    .dataframe tbody tr th:only-of-type {\n",
              "        vertical-align: middle;\n",
              "    }\n",
              "\n",
              "    .dataframe tbody tr th {\n",
              "        vertical-align: top;\n",
              "    }\n",
              "\n",
              "    .dataframe thead th {\n",
              "        text-align: right;\n",
              "    }\n",
              "</style>\n",
              "<table border=\"1\" class=\"dataframe\">\n",
              "  <thead>\n",
              "    <tr style=\"text-align: right;\">\n",
              "      <th></th>\n",
              "      <th>ID</th>\n",
              "      <th>CHILD_DRIV</th>\n",
              "      <th>AGE</th>\n",
              "      <th>CHILDREN</th>\n",
              "      <th>YOJ</th>\n",
              "      <th>INCOME</th>\n",
              "      <th>HOUSE_VAL</th>\n",
              "      <th>STATUS</th>\n",
              "      <th>GENDER</th>\n",
              "      <th>EDU_LEVEL</th>\n",
              "      <th>JOB</th>\n",
              "      <th>DISTANCE</th>\n",
              "      <th>CAR_USE</th>\n",
              "      <th>VEHICLE_VAL</th>\n",
              "      <th>VEHICLE_TYPE</th>\n",
              "      <th>CLM_FREQ</th>\n",
              "      <th>REVOKED</th>\n",
              "      <th>MVR_PTS</th>\n",
              "      <th>CLAIM_AMOUNT</th>\n",
              "      <th>VEHICLE_AGE</th>\n",
              "      <th>CLAIM_IND</th>\n",
              "      <th>AREA</th>\n",
              "      <th>STATE_CODE</th>\n",
              "    </tr>\n",
              "  </thead>\n",
              "  <tbody>\n",
              "    <tr>\n",
              "      <th>0</th>\n",
              "      <td>6.921625e+09</td>\n",
              "      <td>0</td>\n",
              "      <td>67.0</td>\n",
              "      <td>0</td>\n",
              "      <td>14.0</td>\n",
              "      <td>53841</td>\n",
              "      <td>359229</td>\n",
              "      <td>No</td>\n",
              "      <td>Mal</td>\n",
              "      <td>Bachelors</td>\n",
              "      <td>None</td>\n",
              "      <td>71</td>\n",
              "      <td>Private</td>\n",
              "      <td>21970</td>\n",
              "      <td>Family</td>\n",
              "      <td>0</td>\n",
              "      <td>No</td>\n",
              "      <td>2</td>\n",
              "      <td>294</td>\n",
              "      <td>12.0</td>\n",
              "      <td>0</td>\n",
              "      <td>Highly Urban/ Urban</td>\n",
              "      <td>Berlin</td>\n",
              "    </tr>\n",
              "    <tr>\n",
              "      <th>1</th>\n",
              "      <td>1.227899e+09</td>\n",
              "      <td>0</td>\n",
              "      <td>26.0</td>\n",
              "      <td>1</td>\n",
              "      <td>13.0</td>\n",
              "      <td>16999</td>\n",
              "      <td>265527</td>\n",
              "      <td>Yes</td>\n",
              "      <td>Fem</td>\n",
              "      <td>High School</td>\n",
              "      <td>Clerical</td>\n",
              "      <td>50</td>\n",
              "      <td>Private</td>\n",
              "      <td>4010</td>\n",
              "      <td>unknown</td>\n",
              "      <td>4</td>\n",
              "      <td>No</td>\n",
              "      <td>7</td>\n",
              "      <td>292</td>\n",
              "      <td>12.0</td>\n",
              "      <td>0</td>\n",
              "      <td>Highly Urban/ Urban</td>\n",
              "      <td>Thueringen</td>\n",
              "    </tr>\n",
              "    <tr>\n",
              "      <th>2</th>\n",
              "      <td>1.950524e+09</td>\n",
              "      <td>0</td>\n",
              "      <td>71.0</td>\n",
              "      <td>0</td>\n",
              "      <td>17.0</td>\n",
              "      <td>960</td>\n",
              "      <td>323918</td>\n",
              "      <td>Yes</td>\n",
              "      <td>Mal</td>\n",
              "      <td>High School</td>\n",
              "      <td>Teacher</td>\n",
              "      <td>77</td>\n",
              "      <td>Private</td>\n",
              "      <td>15440</td>\n",
              "      <td>Minivan</td>\n",
              "      <td>0</td>\n",
              "      <td>No</td>\n",
              "      <td>0</td>\n",
              "      <td>387</td>\n",
              "      <td>8.0</td>\n",
              "      <td>0</td>\n",
              "      <td>Highly Urban/ Urban</td>\n",
              "      <td>Bayern</td>\n",
              "    </tr>\n",
              "    <tr>\n",
              "      <th>3</th>\n",
              "      <td>1.743448e+09</td>\n",
              "      <td>0</td>\n",
              "      <td>68.0</td>\n",
              "      <td>0</td>\n",
              "      <td>15.0</td>\n",
              "      <td>115546</td>\n",
              "      <td>361705</td>\n",
              "      <td>Yes</td>\n",
              "      <td>Fem</td>\n",
              "      <td>PhD</td>\n",
              "      <td>Doctor</td>\n",
              "      <td>81</td>\n",
              "      <td>Private</td>\n",
              "      <td>18000</td>\n",
              "      <td>unknown</td>\n",
              "      <td>4</td>\n",
              "      <td>Yes</td>\n",
              "      <td>3</td>\n",
              "      <td>308</td>\n",
              "      <td>19.0</td>\n",
              "      <td>0</td>\n",
              "      <td>Highly Urban/ Urban</td>\n",
              "      <td>Bayern</td>\n",
              "    </tr>\n",
              "    <tr>\n",
              "      <th>4</th>\n",
              "      <td>7.371333e+09</td>\n",
              "      <td>0</td>\n",
              "      <td>32.0</td>\n",
              "      <td>1</td>\n",
              "      <td>15.0</td>\n",
              "      <td>125861</td>\n",
              "      <td>70668</td>\n",
              "      <td>No</td>\n",
              "      <td>Fem</td>\n",
              "      <td>Bachelors</td>\n",
              "      <td>Teacher</td>\n",
              "      <td>91</td>\n",
              "      <td>Commercial</td>\n",
              "      <td>17430</td>\n",
              "      <td>Sports Car</td>\n",
              "      <td>0</td>\n",
              "      <td>No</td>\n",
              "      <td>0</td>\n",
              "      <td>3221</td>\n",
              "      <td>9.0</td>\n",
              "      <td>1</td>\n",
              "      <td>Highly Urban/ Urban</td>\n",
              "      <td>Bayern</td>\n",
              "    </tr>\n",
              "    <tr>\n",
              "      <th>5</th>\n",
              "      <td>4.792606e+09</td>\n",
              "      <td>0</td>\n",
              "      <td>60.0</td>\n",
              "      <td>0</td>\n",
              "      <td>15.0</td>\n",
              "      <td>19715</td>\n",
              "      <td>141336</td>\n",
              "      <td>Yes</td>\n",
              "      <td>Fem</td>\n",
              "      <td>High School</td>\n",
              "      <td>Teacher</td>\n",
              "      <td>78</td>\n",
              "      <td>Private</td>\n",
              "      <td>8780</td>\n",
              "      <td>unknown</td>\n",
              "      <td>0</td>\n",
              "      <td>No</td>\n",
              "      <td>0</td>\n",
              "      <td>308</td>\n",
              "      <td>3.0</td>\n",
              "      <td>0</td>\n",
              "      <td>Highly Urban/ Urban</td>\n",
              "      <td>Bayern</td>\n",
              "    </tr>\n",
              "    <tr>\n",
              "      <th>6</th>\n",
              "      <td>7.008255e+09</td>\n",
              "      <td>1</td>\n",
              "      <td>49.0</td>\n",
              "      <td>1</td>\n",
              "      <td>14.0</td>\n",
              "      <td>51375</td>\n",
              "      <td>530010</td>\n",
              "      <td>Yes</td>\n",
              "      <td>Mal</td>\n",
              "      <td>High School</td>\n",
              "      <td>None</td>\n",
              "      <td>66</td>\n",
              "      <td>Private</td>\n",
              "      <td>18930</td>\n",
              "      <td>Minivan</td>\n",
              "      <td>3</td>\n",
              "      <td>No</td>\n",
              "      <td>2</td>\n",
              "      <td>6658</td>\n",
              "      <td>3.0</td>\n",
              "      <td>1</td>\n",
              "      <td>Highly Urban/ Urban</td>\n",
              "      <td>Bayern</td>\n",
              "    </tr>\n",
              "    <tr>\n",
              "      <th>7</th>\n",
              "      <td>6.003886e+09</td>\n",
              "      <td>0</td>\n",
              "      <td>68.0</td>\n",
              "      <td>2</td>\n",
              "      <td>15.0</td>\n",
              "      <td>44446</td>\n",
              "      <td>111891</td>\n",
              "      <td>No</td>\n",
              "      <td>Fem</td>\n",
              "      <td>High School</td>\n",
              "      <td>Teacher</td>\n",
              "      <td>75</td>\n",
              "      <td>Commercial</td>\n",
              "      <td>5900</td>\n",
              "      <td>unknown</td>\n",
              "      <td>0</td>\n",
              "      <td>No</td>\n",
              "      <td>2</td>\n",
              "      <td>203</td>\n",
              "      <td>12.0</td>\n",
              "      <td>0</td>\n",
              "      <td>Highly Rural/ Rural</td>\n",
              "      <td>Bayern</td>\n",
              "    </tr>\n",
              "    <tr>\n",
              "      <th>8</th>\n",
              "      <td>4.892513e+09</td>\n",
              "      <td>1</td>\n",
              "      <td>58.0</td>\n",
              "      <td>2</td>\n",
              "      <td>15.0</td>\n",
              "      <td>108921</td>\n",
              "      <td>480905</td>\n",
              "      <td>Yes</td>\n",
              "      <td>Mal</td>\n",
              "      <td>Bachelors</td>\n",
              "      <td>Teacher</td>\n",
              "      <td>89</td>\n",
              "      <td>Commercial</td>\n",
              "      <td>16970</td>\n",
              "      <td>Van</td>\n",
              "      <td>1</td>\n",
              "      <td>Yes</td>\n",
              "      <td>10</td>\n",
              "      <td>4312</td>\n",
              "      <td>9.0</td>\n",
              "      <td>1</td>\n",
              "      <td>Highly Urban/ Urban</td>\n",
              "      <td>Bayern</td>\n",
              "    </tr>\n",
              "    <tr>\n",
              "      <th>9</th>\n",
              "      <td>3.577688e+09</td>\n",
              "      <td>0</td>\n",
              "      <td>23.0</td>\n",
              "      <td>0</td>\n",
              "      <td>13.0</td>\n",
              "      <td>64338</td>\n",
              "      <td>300339</td>\n",
              "      <td>No</td>\n",
              "      <td>Fem</td>\n",
              "      <td>Bachelors</td>\n",
              "      <td>Clerical</td>\n",
              "      <td>79</td>\n",
              "      <td>Private</td>\n",
              "      <td>11200</td>\n",
              "      <td>unknown</td>\n",
              "      <td>0</td>\n",
              "      <td>No</td>\n",
              "      <td>4</td>\n",
              "      <td>2734</td>\n",
              "      <td>3.0</td>\n",
              "      <td>1</td>\n",
              "      <td>Highly Urban/ Urban</td>\n",
              "      <td>Berlin</td>\n",
              "    </tr>\n",
              "  </tbody>\n",
              "</table>\n",
              "</div>"
            ],
            "text/plain": [
              "             ID  CHILD_DRIV   AGE  CHILDREN   YOJ  INCOME HOUSE_VAL STATUS  \\\n",
              "0  6.921625e+09           0  67.0         0  14.0   53841    359229     No   \n",
              "1  1.227899e+09           0  26.0         1  13.0   16999    265527    Yes   \n",
              "2  1.950524e+09           0  71.0         0  17.0     960    323918    Yes   \n",
              "3  1.743448e+09           0  68.0         0  15.0  115546    361705    Yes   \n",
              "4  7.371333e+09           0  32.0         1  15.0  125861     70668     No   \n",
              "5  4.792606e+09           0  60.0         0  15.0   19715    141336    Yes   \n",
              "6  7.008255e+09           1  49.0         1  14.0   51375    530010    Yes   \n",
              "7  6.003886e+09           0  68.0         2  15.0   44446    111891     No   \n",
              "8  4.892513e+09           1  58.0         2  15.0  108921    480905    Yes   \n",
              "9  3.577688e+09           0  23.0         0  13.0   64338    300339     No   \n",
              "\n",
              "  GENDER    EDU_LEVEL       JOB  DISTANCE     CAR_USE VEHICLE_VAL  \\\n",
              "0    Mal    Bachelors      None        71     Private       21970   \n",
              "1    Fem  High School  Clerical        50     Private        4010   \n",
              "2    Mal  High School   Teacher        77     Private       15440   \n",
              "3    Fem          PhD    Doctor        81     Private       18000   \n",
              "4    Fem    Bachelors   Teacher        91  Commercial       17430   \n",
              "5    Fem  High School   Teacher        78     Private        8780   \n",
              "6    Mal  High School      None        66     Private       18930   \n",
              "7    Fem  High School   Teacher        75  Commercial        5900   \n",
              "8    Mal    Bachelors   Teacher        89  Commercial       16970   \n",
              "9    Fem    Bachelors  Clerical        79     Private       11200   \n",
              "\n",
              "  VEHICLE_TYPE  CLM_FREQ REVOKED  MVR_PTS CLAIM_AMOUNT  VEHICLE_AGE  \\\n",
              "0       Family         0      No        2          294         12.0   \n",
              "1      unknown         4      No        7          292         12.0   \n",
              "2      Minivan         0      No        0          387          8.0   \n",
              "3      unknown         4     Yes        3          308         19.0   \n",
              "4   Sports Car         0      No        0         3221          9.0   \n",
              "5      unknown         0      No        0          308          3.0   \n",
              "6      Minivan         3      No        2         6658          3.0   \n",
              "7      unknown         0      No        2          203         12.0   \n",
              "8          Van         1     Yes       10         4312          9.0   \n",
              "9      unknown         0      No        4         2734          3.0   \n",
              "\n",
              "   CLAIM_IND                 AREA  STATE_CODE  \n",
              "0          0  Highly Urban/ Urban      Berlin  \n",
              "1          0  Highly Urban/ Urban  Thueringen  \n",
              "2          0  Highly Urban/ Urban      Bayern  \n",
              "3          0  Highly Urban/ Urban      Bayern  \n",
              "4          1  Highly Urban/ Urban      Bayern  \n",
              "5          0  Highly Urban/ Urban      Bayern  \n",
              "6          1  Highly Urban/ Urban      Bayern  \n",
              "7          0  Highly Rural/ Rural      Bayern  \n",
              "8          1  Highly Urban/ Urban      Bayern  \n",
              "9          1  Highly Urban/ Urban      Berlin  "
            ]
          },
          "metadata": {
            "tags": []
          },
          "execution_count": 20
        }
      ]
    },
    {
      "cell_type": "markdown",
      "metadata": {
        "id": "7gNKYAfbQHV6"
      },
      "source": [
        "Проведем одномерный анализ (Анализ каждого признака независимо от других)"
      ]
    },
    {
      "cell_type": "code",
      "metadata": {
        "colab": {
          "base_uri": "https://localhost:8080/",
          "height": 1000
        },
        "id": "bcdzpQHtP_UZ",
        "outputId": "5d1f19c1-f104-4063-f1ae-6edd8be6add7"
      },
      "source": [
        "for i in data.var().index:\n",
        "    sns.distplot(data[i],kde=False)\n",
        "    plt.show()"
      ],
      "execution_count": null,
      "outputs": [
        {
          "output_type": "stream",
          "text": [
            "/usr/local/lib/python3.7/dist-packages/seaborn/distributions.py:2557: FutureWarning: `distplot` is a deprecated function and will be removed in a future version. Please adapt your code to use either `displot` (a figure-level function with similar flexibility) or `histplot` (an axes-level function for histograms).\n",
            "  warnings.warn(msg, FutureWarning)\n"
          ],
          "name": "stderr"
        },
        {
          "output_type": "display_data",
          "data": {
            "image/png": "[encoded data removed]",
            "text/plain": [
              "<Figure size 432x288 with 1 Axes>"
            ]
          },
          "metadata": {
            "tags": [],
            "needs_background": "light"
          }
        },
        {
          "output_type": "display_data",
          "data": {
            "image/png": "[encoded data removed]",
            "text/plain": [
              "<Figure size 432x288 with 1 Axes>"
            ]
          },
          "metadata": {
            "tags": [],
            "needs_background": "light"
          }
        },
        {
          "output_type": "display_data",
          "data": {
            "image/png": "[encoded data removed]",
            "text/plain": [
              "<Figure size 432x288 with 1 Axes>"
            ]
          },
          "metadata": {
            "tags": [],
            "needs_background": "light"
          }
        },
        {
          "output_type": "display_data",
          "data": {
            "image/png": "[encoded data removed]",
            "text/plain": [
              "<Figure size 432x288 with 1 Axes>"
            ]
          },
          "metadata": {
            "tags": [],
            "needs_background": "light"
          }
        },
        {
          "output_type": "display_data",
          "data": {
            "image/png": "[encoded data removed]",
            "text/plain": [
              "<Figure size 432x288 with 1 Axes>"
            ]
          },
          "metadata": {
            "tags": [],
            "needs_background": "light"
          }
        },
        {
          "output_type": "display_data",
          "data": {
            "image/png": "[encoded data removed]",
            "text/plain": [
              "<Figure size 432x288 with 1 Axes>"
            ]
          },
          "metadata": {
            "tags": [],
            "needs_background": "light"
          }
        },
        {
          "output_type": "display_data",
          "data": {
            "image/png": "[encoded data removed]",
            "text/plain": [
              "<Figure size 432x288 with 1 Axes>"
            ]
          },
          "metadata": {
            "tags": [],
            "needs_background": "light"
          }
        },
        {
          "output_type": "display_data",
          "data": {
            "image/png": "[encoded data removed]",
            "text/plain": [
              "<Figure size 432x288 with 1 Axes>"
            ]
          },
          "metadata": {
            "tags": [],
            "needs_background": "light"
          }
        },
        {
          "output_type": "display_data",
          "data": {
            "image/png": "[encoded data removed]",
            "text/plain": [
              "<Figure size 432x288 with 1 Axes>"
            ]
          },
          "metadata": {
            "tags": [],
            "needs_background": "light"
          }
        },
        {
          "output_type": "display_data",
          "data": {
            "image/png": "[encoded data removed]",
            "text/plain": [
              "<Figure size 432x288 with 1 Axes>"
            ]
          },
          "metadata": {
            "tags": [],
            "needs_background": "light"
          }
        }
      ]
    },
    {
      "cell_type": "markdown",
      "metadata": {
        "id": "YO5NqEY9QOfj"
      },
      "source": [
        "Проведем Бивариантный анализ Корреляция – связь между двумя метрическими переменными. При построении корреляции, мы ищем признаки, зависимые друг от друга или каким-либо образом влияющие на значения друг друга. Коэффициент корреляции признака с самим собой всегда равен единице, это значение не должно учитываться при исследовании зависимостей. Удобное представление коэффициентов корреляции - тепловая карта, представленная ниже:"
      ]
    },
    {
      "cell_type": "code",
      "metadata": {
        "colab": {
          "base_uri": "https://localhost:8080/",
          "height": 1000
        },
        "id": "HrnIfZrDNvC7",
        "outputId": "77ca61a2-50ee-40bc-f233-83a3537cb2b2"
      },
      "source": [
        "plt.figure(figsize=(20, 20))\n",
        "correlation_matrix = data.corr()  \n",
        "sns.heatmap(correlation_matrix, annot=True)\n",
        "plt.show()"
      ],
      "execution_count": null,
      "outputs": [
        {
          "output_type": "display_data",
          "data": {
            "image/png": "[encoded data removed]",
            "text/plain": [
              "<Figure size 1440x1440 with 2 Axes>"
            ]
          },
          "metadata": {
            "tags": [],
            "needs_background": "light"
          }
        }
      ]
    },
    {
      "cell_type": "code",
      "metadata": {
        "colab": {
          "base_uri": "https://localhost:8080/"
        },
        "id": "V6T2kkETOCAQ",
        "outputId": "0a84aec2-a04a-49f9-fc01-fb6bf678b0ca"
      },
      "source": [
        "c_target = abs(correlation_matrix['CLAIM_IND'])\n",
        "rf = c_target[c_target >= 0.2].drop('CLAIM_IND')\n",
        "print(rf)"
      ],
      "execution_count": null,
      "outputs": [
        {
          "output_type": "stream",
          "text": [
            "Series([], Name: CLAIM_IND, dtype: float64)\n"
          ],
          "name": "stdout"
        }
      ]
    },
    {
      "cell_type": "markdown",
      "metadata": {
        "id": "yzIvFTwuORYG"
      },
      "source": [
        "Проведя анализ, мы видим, что AREA - тип населенного пункта, в котором проживает страхователь больше всего влияют на факт обращения по страховому случаю."
      ]
    },
    {
      "cell_type": "markdown",
      "metadata": {
        "id": "3SmBctlGWpnc"
      },
      "source": [
        "Посмотрим, как годовое состояние машины влияет на факт обращения по страховому случаю"
      ]
    },
    {
      "cell_type": "code",
      "metadata": {
        "colab": {
          "base_uri": "https://localhost:8080/",
          "height": 495
        },
        "id": "cowkApVTWqVu",
        "outputId": "bbd172a2-a64e-44c8-b6ec-2ebd6214b8fc"
      },
      "source": [
        "data1 = data[data['CLAIM_IND'] == 1]\n",
        "data1['Vehicle age'] = pd.cut(data1['VEHICLE_AGE'], [0,1,3,7,15,100], labels=['Меньше 1', '1-3', '4-7', '8-15', 'Больше 16'])\n",
        "\n",
        "temp_list = [x for x in data1['Vehicle age'] if x == 'Меньше 1']\n",
        "GP1 = len(temp_list)/len(data1)\n",
        "temp_list = [x for x in data1['Vehicle age'] if x == '1-3']\n",
        "GP2 = len(temp_list)/len(data1)\n",
        "temp_list = [x for x in data1['Vehicle age'] if x == '4-7']\n",
        "GP3 = len(temp_list)/len(data1)\n",
        "temp_list = [x for x in data1['Vehicle age'] if x == '8-15']\n",
        "GP4 = len(temp_list)/len(data1)\n",
        "temp_list = [x for x in data1['Vehicle age'] if x == 'Больше 16']\n",
        "\n",
        "GP5 = len(temp_list)/len(data1)\n",
        "\n",
        "dataForInpt = {'Меньше 1': [GP1], '1-3': [GP2], '4-7':[GP3], '8-15':[GP4], 'Больше 16':[GP5]}\n",
        "data3 = pd.DataFrame.from_dict(dataForInpt)\n",
        "\n",
        "data3.plot.bar(stacked=True, title ='VEHICLE_AGE %',figsize=(10,5))\n",
        "plt.show()\n",
        "plt.close()\n",
        "\n",
        "data3.rename(index={0: 'Vehicle age'})"
      ],
      "execution_count": null,
      "outputs": [
        {
          "output_type": "stream",
          "text": [
            "/usr/local/lib/python3.7/dist-packages/ipykernel_launcher.py:2: SettingWithCopyWarning: \n",
            "A value is trying to be set on a copy of a slice from a DataFrame.\n",
            "Try using .loc[row_indexer,col_indexer] = value instead\n",
            "\n",
            "See the caveats in the documentation: https://pandas.pydata.org/pandas-docs/stable/user_guide/indexing.html#returning-a-view-versus-a-copy\n",
            "  \n"
          ],
          "name": "stderr"
        },
        {
          "output_type": "display_data",
          "data": {
            "image/png": "[encoded data removed]",
            "text/plain": [
              "<Figure size 720x360 with 1 Axes>"
            ]
          },
          "metadata": {
            "tags": [],
            "needs_background": "light"
          }
        },
        {
          "output_type": "execute_result",
          "data": {
            "text/html": [
              "<div>\n",
              "<style scoped>\n",
              "    .dataframe tbody tr th:only-of-type {\n",
              "        vertical-align: middle;\n",
              "    }\n",
              "\n",
              "    .dataframe tbody tr th {\n",
              "        vertical-align: top;\n",
              "    }\n",
              "\n",
              "    .dataframe thead th {\n",
              "        text-align: right;\n",
              "    }\n",
              "</style>\n",
              "<table border=\"1\" class=\"dataframe\">\n",
              "  <thead>\n",
              "    <tr style=\"text-align: right;\">\n",
              "      <th></th>\n",
              "      <th>Меньше 1</th>\n",
              "      <th>1-3</th>\n",
              "      <th>4-7</th>\n",
              "      <th>8-15</th>\n",
              "      <th>Больше 16</th>\n",
              "    </tr>\n",
              "  </thead>\n",
              "  <tbody>\n",
              "    <tr>\n",
              "      <th>Vehicle age</th>\n",
              "      <td>0.0</td>\n",
              "      <td>0.362345</td>\n",
              "      <td>0.063365</td>\n",
              "      <td>0.436999</td>\n",
              "      <td>0.136926</td>\n",
              "    </tr>\n",
              "  </tbody>\n",
              "</table>\n",
              "</div>"
            ],
            "text/plain": [
              "             Меньше 1       1-3       4-7      8-15  Больше 16\n",
              "Vehicle age       0.0  0.362345  0.063365  0.436999   0.136926"
            ]
          },
          "metadata": {
            "tags": []
          },
          "execution_count": 24
        }
      ]
    },
    {
      "cell_type": "markdown",
      "metadata": {
        "id": "FsAXmjwIgmBB"
      },
      "source": [
        "Как мы видим, владельцы автомобилей 8-15 летней давности чаще всего обращаются по страховым случаям"
      ]
    },
    {
      "cell_type": "markdown",
      "metadata": {
        "id": "JEsfzShhg5ms"
      },
      "source": [
        "Теперь анализиируем данные по возрасту автовладельцев"
      ]
    },
    {
      "cell_type": "code",
      "metadata": {
        "colab": {
          "base_uri": "https://localhost:8080/",
          "height": 495
        },
        "id": "O6s1AzU9g4mq",
        "outputId": "ee3a2974-7db9-4b94-cffb-fdc82311a056"
      },
      "source": [
        "data1 = data[data['CLAIM_IND'] == 1]\n",
        "data1['Age group'] = pd.cut(data1['AGE'], [0,19,27,40,61,110], labels=['Меньше 20', '20-27', '28-40', '41-60', 'Больше 61'])\n",
        "\n",
        "temp_list = [x for x in data1['Age group'] if x == 'Меньше 20']\n",
        "GP1 = len(temp_list)/len(data1)\n",
        "temp_list = [x for x in data1['Age group'] if x == '20-27']\n",
        "GP2 = len(temp_list)/len(data1)\n",
        "temp_list = [x for x in data1['Age group'] if x == '28-40']\n",
        "GP3 = len(temp_list)/len(data1)\n",
        "temp_list = [x for x in data1['Age group'] if x == '41-60']\n",
        "GP4 = len(temp_list)/len(data1)\n",
        "temp_list = [x for x in data1['Age group'] if x == 'Больше 61']\n",
        "GP5 = len(temp_list)/len(data1)\n",
        "\n",
        "dataForInpt = {'Меньше 20': [GP1], '20-27': [GP2], '28-40':[GP3], '41-60':[GP4], 'Больше 61':[GP5]}\n",
        "data3 = pd.DataFrame.from_dict(dataForInpt)\n",
        "\n",
        "data3.plot.bar(stacked=True, title ='AGE %',figsize=(10,5))\n",
        "plt.show()\n",
        "plt.close()\n",
        "\n",
        "data3.rename(index={0: 'Age group'})"
      ],
      "execution_count": null,
      "outputs": [
        {
          "output_type": "stream",
          "text": [
            "/usr/local/lib/python3.7/dist-packages/ipykernel_launcher.py:2: SettingWithCopyWarning: \n",
            "A value is trying to be set on a copy of a slice from a DataFrame.\n",
            "Try using .loc[row_indexer,col_indexer] = value instead\n",
            "\n",
            "See the caveats in the documentation: https://pandas.pydata.org/pandas-docs/stable/user_guide/indexing.html#returning-a-view-versus-a-copy\n",
            "  \n"
          ],
          "name": "stderr"
        },
        {
          "output_type": "display_data",
          "data": {
            "image/png": "[encoded data removed]",
            "text/plain": [
              "<Figure size 720x360 with 1 Axes>"
            ]
          },
          "metadata": {
            "tags": [],
            "needs_background": "light"
          }
        },
        {
          "output_type": "execute_result",
          "data": {
            "text/html": [
              "<div>\n",
              "<style scoped>\n",
              "    .dataframe tbody tr th:only-of-type {\n",
              "        vertical-align: middle;\n",
              "    }\n",
              "\n",
              "    .dataframe tbody tr th {\n",
              "        vertical-align: top;\n",
              "    }\n",
              "\n",
              "    .dataframe thead th {\n",
              "        text-align: right;\n",
              "    }\n",
              "</style>\n",
              "<table border=\"1\" class=\"dataframe\">\n",
              "  <thead>\n",
              "    <tr style=\"text-align: right;\">\n",
              "      <th></th>\n",
              "      <th>Меньше 20</th>\n",
              "      <th>20-27</th>\n",
              "      <th>28-40</th>\n",
              "      <th>41-60</th>\n",
              "      <th>Больше 61</th>\n",
              "    </tr>\n",
              "  </thead>\n",
              "  <tbody>\n",
              "    <tr>\n",
              "      <th>Age group</th>\n",
              "      <td>0.007647</td>\n",
              "      <td>0.021486</td>\n",
              "      <td>0.171158</td>\n",
              "      <td>0.546613</td>\n",
              "      <td>0.253095</td>\n",
              "    </tr>\n",
              "  </tbody>\n",
              "</table>\n",
              "</div>"
            ],
            "text/plain": [
              "           Меньше 20     20-27     28-40     41-60  Больше 61\n",
              "Age group   0.007647  0.021486  0.171158  0.546613   0.253095"
            ]
          },
          "metadata": {
            "tags": []
          },
          "execution_count": 25
        }
      ]
    },
    {
      "cell_type": "markdown",
      "metadata": {
        "id": "y7LEkeXihn-s"
      },
      "source": [
        "Как мы видим, автовладельцы в возрасте от 41 до 60 лет чаще обращаются по страховым случаям"
      ]
    },
    {
      "cell_type": "markdown",
      "metadata": {
        "id": "J1QONfWch_Nj"
      },
      "source": [
        "Проанализируем данные о количестве штрафов автовладельца за последние 10 лет\n",
        "\n",
        "\n"
      ]
    },
    {
      "cell_type": "code",
      "metadata": {
        "colab": {
          "base_uri": "https://localhost:8080/",
          "height": 495
        },
        "id": "rbhh7JXPiFnS",
        "outputId": "560b0a4c-0746-426b-cb11-fd998a5b7a21"
      },
      "source": [
        "data1 = data[data['CLAIM_IND'] == 1]\n",
        "data1['Mvr_tcp'] = pd.cut(data1['MVR_PTS'], [0,1,3,7,15,30,500], labels=['Меньше 1', '1-3', '4-7', '8-15', '15-30', 'Больше 30'])\n",
        "\n",
        "temp_list = [x for x in data1['Mvr_tcp'] if x == 'Меньше 1']\n",
        "GP1 = len(temp_list)/len(data1)\n",
        "temp_list = [x for x in data1['Mvr_tcp'] if x == '1-3']\n",
        "GP2 = len(temp_list)/len(data1)\n",
        "temp_list = [x for x in data1['Mvr_tcp'] if x == '4-7']\n",
        "GP3 = len(temp_list)/len(data1)\n",
        "temp_list = [x for x in data1['Mvr_tcp'] if x == '8-15']\n",
        "GP4 = len(temp_list)/len(data1)\n",
        "temp_list = [x for x in data1['Mvr_tcp'] if x == '15-30']\n",
        "GP5 = len(temp_list)/len(data1)\n",
        "temp_list = [x for x in data1['Mvr_tcp'] if x == 'Больше 30']\n",
        "GP6 = len(temp_list)/len(data1)\n",
        "\n",
        "dataForInpt = {'Меньше 1': [GP1], '1-3': [GP2], '4-7':[GP3], '8-15':[GP4], '15-30':[GP5], 'Больше 30':[GP6]}\n",
        "data3 = pd.DataFrame.from_dict(dataForInpt)\n",
        "\n",
        "data3.plot.bar(stacked=True, title ='MVR_PTC %',figsize=(10,5))\n",
        "plt.show()\n",
        "plt.close()\n",
        "\n",
        "data3.rename(index={0: 'Mvr_tcp'})"
      ],
      "execution_count": null,
      "outputs": [
        {
          "output_type": "stream",
          "text": [
            "/usr/local/lib/python3.7/dist-packages/ipykernel_launcher.py:2: SettingWithCopyWarning: \n",
            "A value is trying to be set on a copy of a slice from a DataFrame.\n",
            "Try using .loc[row_indexer,col_indexer] = value instead\n",
            "\n",
            "See the caveats in the documentation: https://pandas.pydata.org/pandas-docs/stable/user_guide/indexing.html#returning-a-view-versus-a-copy\n",
            "  \n"
          ],
          "name": "stderr"
        },
        {
          "output_type": "display_data",
          "data": {
            "image/png": "[encoded data removed]",
            "text/plain": [
              "<Figure size 720x360 with 1 Axes>"
            ]
          },
          "metadata": {
            "tags": [],
            "needs_background": "light"
          }
        },
        {
          "output_type": "execute_result",
          "data": {
            "text/html": [
              "<div>\n",
              "<style scoped>\n",
              "    .dataframe tbody tr th:only-of-type {\n",
              "        vertical-align: middle;\n",
              "    }\n",
              "\n",
              "    .dataframe tbody tr th {\n",
              "        vertical-align: top;\n",
              "    }\n",
              "\n",
              "    .dataframe thead th {\n",
              "        text-align: right;\n",
              "    }\n",
              "</style>\n",
              "<table border=\"1\" class=\"dataframe\">\n",
              "  <thead>\n",
              "    <tr style=\"text-align: right;\">\n",
              "      <th></th>\n",
              "      <th>Меньше 1</th>\n",
              "      <th>1-3</th>\n",
              "      <th>4-7</th>\n",
              "      <th>8-15</th>\n",
              "      <th>15-30</th>\n",
              "      <th>Больше 30</th>\n",
              "    </tr>\n",
              "  </thead>\n",
              "  <tbody>\n",
              "    <tr>\n",
              "      <th>Mvr_tcp</th>\n",
              "      <td>0.050983</td>\n",
              "      <td>0.323379</td>\n",
              "      <td>0.379825</td>\n",
              "      <td>0.124181</td>\n",
              "      <td>0.000364</td>\n",
              "      <td>0.0</td>\n",
              "    </tr>\n",
              "  </tbody>\n",
              "</table>\n",
              "</div>"
            ],
            "text/plain": [
              "         Меньше 1       1-3       4-7      8-15     15-30  Больше 30\n",
              "Mvr_tcp  0.050983  0.323379  0.379825  0.124181  0.000364        0.0"
            ]
          },
          "metadata": {
            "tags": []
          },
          "execution_count": 26
        }
      ]
    },
    {
      "cell_type": "markdown",
      "metadata": {
        "id": "zNjOcBJcw19b"
      },
      "source": [
        "Как мы видим, люди, с количество штрафом 4-7 чаще обращаются по страховому случаю"
      ]
    },
    {
      "cell_type": "code",
      "metadata": {
        "id": "8gmFKO3030If",
        "colab": {
          "base_uri": "https://localhost:8080/"
        },
        "outputId": "e8719a42-1725-4200-f934-e54f54086929"
      },
      "source": [
        "data = data.drop(columns=['ID'])\n",
        "data = data.drop(columns=['JOB'])\n",
        "\n",
        "data.columns"
      ],
      "execution_count": null,
      "outputs": [
        {
          "output_type": "execute_result",
          "data": {
            "text/plain": [
              "Index(['CHILD_DRIV', 'AGE', 'CHILDREN', 'YOJ', 'INCOME', 'HOUSE_VAL', 'STATUS',\n",
              "       'GENDER', 'EDU_LEVEL', 'DISTANCE', 'CAR_USE', 'VEHICLE_VAL',\n",
              "       'VEHICLE_TYPE', 'CLM_FREQ', 'REVOKED', 'MVR_PTS', 'CLAIM_AMOUNT',\n",
              "       'VEHICLE_AGE', 'CLAIM_IND', 'AREA', 'STATE_CODE'],\n",
              "      dtype='object')"
            ]
          },
          "metadata": {
            "tags": []
          },
          "execution_count": 27
        }
      ]
    },
    {
      "cell_type": "code",
      "metadata": {
        "id": "0iuCy0jiEb1h"
      },
      "source": [
        "data['STATUS'] = data['STATUS'].map({'No': 0, 'Yes': 1})\n",
        "data['GENDER'] = data['GENDER'].map({'Mal': 0, 'Fem': 1})\n",
        "data['EDU_LEVEL'] = data['EDU_LEVEL'].map({'Bachelors': 0, 'High School': 1, 'PhD': 2, 'Masters': 3})\n",
        "data['REVOKED'] = data['REVOKED'].map({'No': 0, 'Yes': 1})\n",
        "data['CAR_USE'] = data['CAR_USE'].map({'Private': 0, 'Commercial': 1})\n",
        "data['AREA'] = data['AREA'].map({'Highly Urban/ Urban': 0, 'Highly Rural/ Rural': 1})\n",
        "data['VEHICLE_TYPE'] = data['VEHICLE_TYPE'].map({'Family': 0, 'Minivan': 1, 'Sports Car': 2, 'Van': 3,\n",
        "                                          'Panel Truck': 4, 'Pickup': 5, 'Racing': 6, 'unknown': 9})\n",
        "data['STATE_CODE'] = data['STATE_CODE'].map({'Berlin': 0, 'Thueringen': 1, 'Bayern': 2, 'Nordrhein-Westfalen': 3,\n",
        "                                          'Sachsen-Anhalt': 4, 'Mecklenburg-Vorpomme': 5, 'Hessen': 6, 'Sachsen': 7, 'Brandenburg': 8})\n",
        "\n",
        "# Удаляем пустые значения\n",
        "data['STATE_CODE'] = data['STATE_CODE'].fillna(-1)\n",
        "\n",
        "# Меняем тип переменных\n",
        "data['STATE_CODE'] = data['STATE_CODE'].astype(int)\n",
        "data['INCOME'] = data['INCOME'].astype(float)\n",
        "data['HOUSE_VAL'] = data['HOUSE_VAL'].astype(float)\n",
        "data['CLAIM_AMOUNT'] = data['CLAIM_AMOUNT'].astype(float)\n"
      ],
      "execution_count": null,
      "outputs": []
    },
    {
      "cell_type": "markdown",
      "metadata": {
        "id": "d9HgxMCrx--V"
      },
      "source": [
        "Проанализируем данные о месте жительствва автовладельца\n"
      ]
    },
    {
      "cell_type": "code",
      "metadata": {
        "id": "5eTJkHGWx_g_",
        "colab": {
          "base_uri": "https://localhost:8080/",
          "height": 495
        },
        "outputId": "cdbcc8ce-03c6-43cf-93e8-0eb047dcf2ab"
      },
      "source": [
        "data1 = data[data['CLAIM_IND'] == 1]\n",
        "data1['Area'] = pd.cut(data1['AREA'], ['0', '1'], labels=['Highly Urban/ Urban'])\n",
        "\n",
        "temp_list = [x for x in data1['Area'] if x == 'Highly Urban/ Urban']\n",
        "GP1 = len(temp_list)/len(data1)\n",
        "temp_list = [x for x in data1['Area'] if x != 'Highly Urban/ Urban']\n",
        "GP2 = len(temp_list)/len(data1)\n",
        "\n",
        "dataForInpt = {'Highly Urban/ Urban': [GP1], 'Highly Rural/ Rural': [GP2]}\n",
        "data3 = pd.DataFrame.from_dict(dataForInpt)\n",
        "\n",
        "data3.plot.bar(stacked=True, title ='AREA %',figsize=(10,5))\n",
        "plt.show()\n",
        "plt.close()\n",
        "\n",
        "data3.rename(index={0: 'Area'})"
      ],
      "execution_count": null,
      "outputs": [
        {
          "output_type": "stream",
          "text": [
            "/usr/local/lib/python3.7/dist-packages/ipykernel_launcher.py:2: SettingWithCopyWarning: \n",
            "A value is trying to be set on a copy of a slice from a DataFrame.\n",
            "Try using .loc[row_indexer,col_indexer] = value instead\n",
            "\n",
            "See the caveats in the documentation: https://pandas.pydata.org/pandas-docs/stable/user_guide/indexing.html#returning-a-view-versus-a-copy\n",
            "  \n"
          ],
          "name": "stderr"
        },
        {
          "output_type": "display_data",
          "data": {
            "image/png": "[encoded data removed]",
            "text/plain": [
              "<Figure size 720x360 with 1 Axes>"
            ]
          },
          "metadata": {
            "tags": [],
            "needs_background": "light"
          }
        },
        {
          "output_type": "execute_result",
          "data": {
            "text/html": [
              "<div>\n",
              "<style scoped>\n",
              "    .dataframe tbody tr th:only-of-type {\n",
              "        vertical-align: middle;\n",
              "    }\n",
              "\n",
              "    .dataframe tbody tr th {\n",
              "        vertical-align: top;\n",
              "    }\n",
              "\n",
              "    .dataframe thead th {\n",
              "        text-align: right;\n",
              "    }\n",
              "</style>\n",
              "<table border=\"1\" class=\"dataframe\">\n",
              "  <thead>\n",
              "    <tr style=\"text-align: right;\">\n",
              "      <th></th>\n",
              "      <th>Highly Urban/ Urban</th>\n",
              "      <th>Highly Rural/ Rural</th>\n",
              "    </tr>\n",
              "  </thead>\n",
              "  <tbody>\n",
              "    <tr>\n",
              "      <th>Area</th>\n",
              "      <td>0.048798</td>\n",
              "      <td>0.951202</td>\n",
              "    </tr>\n",
              "  </tbody>\n",
              "</table>\n",
              "</div>"
            ],
            "text/plain": [
              "      Highly Urban/ Urban  Highly Rural/ Rural\n",
              "Area             0.048798             0.951202"
            ]
          },
          "metadata": {
            "tags": []
          },
          "execution_count": 29
        }
      ]
    },
    {
      "cell_type": "code",
      "metadata": {
        "id": "5EV0B2OVlFj4",
        "colab": {
          "base_uri": "https://localhost:8080/"
        },
        "outputId": "e0f41932-bf61-4270-d3f2-ac24820a787d"
      },
      "source": [
        "data.info()\n",
        "data.isnull().any().any()"
      ],
      "execution_count": null,
      "outputs": [
        {
          "output_type": "stream",
          "text": [
            "<class 'pandas.core.frame.DataFrame'>\n",
            "RangeIndex: 10300 entries, 0 to 10299\n",
            "Data columns (total 21 columns):\n",
            " #   Column        Non-Null Count  Dtype  \n",
            "---  ------        --------------  -----  \n",
            " 0   CHILD_DRIV    10300 non-null  int64  \n",
            " 1   AGE           10300 non-null  float64\n",
            " 2   CHILDREN      10300 non-null  int64  \n",
            " 3   YOJ           10300 non-null  float64\n",
            " 4   INCOME        10300 non-null  float64\n",
            " 5   HOUSE_VAL     10300 non-null  float64\n",
            " 6   STATUS        10300 non-null  int64  \n",
            " 7   GENDER        10300 non-null  int64  \n",
            " 8   EDU_LEVEL     10300 non-null  int64  \n",
            " 9   DISTANCE      10300 non-null  int64  \n",
            " 10  CAR_USE       10300 non-null  int64  \n",
            " 11  VEHICLE_VAL   10300 non-null  object \n",
            " 12  VEHICLE_TYPE  10300 non-null  int64  \n",
            " 13  CLM_FREQ      10300 non-null  int64  \n",
            " 14  REVOKED       10300 non-null  int64  \n",
            " 15  MVR_PTS       10300 non-null  int64  \n",
            " 16  CLAIM_AMOUNT  10300 non-null  float64\n",
            " 17  VEHICLE_AGE   10300 non-null  float64\n",
            " 18  CLAIM_IND     10300 non-null  int64  \n",
            " 19  AREA          10300 non-null  int64  \n",
            " 20  STATE_CODE    10300 non-null  int64  \n",
            "dtypes: float64(6), int64(14), object(1)\n",
            "memory usage: 1.7+ MB\n"
          ],
          "name": "stdout"
        },
        {
          "output_type": "execute_result",
          "data": {
            "text/plain": [
              "False"
            ]
          },
          "metadata": {
            "tags": []
          },
          "execution_count": 30
        }
      ]
    },
    {
      "cell_type": "code",
      "metadata": {
        "id": "qXMWLE9LlJpc",
        "colab": {
          "base_uri": "https://localhost:8080/",
          "height": 223
        },
        "outputId": "0617a01d-2c0c-4268-e689-f1ce34474e9a"
      },
      "source": [
        "data.head()"
      ],
      "execution_count": null,
      "outputs": [
        {
          "output_type": "execute_result",
          "data": {
            "text/html": [
              "<div>\n",
              "<style scoped>\n",
              "    .dataframe tbody tr th:only-of-type {\n",
              "        vertical-align: middle;\n",
              "    }\n",
              "\n",
              "    .dataframe tbody tr th {\n",
              "        vertical-align: top;\n",
              "    }\n",
              "\n",
              "    .dataframe thead th {\n",
              "        text-align: right;\n",
              "    }\n",
              "</style>\n",
              "<table border=\"1\" class=\"dataframe\">\n",
              "  <thead>\n",
              "    <tr style=\"text-align: right;\">\n",
              "      <th></th>\n",
              "      <th>CHILD_DRIV</th>\n",
              "      <th>AGE</th>\n",
              "      <th>CHILDREN</th>\n",
              "      <th>YOJ</th>\n",
              "      <th>INCOME</th>\n",
              "      <th>HOUSE_VAL</th>\n",
              "      <th>STATUS</th>\n",
              "      <th>GENDER</th>\n",
              "      <th>EDU_LEVEL</th>\n",
              "      <th>DISTANCE</th>\n",
              "      <th>CAR_USE</th>\n",
              "      <th>VEHICLE_VAL</th>\n",
              "      <th>VEHICLE_TYPE</th>\n",
              "      <th>CLM_FREQ</th>\n",
              "      <th>REVOKED</th>\n",
              "      <th>MVR_PTS</th>\n",
              "      <th>CLAIM_AMOUNT</th>\n",
              "      <th>VEHICLE_AGE</th>\n",
              "      <th>CLAIM_IND</th>\n",
              "      <th>AREA</th>\n",
              "      <th>STATE_CODE</th>\n",
              "    </tr>\n",
              "  </thead>\n",
              "  <tbody>\n",
              "    <tr>\n",
              "      <th>0</th>\n",
              "      <td>0</td>\n",
              "      <td>67.0</td>\n",
              "      <td>0</td>\n",
              "      <td>14.0</td>\n",
              "      <td>53841.0</td>\n",
              "      <td>359229.0</td>\n",
              "      <td>0</td>\n",
              "      <td>0</td>\n",
              "      <td>0</td>\n",
              "      <td>71</td>\n",
              "      <td>0</td>\n",
              "      <td>21970</td>\n",
              "      <td>0</td>\n",
              "      <td>0</td>\n",
              "      <td>0</td>\n",
              "      <td>2</td>\n",
              "      <td>294.0</td>\n",
              "      <td>12.0</td>\n",
              "      <td>0</td>\n",
              "      <td>0</td>\n",
              "      <td>0</td>\n",
              "    </tr>\n",
              "    <tr>\n",
              "      <th>1</th>\n",
              "      <td>0</td>\n",
              "      <td>26.0</td>\n",
              "      <td>1</td>\n",
              "      <td>13.0</td>\n",
              "      <td>16999.0</td>\n",
              "      <td>265527.0</td>\n",
              "      <td>1</td>\n",
              "      <td>1</td>\n",
              "      <td>1</td>\n",
              "      <td>50</td>\n",
              "      <td>0</td>\n",
              "      <td>4010</td>\n",
              "      <td>9</td>\n",
              "      <td>4</td>\n",
              "      <td>0</td>\n",
              "      <td>7</td>\n",
              "      <td>292.0</td>\n",
              "      <td>12.0</td>\n",
              "      <td>0</td>\n",
              "      <td>0</td>\n",
              "      <td>1</td>\n",
              "    </tr>\n",
              "    <tr>\n",
              "      <th>2</th>\n",
              "      <td>0</td>\n",
              "      <td>71.0</td>\n",
              "      <td>0</td>\n",
              "      <td>17.0</td>\n",
              "      <td>960.0</td>\n",
              "      <td>323918.0</td>\n",
              "      <td>1</td>\n",
              "      <td>0</td>\n",
              "      <td>1</td>\n",
              "      <td>77</td>\n",
              "      <td>0</td>\n",
              "      <td>15440</td>\n",
              "      <td>1</td>\n",
              "      <td>0</td>\n",
              "      <td>0</td>\n",
              "      <td>0</td>\n",
              "      <td>387.0</td>\n",
              "      <td>8.0</td>\n",
              "      <td>0</td>\n",
              "      <td>0</td>\n",
              "      <td>2</td>\n",
              "    </tr>\n",
              "    <tr>\n",
              "      <th>3</th>\n",
              "      <td>0</td>\n",
              "      <td>68.0</td>\n",
              "      <td>0</td>\n",
              "      <td>15.0</td>\n",
              "      <td>115546.0</td>\n",
              "      <td>361705.0</td>\n",
              "      <td>1</td>\n",
              "      <td>1</td>\n",
              "      <td>2</td>\n",
              "      <td>81</td>\n",
              "      <td>0</td>\n",
              "      <td>18000</td>\n",
              "      <td>9</td>\n",
              "      <td>4</td>\n",
              "      <td>1</td>\n",
              "      <td>3</td>\n",
              "      <td>308.0</td>\n",
              "      <td>19.0</td>\n",
              "      <td>0</td>\n",
              "      <td>0</td>\n",
              "      <td>2</td>\n",
              "    </tr>\n",
              "    <tr>\n",
              "      <th>4</th>\n",
              "      <td>0</td>\n",
              "      <td>32.0</td>\n",
              "      <td>1</td>\n",
              "      <td>15.0</td>\n",
              "      <td>125861.0</td>\n",
              "      <td>70668.0</td>\n",
              "      <td>0</td>\n",
              "      <td>1</td>\n",
              "      <td>0</td>\n",
              "      <td>91</td>\n",
              "      <td>1</td>\n",
              "      <td>17430</td>\n",
              "      <td>2</td>\n",
              "      <td>0</td>\n",
              "      <td>0</td>\n",
              "      <td>0</td>\n",
              "      <td>3221.0</td>\n",
              "      <td>9.0</td>\n",
              "      <td>1</td>\n",
              "      <td>0</td>\n",
              "      <td>2</td>\n",
              "    </tr>\n",
              "  </tbody>\n",
              "</table>\n",
              "</div>"
            ],
            "text/plain": [
              "   CHILD_DRIV   AGE  CHILDREN   YOJ    INCOME  HOUSE_VAL  STATUS  GENDER  \\\n",
              "0           0  67.0         0  14.0   53841.0   359229.0       0       0   \n",
              "1           0  26.0         1  13.0   16999.0   265527.0       1       1   \n",
              "2           0  71.0         0  17.0     960.0   323918.0       1       0   \n",
              "3           0  68.0         0  15.0  115546.0   361705.0       1       1   \n",
              "4           0  32.0         1  15.0  125861.0    70668.0       0       1   \n",
              "\n",
              "   EDU_LEVEL  DISTANCE  CAR_USE VEHICLE_VAL  VEHICLE_TYPE  CLM_FREQ  REVOKED  \\\n",
              "0          0        71        0       21970             0         0        0   \n",
              "1          1        50        0        4010             9         4        0   \n",
              "2          1        77        0       15440             1         0        0   \n",
              "3          2        81        0       18000             9         4        1   \n",
              "4          0        91        1       17430             2         0        0   \n",
              "\n",
              "   MVR_PTS  CLAIM_AMOUNT  VEHICLE_AGE  CLAIM_IND  AREA  STATE_CODE  \n",
              "0        2         294.0         12.0          0     0           0  \n",
              "1        7         292.0         12.0          0     0           1  \n",
              "2        0         387.0          8.0          0     0           2  \n",
              "3        3         308.0         19.0          0     0           2  \n",
              "4        0        3221.0          9.0          1     0           2  "
            ]
          },
          "metadata": {
            "tags": []
          },
          "execution_count": 31
        }
      ]
    },
    {
      "cell_type": "code",
      "metadata": {
        "id": "KteapfAZlLpr",
        "colab": {
          "base_uri": "https://localhost:8080/",
          "height": 315
        },
        "outputId": "99d05d28-fe9e-48c1-dafb-340566026596"
      },
      "source": [
        "data.describe()"
      ],
      "execution_count": null,
      "outputs": [
        {
          "output_type": "execute_result",
          "data": {
            "text/html": [
              "<div>\n",
              "<style scoped>\n",
              "    .dataframe tbody tr th:only-of-type {\n",
              "        vertical-align: middle;\n",
              "    }\n",
              "\n",
              "    .dataframe tbody tr th {\n",
              "        vertical-align: top;\n",
              "    }\n",
              "\n",
              "    .dataframe thead th {\n",
              "        text-align: right;\n",
              "    }\n",
              "</style>\n",
              "<table border=\"1\" class=\"dataframe\">\n",
              "  <thead>\n",
              "    <tr style=\"text-align: right;\">\n",
              "      <th></th>\n",
              "      <th>CHILD_DRIV</th>\n",
              "      <th>AGE</th>\n",
              "      <th>CHILDREN</th>\n",
              "      <th>YOJ</th>\n",
              "      <th>INCOME</th>\n",
              "      <th>HOUSE_VAL</th>\n",
              "      <th>STATUS</th>\n",
              "      <th>GENDER</th>\n",
              "      <th>EDU_LEVEL</th>\n",
              "      <th>DISTANCE</th>\n",
              "      <th>CAR_USE</th>\n",
              "      <th>VEHICLE_TYPE</th>\n",
              "      <th>CLM_FREQ</th>\n",
              "      <th>REVOKED</th>\n",
              "      <th>MVR_PTS</th>\n",
              "      <th>CLAIM_AMOUNT</th>\n",
              "      <th>VEHICLE_AGE</th>\n",
              "      <th>CLAIM_IND</th>\n",
              "      <th>AREA</th>\n",
              "      <th>STATE_CODE</th>\n",
              "    </tr>\n",
              "  </thead>\n",
              "  <tbody>\n",
              "    <tr>\n",
              "      <th>count</th>\n",
              "      <td>10300.000000</td>\n",
              "      <td>10300.000000</td>\n",
              "      <td>10300.000000</td>\n",
              "      <td>10300.000000</td>\n",
              "      <td>10300.000000</td>\n",
              "      <td>1.030000e+04</td>\n",
              "      <td>10300.000000</td>\n",
              "      <td>10300.000000</td>\n",
              "      <td>10300.000000</td>\n",
              "      <td>10300.000000</td>\n",
              "      <td>10300.000000</td>\n",
              "      <td>10300.000000</td>\n",
              "      <td>10300.000000</td>\n",
              "      <td>10300.000000</td>\n",
              "      <td>10300.000000</td>\n",
              "      <td>10300.000000</td>\n",
              "      <td>10300.000000</td>\n",
              "      <td>10300.000000</td>\n",
              "      <td>10300.000000</td>\n",
              "      <td>10300.000000</td>\n",
              "    </tr>\n",
              "    <tr>\n",
              "      <th>mean</th>\n",
              "      <td>0.170000</td>\n",
              "      <td>53.798058</td>\n",
              "      <td>0.720971</td>\n",
              "      <td>13.555146</td>\n",
              "      <td>59034.467864</td>\n",
              "      <td>4.015152e+05</td>\n",
              "      <td>0.600874</td>\n",
              "      <td>0.538350</td>\n",
              "      <td>1.220000</td>\n",
              "      <td>78.419417</td>\n",
              "      <td>0.367767</td>\n",
              "      <td>4.469126</td>\n",
              "      <td>1.808641</td>\n",
              "      <td>0.122427</td>\n",
              "      <td>3.202621</td>\n",
              "      <td>1810.642718</td>\n",
              "      <td>9.845146</td>\n",
              "      <td>0.266602</td>\n",
              "      <td>0.201165</td>\n",
              "      <td>2.868544</td>\n",
              "    </tr>\n",
              "    <tr>\n",
              "      <th>std</th>\n",
              "      <td>0.507381</td>\n",
              "      <td>13.167728</td>\n",
              "      <td>1.116310</td>\n",
              "      <td>4.013180</td>\n",
              "      <td>48223.733178</td>\n",
              "      <td>2.375266e+05</td>\n",
              "      <td>0.489743</td>\n",
              "      <td>0.498551</td>\n",
              "      <td>1.059887</td>\n",
              "      <td>15.869675</td>\n",
              "      <td>0.482221</td>\n",
              "      <td>3.139028</td>\n",
              "      <td>1.528187</td>\n",
              "      <td>0.327794</td>\n",
              "      <td>2.585899</td>\n",
              "      <td>4725.594945</td>\n",
              "      <td>5.806924</td>\n",
              "      <td>0.442204</td>\n",
              "      <td>0.400891</td>\n",
              "      <td>2.091926</td>\n",
              "    </tr>\n",
              "    <tr>\n",
              "      <th>min</th>\n",
              "      <td>0.000000</td>\n",
              "      <td>5.000000</td>\n",
              "      <td>0.000000</td>\n",
              "      <td>3.000000</td>\n",
              "      <td>560.000000</td>\n",
              "      <td>0.000000e+00</td>\n",
              "      <td>0.000000</td>\n",
              "      <td>0.000000</td>\n",
              "      <td>0.000000</td>\n",
              "      <td>50.000000</td>\n",
              "      <td>0.000000</td>\n",
              "      <td>0.000000</td>\n",
              "      <td>0.000000</td>\n",
              "      <td>0.000000</td>\n",
              "      <td>0.000000</td>\n",
              "      <td>115.000000</td>\n",
              "      <td>-1.000000</td>\n",
              "      <td>0.000000</td>\n",
              "      <td>0.000000</td>\n",
              "      <td>-1.000000</td>\n",
              "    </tr>\n",
              "    <tr>\n",
              "      <th>25%</th>\n",
              "      <td>0.000000</td>\n",
              "      <td>45.000000</td>\n",
              "      <td>0.000000</td>\n",
              "      <td>12.000000</td>\n",
              "      <td>23573.000000</td>\n",
              "      <td>2.217335e+05</td>\n",
              "      <td>0.000000</td>\n",
              "      <td>0.000000</td>\n",
              "      <td>0.000000</td>\n",
              "      <td>67.000000</td>\n",
              "      <td>0.000000</td>\n",
              "      <td>1.000000</td>\n",
              "      <td>0.000000</td>\n",
              "      <td>0.000000</td>\n",
              "      <td>2.000000</td>\n",
              "      <td>278.000000</td>\n",
              "      <td>3.000000</td>\n",
              "      <td>0.000000</td>\n",
              "      <td>0.000000</td>\n",
              "      <td>2.000000</td>\n",
              "    </tr>\n",
              "    <tr>\n",
              "      <th>50%</th>\n",
              "      <td>0.000000</td>\n",
              "      <td>54.000000</td>\n",
              "      <td>0.000000</td>\n",
              "      <td>15.000000</td>\n",
              "      <td>51407.500000</td>\n",
              "      <td>3.710070e+05</td>\n",
              "      <td>1.000000</td>\n",
              "      <td>1.000000</td>\n",
              "      <td>1.000000</td>\n",
              "      <td>78.000000</td>\n",
              "      <td>0.000000</td>\n",
              "      <td>4.000000</td>\n",
              "      <td>2.000000</td>\n",
              "      <td>0.000000</td>\n",
              "      <td>3.000000</td>\n",
              "      <td>323.000000</td>\n",
              "      <td>10.000000</td>\n",
              "      <td>0.000000</td>\n",
              "      <td>0.000000</td>\n",
              "      <td>2.000000</td>\n",
              "    </tr>\n",
              "    <tr>\n",
              "      <th>75%</th>\n",
              "      <td>0.000000</td>\n",
              "      <td>63.000000</td>\n",
              "      <td>1.000000</td>\n",
              "      <td>16.000000</td>\n",
              "      <td>84135.000000</td>\n",
              "      <td>5.457458e+05</td>\n",
              "      <td>1.000000</td>\n",
              "      <td>1.000000</td>\n",
              "      <td>2.000000</td>\n",
              "      <td>89.000000</td>\n",
              "      <td>1.000000</td>\n",
              "      <td>9.000000</td>\n",
              "      <td>3.000000</td>\n",
              "      <td>0.000000</td>\n",
              "      <td>5.000000</td>\n",
              "      <td>1445.750000</td>\n",
              "      <td>14.000000</td>\n",
              "      <td>1.000000</td>\n",
              "      <td>0.000000</td>\n",
              "      <td>4.000000</td>\n",
              "    </tr>\n",
              "    <tr>\n",
              "      <th>max</th>\n",
              "      <td>4.000000</td>\n",
              "      <td>103.000000</td>\n",
              "      <td>5.000000</td>\n",
              "      <td>26.000000</td>\n",
              "      <td>367590.000000</td>\n",
              "      <td>1.586073e+06</td>\n",
              "      <td>1.000000</td>\n",
              "      <td>1.000000</td>\n",
              "      <td>3.000000</td>\n",
              "      <td>187.000000</td>\n",
              "      <td>1.000000</td>\n",
              "      <td>9.000000</td>\n",
              "      <td>7.000000</td>\n",
              "      <td>1.000000</td>\n",
              "      <td>17.000000</td>\n",
              "      <td>123616.000000</td>\n",
              "      <td>30.000000</td>\n",
              "      <td>1.000000</td>\n",
              "      <td>1.000000</td>\n",
              "      <td>8.000000</td>\n",
              "    </tr>\n",
              "  </tbody>\n",
              "</table>\n",
              "</div>"
            ],
            "text/plain": [
              "         CHILD_DRIV           AGE      CHILDREN           YOJ         INCOME  \\\n",
              "count  10300.000000  10300.000000  10300.000000  10300.000000   10300.000000   \n",
              "mean       0.170000     53.798058      0.720971     13.555146   59034.467864   \n",
              "std        0.507381     13.167728      1.116310      4.013180   48223.733178   \n",
              "min        0.000000      5.000000      0.000000      3.000000     560.000000   \n",
              "25%        0.000000     45.000000      0.000000     12.000000   23573.000000   \n",
              "50%        0.000000     54.000000      0.000000     15.000000   51407.500000   \n",
              "75%        0.000000     63.000000      1.000000     16.000000   84135.000000   \n",
              "max        4.000000    103.000000      5.000000     26.000000  367590.000000   \n",
              "\n",
              "          HOUSE_VAL        STATUS        GENDER     EDU_LEVEL      DISTANCE  \\\n",
              "count  1.030000e+04  10300.000000  10300.000000  10300.000000  10300.000000   \n",
              "mean   4.015152e+05      0.600874      0.538350      1.220000     78.419417   \n",
              "std    2.375266e+05      0.489743      0.498551      1.059887     15.869675   \n",
              "min    0.000000e+00      0.000000      0.000000      0.000000     50.000000   \n",
              "25%    2.217335e+05      0.000000      0.000000      0.000000     67.000000   \n",
              "50%    3.710070e+05      1.000000      1.000000      1.000000     78.000000   \n",
              "75%    5.457458e+05      1.000000      1.000000      2.000000     89.000000   \n",
              "max    1.586073e+06      1.000000      1.000000      3.000000    187.000000   \n",
              "\n",
              "            CAR_USE  VEHICLE_TYPE      CLM_FREQ       REVOKED       MVR_PTS  \\\n",
              "count  10300.000000  10300.000000  10300.000000  10300.000000  10300.000000   \n",
              "mean       0.367767      4.469126      1.808641      0.122427      3.202621   \n",
              "std        0.482221      3.139028      1.528187      0.327794      2.585899   \n",
              "min        0.000000      0.000000      0.000000      0.000000      0.000000   \n",
              "25%        0.000000      1.000000      0.000000      0.000000      2.000000   \n",
              "50%        0.000000      4.000000      2.000000      0.000000      3.000000   \n",
              "75%        1.000000      9.000000      3.000000      0.000000      5.000000   \n",
              "max        1.000000      9.000000      7.000000      1.000000     17.000000   \n",
              "\n",
              "        CLAIM_AMOUNT   VEHICLE_AGE     CLAIM_IND          AREA    STATE_CODE  \n",
              "count   10300.000000  10300.000000  10300.000000  10300.000000  10300.000000  \n",
              "mean     1810.642718      9.845146      0.266602      0.201165      2.868544  \n",
              "std      4725.594945      5.806924      0.442204      0.400891      2.091926  \n",
              "min       115.000000     -1.000000      0.000000      0.000000     -1.000000  \n",
              "25%       278.000000      3.000000      0.000000      0.000000      2.000000  \n",
              "50%       323.000000     10.000000      0.000000      0.000000      2.000000  \n",
              "75%      1445.750000     14.000000      1.000000      0.000000      4.000000  \n",
              "max    123616.000000     30.000000      1.000000      1.000000      8.000000  "
            ]
          },
          "metadata": {
            "tags": []
          },
          "execution_count": 32
        }
      ]
    },
    {
      "cell_type": "markdown",
      "metadata": {
        "id": "l5zoN9zHnzSi"
      },
      "source": [
        ""
      ]
    }
  ]
}